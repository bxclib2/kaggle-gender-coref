{
  "nbformat": 4,
  "nbformat_minor": 0,
  "metadata": {
    "colab": {
      "name": "bert_mlp_2.ipynb",
      "version": "0.3.2",
      "provenance": [],
      "collapsed_sections": [],
      "toc_visible": true
    },
    "language_info": {
      "codemirror_mode": {
        "name": "ipython",
        "version": 3
      },
      "file_extension": ".py",
      "mimetype": "text/x-python",
      "name": "python",
      "nbconvert_exporter": "python",
      "pygments_lexer": "ipython3",
      "version": "3.6.5"
    },
    "kernelspec": {
      "display_name": "Python 3",
      "language": "python",
      "name": "python3"
    },
    "accelerator": "GPU"
  },
  "cells": [
    {
      "metadata": {
        "colab_type": "text",
        "id": "MQx8Dyyo72Yz"
      },
      "cell_type": "markdown",
      "source": [
        "# Load data in pandas"
      ]
    },
    {
      "metadata": {
        "colab_type": "code",
        "id": "upPOhN4A2Bp_",
        "colab": {}
      },
      "cell_type": "code",
      "source": [
        "test_data_a = \"https://drive.google.com/uc?id=1rbhlUfffty5pHWPMPKBhR76dz4jp7ZFb&export=download\"\n",
        "\n",
        "train_data_a = \"https://drive.google.com/uc?id=1UU5wVku8v79aEKknkOBMrKNDZrTxUpJZ&export=download\"\n",
        "\n",
        "test_data = \"https://drive.google.com/uc?id=1Yabjq972kr7pA-HST7MP-9gR0xTSOjs_&export=download\"\n",
        "\n",
        "train_data = \"https://drive.google.com/uc?id=1SButl51QPhJ0WbFniXFLFO-YoxzJ0V3p&export=download\"\n",
        "\n",
        "valid_data = \"https://drive.google.com/uc?id=17EONLP166qnOeedOZrIl5xu5zznRH9b3&export=download\"\n",
        "\n",
        "valid_data_a = \"https://drive.google.com/uc?id=11Txw4zCcyYCJ6TCsr90F-LF2_b63HiZ2&export=download\""
      ],
      "execution_count": 0,
      "outputs": []
    },
    {
      "metadata": {
        "colab_type": "code",
        "id": "3CWoV5IINN-T",
        "outputId": "c1a00a5b-1564-42d3-f54a-f76a82f9e39c",
        "colab": {
          "base_uri": "https://localhost:8080/",
          "height": 139
        }
      },
      "cell_type": "code",
      "source": [
        "!pip install pandas==0.24.1 # Google colab pandas is too old to read these pickle\n",
        "!pip install scipy==1.2.1 # Scipy is too low to have the function"
      ],
      "execution_count": 2,
      "outputs": [
        {
          "output_type": "stream",
          "text": [
            "Requirement already satisfied: pandas==0.24.1 in /usr/local/lib/python3.6/dist-packages (0.24.1)\n",
            "Requirement already satisfied: python-dateutil>=2.5.0 in /usr/local/lib/python3.6/dist-packages (from pandas==0.24.1) (2.5.3)\n",
            "Requirement already satisfied: numpy>=1.12.0 in /usr/local/lib/python3.6/dist-packages (from pandas==0.24.1) (1.14.6)\n",
            "Requirement already satisfied: pytz>=2011k in /usr/local/lib/python3.6/dist-packages (from pandas==0.24.1) (2018.9)\n",
            "Requirement already satisfied: six>=1.5 in /usr/local/lib/python3.6/dist-packages (from python-dateutil>=2.5.0->pandas==0.24.1) (1.11.0)\n",
            "Requirement already satisfied: scipy==1.2.1 in /usr/local/lib/python3.6/dist-packages (1.2.1)\n",
            "Requirement already satisfied: numpy>=1.8.2 in /usr/local/lib/python3.6/dist-packages (from scipy==1.2.1) (1.14.6)\n"
          ],
          "name": "stdout"
        }
      ]
    },
    {
      "metadata": {
        "colab_type": "code",
        "id": "EB3jRtj62_7z",
        "colab": {}
      },
      "cell_type": "code",
      "source": [
        "def download(url):\n",
        "  import requests\n",
        "  from io import BytesIO\n",
        "  r = requests.get(url)\n",
        "  data = r.content\n",
        "  df = pd.read_pickle(BytesIO(data),compression = None)\n",
        "  return df"
      ],
      "execution_count": 0,
      "outputs": []
    },
    {
      "metadata": {
        "colab_type": "code",
        "id": "vc5CHFi_3BaI",
        "colab": {}
      },
      "cell_type": "code",
      "source": [
        "import pandas as pd\n",
        "\n",
        "\n",
        "test_data = download(test_data)\n",
        "test_data_a = download(test_data_a)\n",
        "train_data = download(train_data)\n",
        "train_data_a = download(train_data_a)\n",
        "valid_data = download(valid_data)\n",
        "valid_data_a = download(valid_data_a)"
      ],
      "execution_count": 0,
      "outputs": []
    },
    {
      "metadata": {
        "colab_type": "code",
        "id": "trQCDQpV3ETm",
        "outputId": "cd51a837-64df-449c-8c7b-b8e3bdd6acdf",
        "colab": {
          "base_uri": "https://localhost:8080/",
          "height": 156
        }
      },
      "cell_type": "code",
      "source": [
        "train_data.columns"
      ],
      "execution_count": 5,
      "outputs": [
        {
          "output_type": "execute_result",
          "data": {
            "text/plain": [
              "Index(['ID', 'Text', 'Pronoun', 'Pronoun-offset', 'A', 'A-offset', 'A-coref',\n",
              "       'B', 'B-offset', 'B-coref', 'URL', 'bert_tokens_torch', 'name_list',\n",
              "       'token_map_bert', 'sentence_map_bert', 'A_dist_bert', 'B_dist_bert',\n",
              "       'A_pos_bert', 'B_pos_bert', 'pron_pos_bert', 'A_idx_bert_torch',\n",
              "       'B_idx_bert_torch', 'pron_idx_bert_torch', 'topic', 'topic_A',\n",
              "       'topic_B', 'name_idx_bert_torch', 'neither_list',\n",
              "       'neither_idx_bert_torch', 'label'],\n",
              "      dtype='object')"
            ]
          },
          "metadata": {
            "tags": []
          },
          "execution_count": 5
        }
      ]
    },
    {
      "metadata": {
        "colab_type": "text",
        "id": "08LumTML9ReZ"
      },
      "cell_type": "markdown",
      "source": [
        "# Fine-tune BERT-large and mlp model"
      ]
    },
    {
      "metadata": {
        "colab_type": "code",
        "id": "tJAoTvWk6ONn",
        "outputId": "7c0030b2-82b9-467b-aea9-a0274569e0a8",
        "colab": {
          "base_uri": "https://localhost:8080/",
          "height": 350
        }
      },
      "cell_type": "code",
      "source": [
        "!pip install pytorch-pretrained-bert\n",
        "import numpy as np\n",
        "import torch\n",
        "from pytorch_pretrained_bert import BertTokenizer, BertModel\n",
        "import torch.nn as nn"
      ],
      "execution_count": 6,
      "outputs": [
        {
          "output_type": "stream",
          "text": [
            "Requirement already satisfied: pytorch-pretrained-bert in /usr/local/lib/python3.6/dist-packages (0.6.1)\n",
            "Requirement already satisfied: boto3 in /usr/local/lib/python3.6/dist-packages (from pytorch-pretrained-bert) (1.9.130)\n",
            "Requirement already satisfied: numpy in /usr/local/lib/python3.6/dist-packages (from pytorch-pretrained-bert) (1.14.6)\n",
            "Requirement already satisfied: torch>=0.4.1 in /usr/local/lib/python3.6/dist-packages (from pytorch-pretrained-bert) (1.0.1.post2)\n",
            "Requirement already satisfied: regex in /usr/local/lib/python3.6/dist-packages (from pytorch-pretrained-bert) (2018.1.10)\n",
            "Requirement already satisfied: requests in /usr/local/lib/python3.6/dist-packages (from pytorch-pretrained-bert) (2.18.4)\n",
            "Requirement already satisfied: tqdm in /usr/local/lib/python3.6/dist-packages (from pytorch-pretrained-bert) (4.28.1)\n",
            "Requirement already satisfied: jmespath<1.0.0,>=0.7.1 in /usr/local/lib/python3.6/dist-packages (from boto3->pytorch-pretrained-bert) (0.9.4)\n",
            "Requirement already satisfied: botocore<1.13.0,>=1.12.130 in /usr/local/lib/python3.6/dist-packages (from boto3->pytorch-pretrained-bert) (1.12.130)\n",
            "Requirement already satisfied: s3transfer<0.3.0,>=0.2.0 in /usr/local/lib/python3.6/dist-packages (from boto3->pytorch-pretrained-bert) (0.2.0)\n",
            "Requirement already satisfied: chardet<3.1.0,>=3.0.2 in /usr/local/lib/python3.6/dist-packages (from requests->pytorch-pretrained-bert) (3.0.4)\n",
            "Requirement already satisfied: urllib3<1.23,>=1.21.1 in /usr/local/lib/python3.6/dist-packages (from requests->pytorch-pretrained-bert) (1.22)\n",
            "Requirement already satisfied: idna<2.7,>=2.5 in /usr/local/lib/python3.6/dist-packages (from requests->pytorch-pretrained-bert) (2.6)\n",
            "Requirement already satisfied: certifi>=2017.4.17 in /usr/local/lib/python3.6/dist-packages (from requests->pytorch-pretrained-bert) (2019.3.9)\n",
            "Requirement already satisfied: python-dateutil<3.0.0,>=2.1; python_version >= \"2.7\" in /usr/local/lib/python3.6/dist-packages (from botocore<1.13.0,>=1.12.130->boto3->pytorch-pretrained-bert) (2.5.3)\n",
            "Requirement already satisfied: docutils>=0.10 in /usr/local/lib/python3.6/dist-packages (from botocore<1.13.0,>=1.12.130->boto3->pytorch-pretrained-bert) (0.14)\n",
            "Requirement already satisfied: six>=1.5 in /usr/local/lib/python3.6/dist-packages (from python-dateutil<3.0.0,>=2.1; python_version >= \"2.7\"->botocore<1.13.0,>=1.12.130->boto3->pytorch-pretrained-bert) (1.11.0)\n",
            "Better speed can be achieved with apex installed from https://www.github.com/nvidia/apex.\n"
          ],
          "name": "stdout"
        }
      ]
    },
    {
      "metadata": {
        "colab_type": "code",
        "id": "VAdhbGXPQ0E3",
        "outputId": "60eb5066-3c9c-40ae-979f-79786e015d91",
        "colab": {
          "base_uri": "https://localhost:8080/",
          "height": 52
        }
      },
      "cell_type": "code",
      "source": [
        "tokenizer = BertTokenizer.from_pretrained('bert-large-uncased')\n",
        "# form train_data\n",
        "train_all = pd.concat([train_data, valid_data], ignore_index=True, sort=False)\n",
        "# train_all = train_data\n",
        "train_all['indexed_tokens'] = train_all['bert_tokens_torch'].apply(lambda x: tokenizer.convert_tokens_to_ids(x))\n",
        "train_indexed_tokens = list(train_all['indexed_tokens'])\n",
        "train_offsets_A = list(train_all['A_idx_bert_torch'])\n",
        "train_offsets_B = list(train_all['B_idx_bert_torch'])\n",
        "train_offsets_pron = list(train_all['pron_idx_bert_torch'])\n",
        "train_offsets_other = list(train_all['neither_idx_bert_torch'])\n",
        "train_offsets_cls = [np.array([0])]*len(train_offsets_other)\n",
        "train_labels = list(train_all['label'])\n",
        "print('Number of training data is:',len(train_all))\n",
        "\n",
        "\n",
        "# form test_data\n",
        "test_data['indexed_tokens'] = test_data['bert_tokens_torch'].apply(lambda x: tokenizer.convert_tokens_to_ids(x))\n",
        "test_indexed_tokens = list(test_data['indexed_tokens'])\n",
        "test_offsets_A = list(test_data['A_idx_bert_torch'])\n",
        "test_offsets_B = list(test_data['B_idx_bert_torch'])\n",
        "test_offsets_pron = list(test_data['pron_idx_bert_torch'])\n",
        "test_offsets_other = list(test_data['neither_idx_bert_torch'])\n",
        "test_offsets_cls = [np.array([0])]*len(test_offsets_other)\n",
        "test_labels = list(test_data['label'])\n",
        "print('Number of testing data is:',len(test_data))"
      ],
      "execution_count": 7,
      "outputs": [
        {
          "output_type": "stream",
          "text": [
            "Number of training data is: 2454\n",
            "Number of testing data is: 2000\n"
          ],
          "name": "stdout"
        }
      ]
    },
    {
      "metadata": {
        "id": "5_SioIlk2yWc",
        "colab_type": "code",
        "colab": {}
      },
      "cell_type": "code",
      "source": [
        "import numpy as np\n",
        "\n",
        "torch_rd = 78\n",
        "np.random.seed(seed=0)\n",
        "\n",
        "import torch\n",
        "torch.manual_seed(torch_rd)\n",
        "\n",
        "model_name = \"bert_large_rd\"+str(torch_rd)\n",
        "\n",
        "CV = 3"
      ],
      "execution_count": 0,
      "outputs": []
    },
    {
      "metadata": {
        "colab_type": "code",
        "id": "_k2_wWCC88TK",
        "outputId": "6c57f6f1-8a92-4818-af37-971308bd7707",
        "colab": {
          "base_uri": "https://localhost:8080/",
          "height": 34
        }
      },
      "cell_type": "code",
      "source": [
        "max([len(i) for i in test_indexed_tokens])"
      ],
      "execution_count": 9,
      "outputs": [
        {
          "output_type": "execute_result",
          "data": {
            "text/plain": [
              "348"
            ]
          },
          "metadata": {
            "tags": []
          },
          "execution_count": 9
        }
      ]
    },
    {
      "metadata": {
        "id": "gA2T58t54rG0",
        "colab_type": "code",
        "colab": {}
      },
      "cell_type": "code",
      "source": [
        "from sklearn.model_selection import KFold \n",
        "kf = KFold(n_splits=5) \n",
        "k = 0\n",
        "for train_index, test_index in kf.split(train_labels):\n",
        "  if k == CV:\n",
        "    break\n",
        "  k = k + 1"
      ],
      "execution_count": 0,
      "outputs": []
    },
    {
      "metadata": {
        "id": "HxPTk4ZV7k_B",
        "colab_type": "code",
        "outputId": "7769b966-a9c9-4a79-a5f2-a20d9540ed54",
        "colab": {
          "base_uri": "https://localhost:8080/",
          "height": 799
        }
      },
      "cell_type": "code",
      "source": [
        "test_index"
      ],
      "execution_count": 11,
      "outputs": [
        {
          "output_type": "execute_result",
          "data": {
            "text/plain": [
              "array([1473, 1474, 1475, 1476, 1477, 1478, 1479, 1480, 1481, 1482, 1483,\n",
              "       1484, 1485, 1486, 1487, 1488, 1489, 1490, 1491, 1492, 1493, 1494,\n",
              "       1495, 1496, 1497, 1498, 1499, 1500, 1501, 1502, 1503, 1504, 1505,\n",
              "       1506, 1507, 1508, 1509, 1510, 1511, 1512, 1513, 1514, 1515, 1516,\n",
              "       1517, 1518, 1519, 1520, 1521, 1522, 1523, 1524, 1525, 1526, 1527,\n",
              "       1528, 1529, 1530, 1531, 1532, 1533, 1534, 1535, 1536, 1537, 1538,\n",
              "       1539, 1540, 1541, 1542, 1543, 1544, 1545, 1546, 1547, 1548, 1549,\n",
              "       1550, 1551, 1552, 1553, 1554, 1555, 1556, 1557, 1558, 1559, 1560,\n",
              "       1561, 1562, 1563, 1564, 1565, 1566, 1567, 1568, 1569, 1570, 1571,\n",
              "       1572, 1573, 1574, 1575, 1576, 1577, 1578, 1579, 1580, 1581, 1582,\n",
              "       1583, 1584, 1585, 1586, 1587, 1588, 1589, 1590, 1591, 1592, 1593,\n",
              "       1594, 1595, 1596, 1597, 1598, 1599, 1600, 1601, 1602, 1603, 1604,\n",
              "       1605, 1606, 1607, 1608, 1609, 1610, 1611, 1612, 1613, 1614, 1615,\n",
              "       1616, 1617, 1618, 1619, 1620, 1621, 1622, 1623, 1624, 1625, 1626,\n",
              "       1627, 1628, 1629, 1630, 1631, 1632, 1633, 1634, 1635, 1636, 1637,\n",
              "       1638, 1639, 1640, 1641, 1642, 1643, 1644, 1645, 1646, 1647, 1648,\n",
              "       1649, 1650, 1651, 1652, 1653, 1654, 1655, 1656, 1657, 1658, 1659,\n",
              "       1660, 1661, 1662, 1663, 1664, 1665, 1666, 1667, 1668, 1669, 1670,\n",
              "       1671, 1672, 1673, 1674, 1675, 1676, 1677, 1678, 1679, 1680, 1681,\n",
              "       1682, 1683, 1684, 1685, 1686, 1687, 1688, 1689, 1690, 1691, 1692,\n",
              "       1693, 1694, 1695, 1696, 1697, 1698, 1699, 1700, 1701, 1702, 1703,\n",
              "       1704, 1705, 1706, 1707, 1708, 1709, 1710, 1711, 1712, 1713, 1714,\n",
              "       1715, 1716, 1717, 1718, 1719, 1720, 1721, 1722, 1723, 1724, 1725,\n",
              "       1726, 1727, 1728, 1729, 1730, 1731, 1732, 1733, 1734, 1735, 1736,\n",
              "       1737, 1738, 1739, 1740, 1741, 1742, 1743, 1744, 1745, 1746, 1747,\n",
              "       1748, 1749, 1750, 1751, 1752, 1753, 1754, 1755, 1756, 1757, 1758,\n",
              "       1759, 1760, 1761, 1762, 1763, 1764, 1765, 1766, 1767, 1768, 1769,\n",
              "       1770, 1771, 1772, 1773, 1774, 1775, 1776, 1777, 1778, 1779, 1780,\n",
              "       1781, 1782, 1783, 1784, 1785, 1786, 1787, 1788, 1789, 1790, 1791,\n",
              "       1792, 1793, 1794, 1795, 1796, 1797, 1798, 1799, 1800, 1801, 1802,\n",
              "       1803, 1804, 1805, 1806, 1807, 1808, 1809, 1810, 1811, 1812, 1813,\n",
              "       1814, 1815, 1816, 1817, 1818, 1819, 1820, 1821, 1822, 1823, 1824,\n",
              "       1825, 1826, 1827, 1828, 1829, 1830, 1831, 1832, 1833, 1834, 1835,\n",
              "       1836, 1837, 1838, 1839, 1840, 1841, 1842, 1843, 1844, 1845, 1846,\n",
              "       1847, 1848, 1849, 1850, 1851, 1852, 1853, 1854, 1855, 1856, 1857,\n",
              "       1858, 1859, 1860, 1861, 1862, 1863, 1864, 1865, 1866, 1867, 1868,\n",
              "       1869, 1870, 1871, 1872, 1873, 1874, 1875, 1876, 1877, 1878, 1879,\n",
              "       1880, 1881, 1882, 1883, 1884, 1885, 1886, 1887, 1888, 1889, 1890,\n",
              "       1891, 1892, 1893, 1894, 1895, 1896, 1897, 1898, 1899, 1900, 1901,\n",
              "       1902, 1903, 1904, 1905, 1906, 1907, 1908, 1909, 1910, 1911, 1912,\n",
              "       1913, 1914, 1915, 1916, 1917, 1918, 1919, 1920, 1921, 1922, 1923,\n",
              "       1924, 1925, 1926, 1927, 1928, 1929, 1930, 1931, 1932, 1933, 1934,\n",
              "       1935, 1936, 1937, 1938, 1939, 1940, 1941, 1942, 1943, 1944, 1945,\n",
              "       1946, 1947, 1948, 1949, 1950, 1951, 1952, 1953, 1954, 1955, 1956,\n",
              "       1957, 1958, 1959, 1960, 1961, 1962, 1963])"
            ]
          },
          "metadata": {
            "tags": []
          },
          "execution_count": 11
        }
      ]
    },
    {
      "metadata": {
        "id": "oiWZQFW-8Zt3",
        "colab_type": "code",
        "colab": {}
      },
      "cell_type": "code",
      "source": [
        "if CV in [0,1,2,3,4]:\n",
        "  train_indexed_tokens,test_indexed_tokens = [train_indexed_tokens[i] for i in list(train_index)],[train_indexed_tokens[i] for i in list(test_index)]\n",
        "  train_offsets_A,test_offsets_A = [train_offsets_A[i] for i in list(train_index)],[train_offsets_A[i] for i in list(test_index)]\n",
        "  train_offsets_B,test_offsets_B = [train_offsets_B[i] for i in list(train_index)],[train_offsets_B[i] for i in list(test_index)]\n",
        "  train_offsets_pron,test_offsets_pron = [train_offsets_pron[i] for i in list(train_index)],[train_offsets_pron[i] for i in list(test_index)]\n",
        "  train_offsets_other,test_offsets_other = [train_offsets_other[i] for i in list(train_index)],[train_offsets_other[i] for i in list(test_index)]\n",
        "  train_offsets_cls,test_offsets_cls = [train_offsets_cls[i] for i in list(train_index)],[train_offsets_cls[i] for i in list(test_index)]\n",
        "  train_labels,test_labels = [train_labels[i] for i in list(train_index)],[train_labels[i] for i in list(test_index)]\n",
        "  \n",
        "if CV == 6:\n",
        "  train_indexed_tokens = train_indexed_tokens + test_indexed_tokens\n",
        "  train_offsets_A = train_offsets_A + test_offsets_A\n",
        "  train_offsets_B = train_offsets_B + test_offsets_B\n",
        "  train_offsets_pron = train_offsets_pron + test_offsets_pron\n",
        "  train_offsets_other = train_offsets_other + test_offsets_other\n",
        "  train_offsets_cls = train_offsets_cls + test_offsets_cls\n",
        "  train_labels = train_labels + test_labels\n",
        "  "
      ],
      "execution_count": 0,
      "outputs": []
    },
    {
      "metadata": {
        "colab_type": "code",
        "id": "3Jp1gKOLQ2w4",
        "colab": {}
      },
      "cell_type": "code",
      "source": [
        "class MLP(nn.Module):\n",
        "    def __init__(self, bert_hidden_size):\n",
        "        super().__init__()\n",
        "        self.bert_hidden_size = bert_hidden_size\n",
        "        self.fc = nn.Sequential(\n",
        "            nn.Dropout(0.3),\n",
        "            nn.Linear(bert_hidden_size, 1),\n",
        "\n",
        "        )\n",
        "        \n",
        "    def forward(self, vector):\n",
        "        return self.fc(vector)"
      ],
      "execution_count": 0,
      "outputs": []
    },
    {
      "metadata": {
        "id": "7GLQjwsumNx4",
        "colab_type": "code",
        "colab": {}
      },
      "cell_type": "code",
      "source": [
        "def change_dropout(module,p):\n",
        "    for name in module.__dict__['_modules']:\n",
        "        if name == \"dropout\":\n",
        "            module.__dict__['_modules'][name].p = p\n",
        "        else:\n",
        "            change_dropout(module.__dict__['_modules'][name],p)"
      ],
      "execution_count": 0,
      "outputs": []
    },
    {
      "metadata": {
        "colab_type": "code",
        "id": "Uf9xXkkoiwvy",
        "colab": {}
      },
      "cell_type": "code",
      "source": [
        "def extract_vectors(bert_last_layer, offsets, offsets_mask):\n",
        "    extracted_vectors = bert_last_layer.gather(\n",
        "        1, offsets.unsqueeze(2).expand(-1, -1, 1))\n",
        "    vector_masked = extracted_vectors.mul(offsets_mask.unsqueeze(2).float()).sum(1)/(offsets_mask.sum(1).unsqueeze(1).float())\n",
        "    return vector_masked\n",
        "  \n",
        "def get_padded_and_mask(sequence, left, right):\n",
        "    seq_ori = sequence[left:right]\n",
        "    seq_padded = pad_sequence([torch.Tensor(v) for v in seq_ori],batch_first = True).cuda().long()\n",
        "    mask = (seq_padded != 0).cuda().long()\n",
        "    return seq_padded, mask"
      ],
      "execution_count": 0,
      "outputs": []
    },
    {
      "metadata": {
        "colab_type": "code",
        "id": "mE3Yc5Np_0rD",
        "outputId": "53ad4514-2fa2-4f64-9fd3-9c8f43c1b6e2",
        "colab": {
          "base_uri": "https://localhost:8080/",
          "height": 364
        }
      },
      "cell_type": "code",
      "source": [
        "from torch.nn.utils.rnn import pad_sequence\n",
        "sub_batch = 2 # batch size越大越差？不知道什么操作\n",
        "acc_time = 8\n",
        "acc_counter = 0\n",
        "EPOCHS = 1\n",
        "  \n",
        "\n",
        "loss_c = nn.CrossEntropyLoss()\n",
        "loss_c.cuda()\n",
        "bert = BertModel.from_pretrained('bert-large-uncased')\n",
        "bert =  bert.cuda()\n",
        "change_dropout(bert,0.15) # 上面28的情况下改成dropout 0.1会爆内存\n",
        "\n",
        "mlp = MLP(1024).cuda()\n",
        "change_dropout(mlp,0)\n",
        "\n",
        "#opt = torch.optim.Adam([\n",
        "#     {'params': bert.parameters(), 'lr': 2e-5},{'params': mlp.parameters()}\n",
        "# ], lr=1e-3)\n",
        "# opt = torch.optim.SGD(list(bert.parameters()) + list(mlp.parameters()), lr = 2e-5, momentum = 2e-4)\n",
        "opt = torch.optim.Adam(list(bert.parameters()) + list(mlp.parameters()), lr=2e-5)\n",
        "\n",
        "for e in range(1, EPOCHS+1):\n",
        "  for b in range(0,len(train_offsets_cls),sub_batch):\n",
        "    start = b\n",
        "    end = min(len(train_offsets_cls),b+sub_batch)\n",
        "  \n",
        "    tr_X_padded, attention_mask = get_padded_and_mask(train_indexed_tokens, start, end)\n",
        "    tr_Y = torch.tensor(train_labels[start:end]).cuda()\n",
        "    tr_A_padded, tr_A_mask = get_padded_and_mask(train_offsets_A, start, end)\n",
        "    tr_B_padded, tr_B_mask = get_padded_and_mask(train_offsets_B, start, end)\n",
        "    tr_other_padded, tr_other_mask = get_padded_and_mask([np.array(list(i)+list(j)) for i,j in zip(train_offsets_cls,train_offsets_pron)], start, end)\n",
        "    segments_tensors = torch.zeros(tr_X_padded.size()).cuda().long()\n",
        "    \n",
        "    encoded_bert, _ = bert(tr_X_padded, segments_tensors,attention_mask,output_all_encoded_layers=False)\n",
        "    \n",
        "    pred_ = mlp(encoded_bert)\n",
        "    pred = torch.cat([extract_vectors(pred_, tr_A_padded, tr_A_mask),\\\n",
        "                              extract_vectors(pred_, tr_B_padded, tr_B_mask),extract_vectors(pred_, tr_other_padded, tr_other_mask)],1)\n",
        "\n",
        "    loss = loss_c(pred, tr_Y)\n",
        "\n",
        "    loss.backward()\n",
        "    acc_counter = acc_counter+1\n",
        "    if acc_counter == acc_time:\n",
        "      opt.step()\n",
        "      acc_counter = 0\n",
        "      opt.zero_grad()\n",
        "      torch.cuda.empty_cache()\n",
        "    if b%100 == 0:\n",
        "      print (\"Epoch =\",e,\"loss = \",loss.item())"
      ],
      "execution_count": 16,
      "outputs": [
        {
          "output_type": "stream",
          "text": [
            "Epoch = 1 loss =  1.1234710216522217\n",
            "Epoch = 1 loss =  0.589855968952179\n",
            "Epoch = 1 loss =  0.8457642793655396\n",
            "Epoch = 1 loss =  0.6831784248352051\n",
            "Epoch = 1 loss =  0.29253000020980835\n",
            "Epoch = 1 loss =  0.24752283096313477\n",
            "Epoch = 1 loss =  0.583827793598175\n",
            "Epoch = 1 loss =  0.2646169662475586\n",
            "Epoch = 1 loss =  0.15187382698059082\n",
            "Epoch = 1 loss =  1.9655089378356934\n",
            "Epoch = 1 loss =  0.3362148404121399\n",
            "Epoch = 1 loss =  0.5149853229522705\n",
            "Epoch = 1 loss =  1.91571044921875\n",
            "Epoch = 1 loss =  0.12521660327911377\n",
            "Epoch = 1 loss =  0.26120948791503906\n",
            "Epoch = 1 loss =  0.17341077327728271\n",
            "Epoch = 1 loss =  0.6865467429161072\n",
            "Epoch = 1 loss =  0.04960489273071289\n",
            "Epoch = 1 loss =  0.22598004341125488\n",
            "Epoch = 1 loss =  0.08980631828308105\n"
          ],
          "name": "stdout"
        }
      ]
    },
    {
      "metadata": {
        "colab_type": "code",
        "id": "AcOCZPyEE6Wi",
        "outputId": "98cc814e-0d70-4ad6-81b7-53d6b5f9d42a",
        "colab": {
          "base_uri": "https://localhost:8080/",
          "height": 34
        }
      },
      "cell_type": "code",
      "source": [
        "re = []\n",
        "bert.eval()\n",
        "mlp.eval()\n",
        "with torch.no_grad():\n",
        "  for b in range(0,len(test_offsets_cls),1):\n",
        "    start = b\n",
        "    end = min(len(test_offsets_cls),b+1)\n",
        "    tr_X_padded, attention_mask = get_padded_and_mask(test_indexed_tokens, start, end)\n",
        "    tr_Y = torch.tensor(test_labels[start:end]).cuda()\n",
        "    tr_A_padded, tr_A_mask = get_padded_and_mask(test_offsets_A, start, end)\n",
        "    tr_B_padded, tr_B_mask = get_padded_and_mask(test_offsets_B, start, end)\n",
        "    tr_other_padded, tr_other_mask = get_padded_and_mask([np.array(list(i)+list(j)) for i,j in zip(test_offsets_cls,test_offsets_pron)], start, end)\n",
        "    segments_tensors = torch.zeros(tr_X_padded.size()).cuda().long()\n",
        "    \n",
        "    encoded_bert, _ = bert(tr_X_padded, segments_tensors,attention_mask,output_all_encoded_layers=False)\n",
        "    \n",
        "    pred_ = mlp(encoded_bert)\n",
        "    pred = torch.cat([extract_vectors(pred_, tr_A_padded, tr_A_mask),\\\n",
        "                              extract_vectors(pred_, tr_B_padded, tr_B_mask),extract_vectors(pred_, tr_other_padded, tr_other_mask)],1)\n",
        "    pred_data = pred.data.cpu().numpy()\n",
        "    re.append(pred_data)\n",
        "\n",
        "loss_c = nn.CrossEntropyLoss()\n",
        "\n",
        "loss_data = loss_c(torch.Tensor(np.concatenate(re).reshape(-1,3)),torch.Tensor(test_labels).long())\n",
        "print('Loss for test data is:', loss_data)"
      ],
      "execution_count": 17,
      "outputs": [
        {
          "output_type": "stream",
          "text": [
            "Loss for test data is: tensor(0.4236)\n"
          ],
          "name": "stdout"
        }
      ]
    },
    {
      "metadata": {
        "id": "RWGMWUGwR0nO",
        "colab_type": "code",
        "colab": {}
      },
      "cell_type": "code",
      "source": [
        "import os\n",
        "from joblib import dump, load\n",
        "from scipy.special import softmax\n",
        "pred = np.zeros((len(train_all),3))\n",
        "\n",
        "if CV in [0,1,2,3,4]:\n",
        "  if os.path.exists(model_name+'+basic.joblib'):\n",
        "    pred = load(model_name+'+basic.joblib')\n",
        "    os.remove(model_name+'+basic.joblib')\n",
        "  pred[test_index,:] = softmax(np.concatenate(re).reshape(-1,3),axis = 1)\n",
        "  dump(pred,model_name+'+basic.joblib')\n",
        "\n",
        "if CV == 5:\n",
        "  if os.path.exists(model_name+'+basic.joblib'):\n",
        "    pred_tr = load(model_name+'+basic.joblib')\n",
        "    os.remove(model_name+'+basic.joblib')\n",
        "  pred = softmax(np.concatenate(re).reshape(-1,3),axis = 1)\n",
        "  dump((pred_tr,pred),model_name+'+basic.joblib')\n",
        "  \n",
        "if CV == 6:\n",
        "  dump((bert,mlp),model_name +'.joblib')\n",
        "  \n",
        "\n",
        "\n",
        "  \n",
        "  \n",
        "\n",
        "      \n",
        "      "
      ],
      "execution_count": 0,
      "outputs": []
    },
    {
      "metadata": {
        "id": "2rb7eUKLqZGA",
        "colab_type": "code",
        "colab": {}
      },
      "cell_type": "code",
      "source": [
        ""
      ],
      "execution_count": 0,
      "outputs": []
    }
  ]
}