{
  "nbformat": 4,
  "nbformat_minor": 0,
  "metadata": {
    "colab": {
      "name": "bert_mlp_2.ipynb",
      "version": "0.3.2",
      "provenance": [],
      "collapsed_sections": [],
      "toc_visible": true
    },
    "language_info": {
      "codemirror_mode": {
        "name": "ipython",
        "version": 3
      },
      "file_extension": ".py",
      "mimetype": "text/x-python",
      "name": "python",
      "nbconvert_exporter": "python",
      "pygments_lexer": "ipython3",
      "version": "3.6.5"
    },
    "kernelspec": {
      "display_name": "Python 3",
      "language": "python",
      "name": "python3"
    },
    "accelerator": "GPU"
  },
  "cells": [
    {
      "metadata": {
        "colab_type": "text",
        "id": "MQx8Dyyo72Yz"
      },
      "cell_type": "markdown",
      "source": [
        "# Load data in pandas"
      ]
    },
    {
      "metadata": {
        "colab_type": "code",
        "id": "upPOhN4A2Bp_",
        "colab": {}
      },
      "cell_type": "code",
      "source": [
        "test_data_a = \"https://drive.google.com/uc?id=1rbhlUfffty5pHWPMPKBhR76dz4jp7ZFb&export=download\"\n",
        "\n",
        "train_data_a = \"https://drive.google.com/uc?id=1UU5wVku8v79aEKknkOBMrKNDZrTxUpJZ&export=download\"\n",
        "\n",
        "test_data = \"https://drive.google.com/uc?id=1Yabjq972kr7pA-HST7MP-9gR0xTSOjs_&export=download\"\n",
        "\n",
        "train_data = \"https://drive.google.com/uc?id=1SButl51QPhJ0WbFniXFLFO-YoxzJ0V3p&export=download\"\n",
        "\n",
        "valid_data = \"https://drive.google.com/uc?id=17EONLP166qnOeedOZrIl5xu5zznRH9b3&export=download\"\n",
        "\n",
        "valid_data_a = \"https://drive.google.com/uc?id=11Txw4zCcyYCJ6TCsr90F-LF2_b63HiZ2&export=download\""
      ],
      "execution_count": 0,
      "outputs": []
    },
    {
      "metadata": {
        "colab_type": "code",
        "id": "3CWoV5IINN-T",
        "outputId": "c0351210-aacd-4ff1-d4cc-1e0ccfdda913",
        "colab": {
          "base_uri": "https://localhost:8080/",
          "height": 143
        }
      },
      "cell_type": "code",
      "source": [
        "!pip install pandas==0.24.1 # Google colab pandas is too old to read these pickle\n",
        "!pip install scipy==1.2.1 # Scipy is too low to have the function"
      ],
      "execution_count": 2,
      "outputs": [
        {
          "output_type": "stream",
          "text": [
            "Requirement already satisfied: pandas==0.24.1 in /usr/local/lib/python3.6/dist-packages (0.24.1)\n",
            "Requirement already satisfied: pytz>=2011k in /usr/local/lib/python3.6/dist-packages (from pandas==0.24.1) (2018.9)\n",
            "Requirement already satisfied: python-dateutil>=2.5.0 in /usr/local/lib/python3.6/dist-packages (from pandas==0.24.1) (2.5.3)\n",
            "Requirement already satisfied: numpy>=1.12.0 in /usr/local/lib/python3.6/dist-packages (from pandas==0.24.1) (1.14.6)\n",
            "Requirement already satisfied: six>=1.5 in /usr/local/lib/python3.6/dist-packages (from python-dateutil>=2.5.0->pandas==0.24.1) (1.11.0)\n",
            "Requirement already satisfied: scipy==1.2.1 in /usr/local/lib/python3.6/dist-packages (1.2.1)\n",
            "Requirement already satisfied: numpy>=1.8.2 in /usr/local/lib/python3.6/dist-packages (from scipy==1.2.1) (1.14.6)\n"
          ],
          "name": "stdout"
        }
      ]
    },
    {
      "metadata": {
        "colab_type": "code",
        "id": "EB3jRtj62_7z",
        "colab": {}
      },
      "cell_type": "code",
      "source": [
        "def download(url):\n",
        "  import requests\n",
        "  from io import BytesIO\n",
        "  r = requests.get(url)\n",
        "  data = r.content\n",
        "  df = pd.read_pickle(BytesIO(data),compression = None)\n",
        "  return df"
      ],
      "execution_count": 0,
      "outputs": []
    },
    {
      "metadata": {
        "colab_type": "code",
        "id": "vc5CHFi_3BaI",
        "colab": {}
      },
      "cell_type": "code",
      "source": [
        "import pandas as pd\n",
        "\n",
        "\n",
        "test_data = download(test_data)\n",
        "test_data_a = download(test_data_a)\n",
        "train_data = download(train_data)\n",
        "train_data_a = download(train_data_a)\n",
        "valid_data = download(valid_data)\n",
        "valid_data_a = download(valid_data_a)"
      ],
      "execution_count": 0,
      "outputs": []
    },
    {
      "metadata": {
        "colab_type": "code",
        "id": "trQCDQpV3ETm",
        "outputId": "8d978a91-8bcc-4f12-b70d-5454fe338fbc",
        "colab": {
          "base_uri": "https://localhost:8080/",
          "height": 161
        }
      },
      "cell_type": "code",
      "source": [
        "train_data.columns"
      ],
      "execution_count": 5,
      "outputs": [
        {
          "output_type": "execute_result",
          "data": {
            "text/plain": [
              "Index(['ID', 'Text', 'Pronoun', 'Pronoun-offset', 'A', 'A-offset', 'A-coref',\n",
              "       'B', 'B-offset', 'B-coref', 'URL', 'bert_tokens_torch', 'name_list',\n",
              "       'token_map_bert', 'sentence_map_bert', 'A_dist_bert', 'B_dist_bert',\n",
              "       'A_pos_bert', 'B_pos_bert', 'pron_pos_bert', 'A_idx_bert_torch',\n",
              "       'B_idx_bert_torch', 'pron_idx_bert_torch', 'topic', 'topic_A',\n",
              "       'topic_B', 'name_idx_bert_torch', 'neither_list',\n",
              "       'neither_idx_bert_torch', 'label'],\n",
              "      dtype='object')"
            ]
          },
          "metadata": {
            "tags": []
          },
          "execution_count": 5
        }
      ]
    },
    {
      "metadata": {
        "colab_type": "text",
        "id": "08LumTML9ReZ"
      },
      "cell_type": "markdown",
      "source": [
        "# Fine-tune BERT-large and mlp model"
      ]
    },
    {
      "metadata": {
        "colab_type": "code",
        "id": "tJAoTvWk6ONn",
        "outputId": "c9670ed0-9651-424f-86f3-8ef5b8f4202e",
        "colab": {
          "base_uri": "https://localhost:8080/",
          "height": 361
        }
      },
      "cell_type": "code",
      "source": [
        "!pip install pytorch-pretrained-bert\n",
        "import numpy as np\n",
        "import torch\n",
        "from pytorch_pretrained_bert import BertTokenizer, BertModel\n",
        "import torch.nn as nn"
      ],
      "execution_count": 6,
      "outputs": [
        {
          "output_type": "stream",
          "text": [
            "Requirement already satisfied: pytorch-pretrained-bert in /usr/local/lib/python3.6/dist-packages (0.6.1)\n",
            "Requirement already satisfied: regex in /usr/local/lib/python3.6/dist-packages (from pytorch-pretrained-bert) (2018.1.10)\n",
            "Requirement already satisfied: tqdm in /usr/local/lib/python3.6/dist-packages (from pytorch-pretrained-bert) (4.28.1)\n",
            "Requirement already satisfied: torch>=0.4.1 in /usr/local/lib/python3.6/dist-packages (from pytorch-pretrained-bert) (1.0.1.post2)\n",
            "Requirement already satisfied: requests in /usr/local/lib/python3.6/dist-packages (from pytorch-pretrained-bert) (2.18.4)\n",
            "Requirement already satisfied: boto3 in /usr/local/lib/python3.6/dist-packages (from pytorch-pretrained-bert) (1.9.130)\n",
            "Requirement already satisfied: numpy in /usr/local/lib/python3.6/dist-packages (from pytorch-pretrained-bert) (1.14.6)\n",
            "Requirement already satisfied: idna<2.7,>=2.5 in /usr/local/lib/python3.6/dist-packages (from requests->pytorch-pretrained-bert) (2.6)\n",
            "Requirement already satisfied: urllib3<1.23,>=1.21.1 in /usr/local/lib/python3.6/dist-packages (from requests->pytorch-pretrained-bert) (1.22)\n",
            "Requirement already satisfied: certifi>=2017.4.17 in /usr/local/lib/python3.6/dist-packages (from requests->pytorch-pretrained-bert) (2019.3.9)\n",
            "Requirement already satisfied: chardet<3.1.0,>=3.0.2 in /usr/local/lib/python3.6/dist-packages (from requests->pytorch-pretrained-bert) (3.0.4)\n",
            "Requirement already satisfied: s3transfer<0.3.0,>=0.2.0 in /usr/local/lib/python3.6/dist-packages (from boto3->pytorch-pretrained-bert) (0.2.0)\n",
            "Requirement already satisfied: botocore<1.13.0,>=1.12.130 in /usr/local/lib/python3.6/dist-packages (from boto3->pytorch-pretrained-bert) (1.12.130)\n",
            "Requirement already satisfied: jmespath<1.0.0,>=0.7.1 in /usr/local/lib/python3.6/dist-packages (from boto3->pytorch-pretrained-bert) (0.9.4)\n",
            "Requirement already satisfied: python-dateutil<3.0.0,>=2.1; python_version >= \"2.7\" in /usr/local/lib/python3.6/dist-packages (from botocore<1.13.0,>=1.12.130->boto3->pytorch-pretrained-bert) (2.5.3)\n",
            "Requirement already satisfied: docutils>=0.10 in /usr/local/lib/python3.6/dist-packages (from botocore<1.13.0,>=1.12.130->boto3->pytorch-pretrained-bert) (0.14)\n",
            "Requirement already satisfied: six>=1.5 in /usr/local/lib/python3.6/dist-packages (from python-dateutil<3.0.0,>=2.1; python_version >= \"2.7\"->botocore<1.13.0,>=1.12.130->boto3->pytorch-pretrained-bert) (1.11.0)\n",
            "Better speed can be achieved with apex installed from https://www.github.com/nvidia/apex.\n"
          ],
          "name": "stdout"
        }
      ]
    },
    {
      "metadata": {
        "colab_type": "code",
        "id": "VAdhbGXPQ0E3",
        "outputId": "206e16be-d1fe-44a4-d326-db66eebb6d7b",
        "colab": {
          "base_uri": "https://localhost:8080/",
          "height": 53
        }
      },
      "cell_type": "code",
      "source": [
        "tokenizer = BertTokenizer.from_pretrained('bert-large-uncased')\n",
        "# form train_data\n",
        "train_all = pd.concat([train_data, valid_data], ignore_index=True, sort=False)\n",
        "# train_all = train_data\n",
        "train_all['indexed_tokens'] = train_all['bert_tokens_torch'].apply(lambda x: tokenizer.convert_tokens_to_ids(x))\n",
        "train_indexed_tokens = list(train_all['indexed_tokens'])\n",
        "train_offsets_A = list(train_all['A_idx_bert_torch'])\n",
        "train_offsets_B = list(train_all['B_idx_bert_torch'])\n",
        "train_offsets_pron = list(train_all['pron_idx_bert_torch'])\n",
        "train_offsets_other = list(train_all['neither_idx_bert_torch'])\n",
        "train_offsets_cls = [np.array([0])]*len(train_offsets_other)\n",
        "train_labels = list(train_all['label'])\n",
        "print('Number of training data is:',len(train_all))\n",
        "\n",
        "\n",
        "# form test_data\n",
        "test_data['indexed_tokens'] = test_data['bert_tokens_torch'].apply(lambda x: tokenizer.convert_tokens_to_ids(x))\n",
        "test_indexed_tokens = list(test_data['indexed_tokens'])\n",
        "test_offsets_A = list(test_data['A_idx_bert_torch'])\n",
        "test_offsets_B = list(test_data['B_idx_bert_torch'])\n",
        "test_offsets_pron = list(test_data['pron_idx_bert_torch'])\n",
        "test_offsets_other = list(test_data['neither_idx_bert_torch'])\n",
        "test_offsets_cls = [np.array([0])]*len(test_offsets_other)\n",
        "test_labels = list(test_data['label'])\n",
        "print('Number of testing data is:',len(test_data))"
      ],
      "execution_count": 7,
      "outputs": [
        {
          "output_type": "stream",
          "text": [
            "Number of training data is: 2454\n",
            "Number of testing data is: 2000\n"
          ],
          "name": "stdout"
        }
      ]
    },
    {
      "metadata": {
        "id": "5_SioIlk2yWc",
        "colab_type": "code",
        "colab": {}
      },
      "cell_type": "code",
      "source": [
        "import numpy as np\n",
        "\n",
        "torch_rd = 0\n",
        "np.random.seed(seed=0)\n",
        "\n",
        "import torch\n",
        "torch.manual_seed(torch_rd)\n",
        "\n",
        "model_name = \"bert_large_rd\"+str(torch_rd)\n",
        "\n",
        "CV = 2"
      ],
      "execution_count": 0,
      "outputs": []
    },
    {
      "metadata": {
        "colab_type": "code",
        "id": "_k2_wWCC88TK",
        "outputId": "4aada719-650b-41e7-d26e-aa061433da6d",
        "colab": {
          "base_uri": "https://localhost:8080/",
          "height": 35
        }
      },
      "cell_type": "code",
      "source": [
        "max([len(i) for i in test_indexed_tokens])"
      ],
      "execution_count": 9,
      "outputs": [
        {
          "output_type": "execute_result",
          "data": {
            "text/plain": [
              "348"
            ]
          },
          "metadata": {
            "tags": []
          },
          "execution_count": 9
        }
      ]
    },
    {
      "metadata": {
        "id": "gA2T58t54rG0",
        "colab_type": "code",
        "colab": {}
      },
      "cell_type": "code",
      "source": [
        "from sklearn.model_selection import KFold \n",
        "kf = KFold(n_splits=5) \n",
        "k = 0\n",
        "for train_index, test_index in kf.split(train_labels):\n",
        "  if k == CV:\n",
        "    break\n",
        "  k = k + 1"
      ],
      "execution_count": 0,
      "outputs": []
    },
    {
      "metadata": {
        "id": "HxPTk4ZV7k_B",
        "colab_type": "code",
        "outputId": "83101cf3-bead-4cd8-fa4e-f84393f0b046",
        "colab": {
          "base_uri": "https://localhost:8080/",
          "height": 827
        }
      },
      "cell_type": "code",
      "source": [
        "test_index"
      ],
      "execution_count": 11,
      "outputs": [
        {
          "output_type": "execute_result",
          "data": {
            "text/plain": [
              "array([ 982,  983,  984,  985,  986,  987,  988,  989,  990,  991,  992,\n",
              "        993,  994,  995,  996,  997,  998,  999, 1000, 1001, 1002, 1003,\n",
              "       1004, 1005, 1006, 1007, 1008, 1009, 1010, 1011, 1012, 1013, 1014,\n",
              "       1015, 1016, 1017, 1018, 1019, 1020, 1021, 1022, 1023, 1024, 1025,\n",
              "       1026, 1027, 1028, 1029, 1030, 1031, 1032, 1033, 1034, 1035, 1036,\n",
              "       1037, 1038, 1039, 1040, 1041, 1042, 1043, 1044, 1045, 1046, 1047,\n",
              "       1048, 1049, 1050, 1051, 1052, 1053, 1054, 1055, 1056, 1057, 1058,\n",
              "       1059, 1060, 1061, 1062, 1063, 1064, 1065, 1066, 1067, 1068, 1069,\n",
              "       1070, 1071, 1072, 1073, 1074, 1075, 1076, 1077, 1078, 1079, 1080,\n",
              "       1081, 1082, 1083, 1084, 1085, 1086, 1087, 1088, 1089, 1090, 1091,\n",
              "       1092, 1093, 1094, 1095, 1096, 1097, 1098, 1099, 1100, 1101, 1102,\n",
              "       1103, 1104, 1105, 1106, 1107, 1108, 1109, 1110, 1111, 1112, 1113,\n",
              "       1114, 1115, 1116, 1117, 1118, 1119, 1120, 1121, 1122, 1123, 1124,\n",
              "       1125, 1126, 1127, 1128, 1129, 1130, 1131, 1132, 1133, 1134, 1135,\n",
              "       1136, 1137, 1138, 1139, 1140, 1141, 1142, 1143, 1144, 1145, 1146,\n",
              "       1147, 1148, 1149, 1150, 1151, 1152, 1153, 1154, 1155, 1156, 1157,\n",
              "       1158, 1159, 1160, 1161, 1162, 1163, 1164, 1165, 1166, 1167, 1168,\n",
              "       1169, 1170, 1171, 1172, 1173, 1174, 1175, 1176, 1177, 1178, 1179,\n",
              "       1180, 1181, 1182, 1183, 1184, 1185, 1186, 1187, 1188, 1189, 1190,\n",
              "       1191, 1192, 1193, 1194, 1195, 1196, 1197, 1198, 1199, 1200, 1201,\n",
              "       1202, 1203, 1204, 1205, 1206, 1207, 1208, 1209, 1210, 1211, 1212,\n",
              "       1213, 1214, 1215, 1216, 1217, 1218, 1219, 1220, 1221, 1222, 1223,\n",
              "       1224, 1225, 1226, 1227, 1228, 1229, 1230, 1231, 1232, 1233, 1234,\n",
              "       1235, 1236, 1237, 1238, 1239, 1240, 1241, 1242, 1243, 1244, 1245,\n",
              "       1246, 1247, 1248, 1249, 1250, 1251, 1252, 1253, 1254, 1255, 1256,\n",
              "       1257, 1258, 1259, 1260, 1261, 1262, 1263, 1264, 1265, 1266, 1267,\n",
              "       1268, 1269, 1270, 1271, 1272, 1273, 1274, 1275, 1276, 1277, 1278,\n",
              "       1279, 1280, 1281, 1282, 1283, 1284, 1285, 1286, 1287, 1288, 1289,\n",
              "       1290, 1291, 1292, 1293, 1294, 1295, 1296, 1297, 1298, 1299, 1300,\n",
              "       1301, 1302, 1303, 1304, 1305, 1306, 1307, 1308, 1309, 1310, 1311,\n",
              "       1312, 1313, 1314, 1315, 1316, 1317, 1318, 1319, 1320, 1321, 1322,\n",
              "       1323, 1324, 1325, 1326, 1327, 1328, 1329, 1330, 1331, 1332, 1333,\n",
              "       1334, 1335, 1336, 1337, 1338, 1339, 1340, 1341, 1342, 1343, 1344,\n",
              "       1345, 1346, 1347, 1348, 1349, 1350, 1351, 1352, 1353, 1354, 1355,\n",
              "       1356, 1357, 1358, 1359, 1360, 1361, 1362, 1363, 1364, 1365, 1366,\n",
              "       1367, 1368, 1369, 1370, 1371, 1372, 1373, 1374, 1375, 1376, 1377,\n",
              "       1378, 1379, 1380, 1381, 1382, 1383, 1384, 1385, 1386, 1387, 1388,\n",
              "       1389, 1390, 1391, 1392, 1393, 1394, 1395, 1396, 1397, 1398, 1399,\n",
              "       1400, 1401, 1402, 1403, 1404, 1405, 1406, 1407, 1408, 1409, 1410,\n",
              "       1411, 1412, 1413, 1414, 1415, 1416, 1417, 1418, 1419, 1420, 1421,\n",
              "       1422, 1423, 1424, 1425, 1426, 1427, 1428, 1429, 1430, 1431, 1432,\n",
              "       1433, 1434, 1435, 1436, 1437, 1438, 1439, 1440, 1441, 1442, 1443,\n",
              "       1444, 1445, 1446, 1447, 1448, 1449, 1450, 1451, 1452, 1453, 1454,\n",
              "       1455, 1456, 1457, 1458, 1459, 1460, 1461, 1462, 1463, 1464, 1465,\n",
              "       1466, 1467, 1468, 1469, 1470, 1471, 1472])"
            ]
          },
          "metadata": {
            "tags": []
          },
          "execution_count": 11
        }
      ]
    },
    {
      "metadata": {
        "id": "oiWZQFW-8Zt3",
        "colab_type": "code",
        "colab": {}
      },
      "cell_type": "code",
      "source": [
        "if CV in [0,1,2,3,4]:\n",
        "  train_indexed_tokens,test_indexed_tokens = [train_indexed_tokens[i] for i in list(train_index)],[train_indexed_tokens[i] for i in list(test_index)]\n",
        "  train_offsets_A,test_offsets_A = [train_offsets_A[i] for i in list(train_index)],[train_offsets_A[i] for i in list(test_index)]\n",
        "  train_offsets_B,test_offsets_B = [train_offsets_B[i] for i in list(train_index)],[train_offsets_B[i] for i in list(test_index)]\n",
        "  train_offsets_pron,test_offsets_pron = [train_offsets_pron[i] for i in list(train_index)],[train_offsets_pron[i] for i in list(test_index)]\n",
        "  train_offsets_other,test_offsets_other = [train_offsets_other[i] for i in list(train_index)],[train_offsets_other[i] for i in list(test_index)]\n",
        "  train_offsets_cls,test_offsets_cls = [train_offsets_cls[i] for i in list(train_index)],[train_offsets_cls[i] for i in list(test_index)]\n",
        "  train_labels,test_labels = [train_labels[i] for i in list(train_index)],[train_labels[i] for i in list(test_index)]\n",
        "  \n",
        "if CV == 6:\n",
        "  train_indexed_tokens = train_indexed_tokens + test_indexed_tokens\n",
        "  train_offsets_A = train_offsets_A + test_offsets_A\n",
        "  train_offsets_B = train_offsets_B + test_offsets_B\n",
        "  train_offsets_pron = train_offsets_pron + test_offsets_pron\n",
        "  train_offsets_other = train_offsets_other + test_offsets_other\n",
        "  train_offsets_cls = train_offsets_cls + test_offsets_cls\n",
        "  train_labels = train_labels + test_labels\n",
        "  "
      ],
      "execution_count": 0,
      "outputs": []
    },
    {
      "metadata": {
        "colab_type": "code",
        "id": "3Jp1gKOLQ2w4",
        "colab": {}
      },
      "cell_type": "code",
      "source": [
        "class MLP(nn.Module):\n",
        "    def __init__(self, bert_hidden_size):\n",
        "        super().__init__()\n",
        "        self.bert_hidden_size = bert_hidden_size\n",
        "        self.fc = nn.Sequential(\n",
        "            nn.Dropout(0.3),\n",
        "            nn.Linear(bert_hidden_size, 1),\n",
        "\n",
        "        )\n",
        "        \n",
        "    def forward(self, vector):\n",
        "        return self.fc(vector)"
      ],
      "execution_count": 0,
      "outputs": []
    },
    {
      "metadata": {
        "id": "7GLQjwsumNx4",
        "colab_type": "code",
        "colab": {}
      },
      "cell_type": "code",
      "source": [
        "def change_dropout(module,p):\n",
        "    for name in module.__dict__['_modules']:\n",
        "        if name == \"dropout\":\n",
        "            module.__dict__['_modules'][name].p = p\n",
        "        else:\n",
        "            change_dropout(module.__dict__['_modules'][name],p)"
      ],
      "execution_count": 0,
      "outputs": []
    },
    {
      "metadata": {
        "colab_type": "code",
        "id": "Uf9xXkkoiwvy",
        "colab": {}
      },
      "cell_type": "code",
      "source": [
        "def extract_vectors(bert_last_layer, offsets, offsets_mask):\n",
        "    extracted_vectors = bert_last_layer.gather(\n",
        "        1, offsets.unsqueeze(2).expand(-1, -1, 1))\n",
        "    vector_masked = extracted_vectors.mul(offsets_mask.unsqueeze(2).float()).sum(1)/(offsets_mask.sum(1).unsqueeze(1).float())\n",
        "    return vector_masked\n",
        "  \n",
        "def get_padded_and_mask(sequence, left, right):\n",
        "    seq_ori = sequence[left:right]\n",
        "    seq_padded = pad_sequence([torch.Tensor(v) for v in seq_ori],batch_first = True).cuda().long()\n",
        "    mask = (seq_padded != 0).cuda().long()\n",
        "    return seq_padded, mask"
      ],
      "execution_count": 0,
      "outputs": []
    },
    {
      "metadata": {
        "colab_type": "code",
        "id": "mE3Yc5Np_0rD",
        "outputId": "646ce330-5d31-41cd-dd77-9b66496f7dc6",
        "colab": {
          "base_uri": "https://localhost:8080/",
          "height": 377
        }
      },
      "cell_type": "code",
      "source": [
        "from torch.nn.utils.rnn import pad_sequence\n",
        "sub_batch = 2 # batch size越大越差？不知道什么操作\n",
        "acc_time = 8\n",
        "acc_counter = 0\n",
        "EPOCHS = 1\n",
        "\n",
        "loss_c = nn.CrossEntropyLoss()\n",
        "loss_c.cuda()\n",
        "bert = BertModel.from_pretrained('bert-large-uncased')\n",
        "bert =  bert.cuda()\n",
        "change_dropout(bert,0.15) # 上面28的情况下改成dropout 0.1会爆内存\n",
        "\n",
        "mlp = MLP(1024).cuda()\n",
        "change_dropout(mlp,0)\n",
        "\n",
        "#opt = torch.optim.Adam([\n",
        "#     {'params': bert.parameters(), 'lr': 2e-5},{'params': mlp.parameters()}\n",
        "# ], lr=1e-3)\n",
        "# opt = torch.optim.SGD(list(bert.parameters()) + list(mlp.parameters()), lr = 2e-5, momentum = 2e-4)\n",
        "opt = torch.optim.Adam(list(bert.parameters()) + list(mlp.parameters()), lr=2e-5)\n",
        "\n",
        "for e in range(1, EPOCHS+1):\n",
        "  for b in range(0,len(train_offsets_cls),sub_batch):\n",
        "    start = b\n",
        "    end = min(len(train_offsets_cls),b+sub_batch)\n",
        "  \n",
        "    tr_X_padded, attention_mask = get_padded_and_mask(train_indexed_tokens, start, end)\n",
        "    tr_Y = torch.tensor(train_labels[start:end]).cuda()\n",
        "    tr_A_padded, tr_A_mask = get_padded_and_mask(train_offsets_A, start, end)\n",
        "    tr_B_padded, tr_B_mask = get_padded_and_mask(train_offsets_B, start, end)\n",
        "    tr_other_padded, tr_other_mask = get_padded_and_mask([np.array(list(i)+list(j)) for i,j in zip(train_offsets_cls,train_offsets_pron)], start, end)\n",
        "    segments_tensors = torch.zeros(tr_X_padded.size()).cuda().long()\n",
        "    \n",
        "    encoded_bert, _ = bert(tr_X_padded, segments_tensors,attention_mask,output_all_encoded_layers=False)\n",
        "    \n",
        "    pred_ = mlp(encoded_bert)\n",
        "    pred = torch.cat([extract_vectors(pred_, tr_A_padded, tr_A_mask),\\\n",
        "                              extract_vectors(pred_, tr_B_padded, tr_B_mask),extract_vectors(pred_, tr_other_padded, tr_other_mask)],1)\n",
        "\n",
        "    loss = loss_c(pred, tr_Y)\n",
        "\n",
        "    loss.backward()\n",
        "    acc_counter = acc_counter+1\n",
        "    if acc_counter == acc_time:\n",
        "      opt.step()\n",
        "      acc_counter = 0\n",
        "      opt.zero_grad()\n",
        "      torch.cuda.empty_cache()\n",
        "    if b%100 == 0:\n",
        "      print (\"Epoch =\",e,\"loss = \",loss.item())"
      ],
      "execution_count": 16,
      "outputs": [
        {
          "output_type": "stream",
          "text": [
            "Epoch = 1 loss =  0.8532944917678833\n",
            "Epoch = 1 loss =  0.6679731607437134\n",
            "Epoch = 1 loss =  0.7338288426399231\n",
            "Epoch = 1 loss =  0.7240017056465149\n",
            "Epoch = 1 loss =  0.1842966079711914\n",
            "Epoch = 1 loss =  0.1731434464454651\n",
            "Epoch = 1 loss =  0.33796125650405884\n",
            "Epoch = 1 loss =  0.1949598789215088\n",
            "Epoch = 1 loss =  0.28006744384765625\n",
            "Epoch = 1 loss =  1.668470859527588\n",
            "Epoch = 1 loss =  0.3277629017829895\n",
            "Epoch = 1 loss =  0.18356019258499146\n",
            "Epoch = 1 loss =  0.22596359252929688\n",
            "Epoch = 1 loss =  0.4411555230617523\n",
            "Epoch = 1 loss =  0.03554821014404297\n",
            "Epoch = 1 loss =  0.039006948471069336\n",
            "Epoch = 1 loss =  0.6352766752243042\n",
            "Epoch = 1 loss =  0.01891505718231201\n",
            "Epoch = 1 loss =  0.2615177631378174\n",
            "Epoch = 1 loss =  0.07968425750732422\n"
          ],
          "name": "stdout"
        }
      ]
    },
    {
      "metadata": {
        "colab_type": "code",
        "id": "AcOCZPyEE6Wi",
        "outputId": "e41fa78e-acb8-4f19-8d5d-9a547a172a7a",
        "colab": {
          "base_uri": "https://localhost:8080/",
          "height": 35
        }
      },
      "cell_type": "code",
      "source": [
        "re = []\n",
        "bert.eval()\n",
        "mlp.eval()\n",
        "with torch.no_grad():\n",
        "  for b in range(0,len(test_offsets_cls),1):\n",
        "    start = b\n",
        "    end = min(len(test_offsets_cls),b+1)\n",
        "    tr_X_padded, attention_mask = get_padded_and_mask(test_indexed_tokens, start, end)\n",
        "    tr_Y = torch.tensor(test_labels[start:end]).cuda()\n",
        "    tr_A_padded, tr_A_mask = get_padded_and_mask(test_offsets_A, start, end)\n",
        "    tr_B_padded, tr_B_mask = get_padded_and_mask(test_offsets_B, start, end)\n",
        "    tr_other_padded, tr_other_mask = get_padded_and_mask([np.array(list(i)+list(j)) for i,j in zip(test_offsets_cls,test_offsets_pron)], start, end)\n",
        "    segments_tensors = torch.zeros(tr_X_padded.size()).cuda().long()\n",
        "    \n",
        "    encoded_bert, _ = bert(tr_X_padded, segments_tensors,attention_mask,output_all_encoded_layers=False)\n",
        "    \n",
        "    pred_ = mlp(encoded_bert)\n",
        "    pred = torch.cat([extract_vectors(pred_, tr_A_padded, tr_A_mask),\\\n",
        "                              extract_vectors(pred_, tr_B_padded, tr_B_mask),extract_vectors(pred_, tr_other_padded, tr_other_mask)],1)\n",
        "    pred_data = pred.data.cpu().numpy()\n",
        "    re.append(pred_data)\n",
        "\n",
        "loss_c = nn.CrossEntropyLoss()\n",
        "\n",
        "loss_data = loss_c(torch.Tensor(np.concatenate(re).reshape(-1,3)),torch.Tensor(test_labels).long())\n",
        "print('Loss for test data is:', loss_data)"
      ],
      "execution_count": 17,
      "outputs": [
        {
          "output_type": "stream",
          "text": [
            "Loss for test data is: tensor(0.4245)\n"
          ],
          "name": "stdout"
        }
      ]
    },
    {
      "metadata": {
        "id": "RWGMWUGwR0nO",
        "colab_type": "code",
        "colab": {}
      },
      "cell_type": "code",
      "source": [
        "import os\n",
        "from joblib import dump, load\n",
        "from scipy.special import softmax\n",
        "pred = np.zeros((len(train_all),3))\n",
        "\n",
        "if CV in [0,1,2,3,4]:\n",
        "  if os.path.exists(model_name+'+basic.joblib'):\n",
        "    pred = load(model_name+'+basic.joblib')\n",
        "    os.remove(model_name+'+basic.joblib')\n",
        "  pred[test_index,:] = softmax(np.concatenate(re).reshape(-1,3),axis = 1)\n",
        "  dump(pred,model_name+'+basic.joblib')\n",
        "\n",
        "if CV == 5:\n",
        "  if os.path.exists(model_name+'+basic.joblib'):\n",
        "    pred_tr = load(model_name+'+basic.joblib')\n",
        "    os.remove(model_name+'+basic.joblib')\n",
        "  pred = softmax(np.concatenate(re).reshape(-1,3),axis = 1)\n",
        "  dump((pred_tr,pred),model_name+'+basic.joblib')\n",
        "  \n",
        "if CV == 6:\n",
        "  dump((bert,mlp),model_name +'.joblib')\n",
        "  \n",
        "\n",
        "\n",
        "  \n",
        "  \n",
        "\n",
        "      \n",
        "      "
      ],
      "execution_count": 0,
      "outputs": []
    },
    {
      "metadata": {
        "id": "2rb7eUKLqZGA",
        "colab_type": "code",
        "colab": {}
      },
      "cell_type": "code",
      "source": [
        ""
      ],
      "execution_count": 0,
      "outputs": []
    }
  ]
}