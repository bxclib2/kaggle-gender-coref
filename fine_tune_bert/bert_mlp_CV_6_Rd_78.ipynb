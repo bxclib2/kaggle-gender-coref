{
  "nbformat": 4,
  "nbformat_minor": 0,
  "metadata": {
    "colab": {
      "name": "bert_mlp_2.ipynb",
      "version": "0.3.2",
      "provenance": [],
      "collapsed_sections": [],
      "toc_visible": true
    },
    "language_info": {
      "codemirror_mode": {
        "name": "ipython",
        "version": 3
      },
      "file_extension": ".py",
      "mimetype": "text/x-python",
      "name": "python",
      "nbconvert_exporter": "python",
      "pygments_lexer": "ipython3",
      "version": "3.6.5"
    },
    "kernelspec": {
      "display_name": "Python 3",
      "language": "python",
      "name": "python3"
    },
    "accelerator": "GPU"
  },
  "cells": [
    {
      "metadata": {
        "colab_type": "text",
        "id": "MQx8Dyyo72Yz"
      },
      "cell_type": "markdown",
      "source": [
        "# Load data in pandas"
      ]
    },
    {
      "metadata": {
        "colab_type": "code",
        "id": "upPOhN4A2Bp_",
        "colab": {}
      },
      "cell_type": "code",
      "source": [
        "test_data_a = \"https://drive.google.com/uc?id=1rbhlUfffty5pHWPMPKBhR76dz4jp7ZFb&export=download\"\n",
        "\n",
        "train_data_a = \"https://drive.google.com/uc?id=1UU5wVku8v79aEKknkOBMrKNDZrTxUpJZ&export=download\"\n",
        "\n",
        "test_data = \"https://drive.google.com/uc?id=1Yabjq972kr7pA-HST7MP-9gR0xTSOjs_&export=download\"\n",
        "\n",
        "train_data = \"https://drive.google.com/uc?id=1SButl51QPhJ0WbFniXFLFO-YoxzJ0V3p&export=download\"\n",
        "\n",
        "valid_data = \"https://drive.google.com/uc?id=17EONLP166qnOeedOZrIl5xu5zznRH9b3&export=download\"\n",
        "\n",
        "valid_data_a = \"https://drive.google.com/uc?id=11Txw4zCcyYCJ6TCsr90F-LF2_b63HiZ2&export=download\""
      ],
      "execution_count": 0,
      "outputs": []
    },
    {
      "metadata": {
        "colab_type": "code",
        "id": "3CWoV5IINN-T",
        "outputId": "ba0aa2b7-9b4b-415c-a64f-eba172e47409",
        "colab": {
          "base_uri": "https://localhost:8080/",
          "height": 139
        }
      },
      "cell_type": "code",
      "source": [
        "!pip install pandas==0.24.1 # Google colab pandas is too old to read these pickle\n",
        "!pip install scipy==1.2.1 # Scipy is too low to have the function"
      ],
      "execution_count": 2,
      "outputs": [
        {
          "output_type": "stream",
          "text": [
            "Requirement already satisfied: pandas==0.24.1 in /usr/local/lib/python3.6/dist-packages (0.24.1)\n",
            "Requirement already satisfied: pytz>=2011k in /usr/local/lib/python3.6/dist-packages (from pandas==0.24.1) (2018.9)\n",
            "Requirement already satisfied: numpy>=1.12.0 in /usr/local/lib/python3.6/dist-packages (from pandas==0.24.1) (1.14.6)\n",
            "Requirement already satisfied: python-dateutil>=2.5.0 in /usr/local/lib/python3.6/dist-packages (from pandas==0.24.1) (2.5.3)\n",
            "Requirement already satisfied: six>=1.5 in /usr/local/lib/python3.6/dist-packages (from python-dateutil>=2.5.0->pandas==0.24.1) (1.11.0)\n",
            "Requirement already satisfied: scipy==1.2.1 in /usr/local/lib/python3.6/dist-packages (1.2.1)\n",
            "Requirement already satisfied: numpy>=1.8.2 in /usr/local/lib/python3.6/dist-packages (from scipy==1.2.1) (1.14.6)\n"
          ],
          "name": "stdout"
        }
      ]
    },
    {
      "metadata": {
        "colab_type": "code",
        "id": "EB3jRtj62_7z",
        "colab": {}
      },
      "cell_type": "code",
      "source": [
        "def download(url):\n",
        "  import requests\n",
        "  from io import BytesIO\n",
        "  r = requests.get(url)\n",
        "  data = r.content\n",
        "  df = pd.read_pickle(BytesIO(data),compression = None)\n",
        "  return df"
      ],
      "execution_count": 0,
      "outputs": []
    },
    {
      "metadata": {
        "colab_type": "code",
        "id": "vc5CHFi_3BaI",
        "colab": {}
      },
      "cell_type": "code",
      "source": [
        "import pandas as pd\n",
        "\n",
        "\n",
        "test_data = download(test_data)\n",
        "test_data_a = download(test_data_a)\n",
        "train_data = download(train_data)\n",
        "train_data_a = download(train_data_a)\n",
        "valid_data = download(valid_data)\n",
        "valid_data_a = download(valid_data_a)"
      ],
      "execution_count": 0,
      "outputs": []
    },
    {
      "metadata": {
        "colab_type": "code",
        "id": "trQCDQpV3ETm",
        "outputId": "1e7ac677-feb5-4a12-d8a1-9d8a5c498231",
        "colab": {
          "base_uri": "https://localhost:8080/",
          "height": 156
        }
      },
      "cell_type": "code",
      "source": [
        "train_data.columns"
      ],
      "execution_count": 5,
      "outputs": [
        {
          "output_type": "execute_result",
          "data": {
            "text/plain": [
              "Index(['ID', 'Text', 'Pronoun', 'Pronoun-offset', 'A', 'A-offset', 'A-coref',\n",
              "       'B', 'B-offset', 'B-coref', 'URL', 'bert_tokens_torch', 'name_list',\n",
              "       'token_map_bert', 'sentence_map_bert', 'A_dist_bert', 'B_dist_bert',\n",
              "       'A_pos_bert', 'B_pos_bert', 'pron_pos_bert', 'A_idx_bert_torch',\n",
              "       'B_idx_bert_torch', 'pron_idx_bert_torch', 'topic', 'topic_A',\n",
              "       'topic_B', 'name_idx_bert_torch', 'neither_list',\n",
              "       'neither_idx_bert_torch', 'label'],\n",
              "      dtype='object')"
            ]
          },
          "metadata": {
            "tags": []
          },
          "execution_count": 5
        }
      ]
    },
    {
      "metadata": {
        "colab_type": "text",
        "id": "08LumTML9ReZ"
      },
      "cell_type": "markdown",
      "source": [
        "# Fine-tune BERT-large and mlp model"
      ]
    },
    {
      "metadata": {
        "colab_type": "code",
        "id": "tJAoTvWk6ONn",
        "outputId": "4e6b09c1-e016-4310-9829-021f230fbd08",
        "colab": {
          "base_uri": "https://localhost:8080/",
          "height": 350
        }
      },
      "cell_type": "code",
      "source": [
        "!pip install pytorch-pretrained-bert\n",
        "import numpy as np\n",
        "import torch\n",
        "from pytorch_pretrained_bert import BertTokenizer, BertModel\n",
        "import torch.nn as nn"
      ],
      "execution_count": 6,
      "outputs": [
        {
          "output_type": "stream",
          "text": [
            "Requirement already satisfied: pytorch-pretrained-bert in /usr/local/lib/python3.6/dist-packages (0.6.1)\n",
            "Requirement already satisfied: numpy in /usr/local/lib/python3.6/dist-packages (from pytorch-pretrained-bert) (1.14.6)\n",
            "Requirement already satisfied: torch>=0.4.1 in /usr/local/lib/python3.6/dist-packages (from pytorch-pretrained-bert) (1.0.1.post2)\n",
            "Requirement already satisfied: requests in /usr/local/lib/python3.6/dist-packages (from pytorch-pretrained-bert) (2.18.4)\n",
            "Requirement already satisfied: boto3 in /usr/local/lib/python3.6/dist-packages (from pytorch-pretrained-bert) (1.9.130)\n",
            "Requirement already satisfied: tqdm in /usr/local/lib/python3.6/dist-packages (from pytorch-pretrained-bert) (4.28.1)\n",
            "Requirement already satisfied: regex in /usr/local/lib/python3.6/dist-packages (from pytorch-pretrained-bert) (2018.1.10)\n",
            "Requirement already satisfied: certifi>=2017.4.17 in /usr/local/lib/python3.6/dist-packages (from requests->pytorch-pretrained-bert) (2019.3.9)\n",
            "Requirement already satisfied: idna<2.7,>=2.5 in /usr/local/lib/python3.6/dist-packages (from requests->pytorch-pretrained-bert) (2.6)\n",
            "Requirement already satisfied: chardet<3.1.0,>=3.0.2 in /usr/local/lib/python3.6/dist-packages (from requests->pytorch-pretrained-bert) (3.0.4)\n",
            "Requirement already satisfied: urllib3<1.23,>=1.21.1 in /usr/local/lib/python3.6/dist-packages (from requests->pytorch-pretrained-bert) (1.22)\n",
            "Requirement already satisfied: botocore<1.13.0,>=1.12.130 in /usr/local/lib/python3.6/dist-packages (from boto3->pytorch-pretrained-bert) (1.12.130)\n",
            "Requirement already satisfied: s3transfer<0.3.0,>=0.2.0 in /usr/local/lib/python3.6/dist-packages (from boto3->pytorch-pretrained-bert) (0.2.0)\n",
            "Requirement already satisfied: jmespath<1.0.0,>=0.7.1 in /usr/local/lib/python3.6/dist-packages (from boto3->pytorch-pretrained-bert) (0.9.4)\n",
            "Requirement already satisfied: python-dateutil<3.0.0,>=2.1; python_version >= \"2.7\" in /usr/local/lib/python3.6/dist-packages (from botocore<1.13.0,>=1.12.130->boto3->pytorch-pretrained-bert) (2.5.3)\n",
            "Requirement already satisfied: docutils>=0.10 in /usr/local/lib/python3.6/dist-packages (from botocore<1.13.0,>=1.12.130->boto3->pytorch-pretrained-bert) (0.14)\n",
            "Requirement already satisfied: six>=1.5 in /usr/local/lib/python3.6/dist-packages (from python-dateutil<3.0.0,>=2.1; python_version >= \"2.7\"->botocore<1.13.0,>=1.12.130->boto3->pytorch-pretrained-bert) (1.11.0)\n",
            "Better speed can be achieved with apex installed from https://www.github.com/nvidia/apex.\n"
          ],
          "name": "stdout"
        }
      ]
    },
    {
      "metadata": {
        "colab_type": "code",
        "id": "VAdhbGXPQ0E3",
        "outputId": "4bef7f18-29ec-4e9d-d6f1-ed68a2280a4d",
        "colab": {
          "base_uri": "https://localhost:8080/",
          "height": 52
        }
      },
      "cell_type": "code",
      "source": [
        "tokenizer = BertTokenizer.from_pretrained('bert-large-uncased')\n",
        "# form train_data\n",
        "train_all = pd.concat([train_data, valid_data], ignore_index=True, sort=False)\n",
        "# train_all = train_data\n",
        "train_all['indexed_tokens'] = train_all['bert_tokens_torch'].apply(lambda x: tokenizer.convert_tokens_to_ids(x))\n",
        "train_indexed_tokens = list(train_all['indexed_tokens'])\n",
        "train_offsets_A = list(train_all['A_idx_bert_torch'])\n",
        "train_offsets_B = list(train_all['B_idx_bert_torch'])\n",
        "train_offsets_pron = list(train_all['pron_idx_bert_torch'])\n",
        "train_offsets_other = list(train_all['neither_idx_bert_torch'])\n",
        "train_offsets_cls = [np.array([0])]*len(train_offsets_other)\n",
        "train_labels = list(train_all['label'])\n",
        "print('Number of training data is:',len(train_all))\n",
        "\n",
        "\n",
        "# form test_data\n",
        "test_data['indexed_tokens'] = test_data['bert_tokens_torch'].apply(lambda x: tokenizer.convert_tokens_to_ids(x))\n",
        "test_indexed_tokens = list(test_data['indexed_tokens'])\n",
        "test_offsets_A = list(test_data['A_idx_bert_torch'])\n",
        "test_offsets_B = list(test_data['B_idx_bert_torch'])\n",
        "test_offsets_pron = list(test_data['pron_idx_bert_torch'])\n",
        "test_offsets_other = list(test_data['neither_idx_bert_torch'])\n",
        "test_offsets_cls = [np.array([0])]*len(test_offsets_other)\n",
        "test_labels = list(test_data['label'])\n",
        "print('Number of testing data is:',len(test_data))"
      ],
      "execution_count": 7,
      "outputs": [
        {
          "output_type": "stream",
          "text": [
            "Number of training data is: 2454\n",
            "Number of testing data is: 2000\n"
          ],
          "name": "stdout"
        }
      ]
    },
    {
      "metadata": {
        "id": "5_SioIlk2yWc",
        "colab_type": "code",
        "colab": {}
      },
      "cell_type": "code",
      "source": [
        "import numpy as np\n",
        "\n",
        "torch_rd = 78\n",
        "np.random.seed(seed=0)\n",
        "\n",
        "import torch\n",
        "torch.manual_seed(torch_rd)\n",
        "\n",
        "model_name = \"bert_large_rd\"+str(torch_rd)\n",
        "\n",
        "CV = 6"
      ],
      "execution_count": 0,
      "outputs": []
    },
    {
      "metadata": {
        "colab_type": "code",
        "id": "_k2_wWCC88TK",
        "outputId": "08e15472-041a-49ec-cbba-f53d0fad3647",
        "colab": {
          "base_uri": "https://localhost:8080/",
          "height": 34
        }
      },
      "cell_type": "code",
      "source": [
        "max([len(i) for i in test_indexed_tokens])"
      ],
      "execution_count": 9,
      "outputs": [
        {
          "output_type": "execute_result",
          "data": {
            "text/plain": [
              "348"
            ]
          },
          "metadata": {
            "tags": []
          },
          "execution_count": 9
        }
      ]
    },
    {
      "metadata": {
        "id": "gA2T58t54rG0",
        "colab_type": "code",
        "colab": {}
      },
      "cell_type": "code",
      "source": [
        "from sklearn.model_selection import KFold \n",
        "kf = KFold(n_splits=5) \n",
        "k = 0\n",
        "for train_index, test_index in kf.split(train_labels):\n",
        "  if k == CV:\n",
        "    break\n",
        "  k = k + 1"
      ],
      "execution_count": 0,
      "outputs": []
    },
    {
      "metadata": {
        "id": "HxPTk4ZV7k_B",
        "colab_type": "code",
        "outputId": "c2703fbf-82e9-43dc-b97c-1e2ede0892f7",
        "colab": {
          "base_uri": "https://localhost:8080/",
          "height": 799
        }
      },
      "cell_type": "code",
      "source": [
        "test_index"
      ],
      "execution_count": 11,
      "outputs": [
        {
          "output_type": "execute_result",
          "data": {
            "text/plain": [
              "array([1964, 1965, 1966, 1967, 1968, 1969, 1970, 1971, 1972, 1973, 1974,\n",
              "       1975, 1976, 1977, 1978, 1979, 1980, 1981, 1982, 1983, 1984, 1985,\n",
              "       1986, 1987, 1988, 1989, 1990, 1991, 1992, 1993, 1994, 1995, 1996,\n",
              "       1997, 1998, 1999, 2000, 2001, 2002, 2003, 2004, 2005, 2006, 2007,\n",
              "       2008, 2009, 2010, 2011, 2012, 2013, 2014, 2015, 2016, 2017, 2018,\n",
              "       2019, 2020, 2021, 2022, 2023, 2024, 2025, 2026, 2027, 2028, 2029,\n",
              "       2030, 2031, 2032, 2033, 2034, 2035, 2036, 2037, 2038, 2039, 2040,\n",
              "       2041, 2042, 2043, 2044, 2045, 2046, 2047, 2048, 2049, 2050, 2051,\n",
              "       2052, 2053, 2054, 2055, 2056, 2057, 2058, 2059, 2060, 2061, 2062,\n",
              "       2063, 2064, 2065, 2066, 2067, 2068, 2069, 2070, 2071, 2072, 2073,\n",
              "       2074, 2075, 2076, 2077, 2078, 2079, 2080, 2081, 2082, 2083, 2084,\n",
              "       2085, 2086, 2087, 2088, 2089, 2090, 2091, 2092, 2093, 2094, 2095,\n",
              "       2096, 2097, 2098, 2099, 2100, 2101, 2102, 2103, 2104, 2105, 2106,\n",
              "       2107, 2108, 2109, 2110, 2111, 2112, 2113, 2114, 2115, 2116, 2117,\n",
              "       2118, 2119, 2120, 2121, 2122, 2123, 2124, 2125, 2126, 2127, 2128,\n",
              "       2129, 2130, 2131, 2132, 2133, 2134, 2135, 2136, 2137, 2138, 2139,\n",
              "       2140, 2141, 2142, 2143, 2144, 2145, 2146, 2147, 2148, 2149, 2150,\n",
              "       2151, 2152, 2153, 2154, 2155, 2156, 2157, 2158, 2159, 2160, 2161,\n",
              "       2162, 2163, 2164, 2165, 2166, 2167, 2168, 2169, 2170, 2171, 2172,\n",
              "       2173, 2174, 2175, 2176, 2177, 2178, 2179, 2180, 2181, 2182, 2183,\n",
              "       2184, 2185, 2186, 2187, 2188, 2189, 2190, 2191, 2192, 2193, 2194,\n",
              "       2195, 2196, 2197, 2198, 2199, 2200, 2201, 2202, 2203, 2204, 2205,\n",
              "       2206, 2207, 2208, 2209, 2210, 2211, 2212, 2213, 2214, 2215, 2216,\n",
              "       2217, 2218, 2219, 2220, 2221, 2222, 2223, 2224, 2225, 2226, 2227,\n",
              "       2228, 2229, 2230, 2231, 2232, 2233, 2234, 2235, 2236, 2237, 2238,\n",
              "       2239, 2240, 2241, 2242, 2243, 2244, 2245, 2246, 2247, 2248, 2249,\n",
              "       2250, 2251, 2252, 2253, 2254, 2255, 2256, 2257, 2258, 2259, 2260,\n",
              "       2261, 2262, 2263, 2264, 2265, 2266, 2267, 2268, 2269, 2270, 2271,\n",
              "       2272, 2273, 2274, 2275, 2276, 2277, 2278, 2279, 2280, 2281, 2282,\n",
              "       2283, 2284, 2285, 2286, 2287, 2288, 2289, 2290, 2291, 2292, 2293,\n",
              "       2294, 2295, 2296, 2297, 2298, 2299, 2300, 2301, 2302, 2303, 2304,\n",
              "       2305, 2306, 2307, 2308, 2309, 2310, 2311, 2312, 2313, 2314, 2315,\n",
              "       2316, 2317, 2318, 2319, 2320, 2321, 2322, 2323, 2324, 2325, 2326,\n",
              "       2327, 2328, 2329, 2330, 2331, 2332, 2333, 2334, 2335, 2336, 2337,\n",
              "       2338, 2339, 2340, 2341, 2342, 2343, 2344, 2345, 2346, 2347, 2348,\n",
              "       2349, 2350, 2351, 2352, 2353, 2354, 2355, 2356, 2357, 2358, 2359,\n",
              "       2360, 2361, 2362, 2363, 2364, 2365, 2366, 2367, 2368, 2369, 2370,\n",
              "       2371, 2372, 2373, 2374, 2375, 2376, 2377, 2378, 2379, 2380, 2381,\n",
              "       2382, 2383, 2384, 2385, 2386, 2387, 2388, 2389, 2390, 2391, 2392,\n",
              "       2393, 2394, 2395, 2396, 2397, 2398, 2399, 2400, 2401, 2402, 2403,\n",
              "       2404, 2405, 2406, 2407, 2408, 2409, 2410, 2411, 2412, 2413, 2414,\n",
              "       2415, 2416, 2417, 2418, 2419, 2420, 2421, 2422, 2423, 2424, 2425,\n",
              "       2426, 2427, 2428, 2429, 2430, 2431, 2432, 2433, 2434, 2435, 2436,\n",
              "       2437, 2438, 2439, 2440, 2441, 2442, 2443, 2444, 2445, 2446, 2447,\n",
              "       2448, 2449, 2450, 2451, 2452, 2453])"
            ]
          },
          "metadata": {
            "tags": []
          },
          "execution_count": 11
        }
      ]
    },
    {
      "metadata": {
        "id": "oiWZQFW-8Zt3",
        "colab_type": "code",
        "colab": {}
      },
      "cell_type": "code",
      "source": [
        "if CV in [0,1,2,3,4]:\n",
        "  train_indexed_tokens,test_indexed_tokens = [train_indexed_tokens[i] for i in list(train_index)],[train_indexed_tokens[i] for i in list(test_index)]\n",
        "  train_offsets_A,test_offsets_A = [train_offsets_A[i] for i in list(train_index)],[train_offsets_A[i] for i in list(test_index)]\n",
        "  train_offsets_B,test_offsets_B = [train_offsets_B[i] for i in list(train_index)],[train_offsets_B[i] for i in list(test_index)]\n",
        "  train_offsets_pron,test_offsets_pron = [train_offsets_pron[i] for i in list(train_index)],[train_offsets_pron[i] for i in list(test_index)]\n",
        "  train_offsets_other,test_offsets_other = [train_offsets_other[i] for i in list(train_index)],[train_offsets_other[i] for i in list(test_index)]\n",
        "  train_offsets_cls,test_offsets_cls = [train_offsets_cls[i] for i in list(train_index)],[train_offsets_cls[i] for i in list(test_index)]\n",
        "  train_labels,test_labels = [train_labels[i] for i in list(train_index)],[train_labels[i] for i in list(test_index)]\n",
        "  \n",
        "if CV == 6:\n",
        "  train_indexed_tokens = train_indexed_tokens + test_indexed_tokens\n",
        "  train_offsets_A = train_offsets_A + test_offsets_A\n",
        "  train_offsets_B = train_offsets_B + test_offsets_B\n",
        "  train_offsets_pron = train_offsets_pron + test_offsets_pron\n",
        "  train_offsets_other = train_offsets_other + test_offsets_other\n",
        "  train_offsets_cls = train_offsets_cls + test_offsets_cls\n",
        "  train_labels = train_labels + test_labels\n",
        "  "
      ],
      "execution_count": 0,
      "outputs": []
    },
    {
      "metadata": {
        "colab_type": "code",
        "id": "3Jp1gKOLQ2w4",
        "colab": {}
      },
      "cell_type": "code",
      "source": [
        "class MLP(nn.Module):\n",
        "    def __init__(self, bert_hidden_size):\n",
        "        super().__init__()\n",
        "        self.bert_hidden_size = bert_hidden_size\n",
        "        self.fc = nn.Sequential(\n",
        "            nn.Dropout(0.3),\n",
        "            nn.Linear(bert_hidden_size, 1),\n",
        "\n",
        "        )\n",
        "        \n",
        "    def forward(self, vector):\n",
        "        return self.fc(vector)"
      ],
      "execution_count": 0,
      "outputs": []
    },
    {
      "metadata": {
        "id": "7GLQjwsumNx4",
        "colab_type": "code",
        "colab": {}
      },
      "cell_type": "code",
      "source": [
        "def change_dropout(module,p):\n",
        "    for name in module.__dict__['_modules']:\n",
        "        if name == \"dropout\":\n",
        "            module.__dict__['_modules'][name].p = p\n",
        "        else:\n",
        "            change_dropout(module.__dict__['_modules'][name],p)"
      ],
      "execution_count": 0,
      "outputs": []
    },
    {
      "metadata": {
        "colab_type": "code",
        "id": "Uf9xXkkoiwvy",
        "colab": {}
      },
      "cell_type": "code",
      "source": [
        "def extract_vectors(bert_last_layer, offsets, offsets_mask):\n",
        "    extracted_vectors = bert_last_layer.gather(\n",
        "        1, offsets.unsqueeze(2).expand(-1, -1, 1))\n",
        "    vector_masked = extracted_vectors.mul(offsets_mask.unsqueeze(2).float()).sum(1)/(offsets_mask.sum(1).unsqueeze(1).float())\n",
        "    return vector_masked\n",
        "  \n",
        "def get_padded_and_mask(sequence, left, right):\n",
        "    seq_ori = sequence[left:right]\n",
        "    seq_padded = pad_sequence([torch.Tensor(v) for v in seq_ori],batch_first = True).cuda().long()\n",
        "    mask = (seq_padded != 0).cuda().long()\n",
        "    return seq_padded, mask"
      ],
      "execution_count": 0,
      "outputs": []
    },
    {
      "metadata": {
        "colab_type": "code",
        "id": "mE3Yc5Np_0rD",
        "outputId": "1ef61290-cf63-45f4-b23e-dc9b34e1f094",
        "colab": {
          "base_uri": "https://localhost:8080/",
          "height": 799
        }
      },
      "cell_type": "code",
      "source": [
        "from torch.nn.utils.rnn import pad_sequence\n",
        "sub_batch = 2 # batch size越大越差？不知道什么操作\n",
        "acc_time = 8\n",
        "acc_counter = 0\n",
        "EPOCHS = 1\n",
        "  \n",
        "\n",
        "loss_c = nn.CrossEntropyLoss()\n",
        "loss_c.cuda()\n",
        "bert = BertModel.from_pretrained('bert-large-uncased')\n",
        "bert =  bert.cuda()\n",
        "change_dropout(bert,0.15) # 上面28的情况下改成dropout 0.1会爆内存\n",
        "\n",
        "mlp = MLP(1024).cuda()\n",
        "change_dropout(mlp,0)\n",
        "\n",
        "#opt = torch.optim.Adam([\n",
        "#     {'params': bert.parameters(), 'lr': 2e-5},{'params': mlp.parameters()}\n",
        "# ], lr=1e-3)\n",
        "# opt = torch.optim.SGD(list(bert.parameters()) + list(mlp.parameters()), lr = 2e-5, momentum = 2e-4)\n",
        "opt = torch.optim.Adam(list(bert.parameters()) + list(mlp.parameters()), lr=2e-5)\n",
        "\n",
        "for e in range(1, EPOCHS+1):\n",
        "  for b in range(0,len(train_offsets_cls),sub_batch):\n",
        "    start = b\n",
        "    end = min(len(train_offsets_cls),b+sub_batch)\n",
        "  \n",
        "    tr_X_padded, attention_mask = get_padded_and_mask(train_indexed_tokens, start, end)\n",
        "    tr_Y = torch.tensor(train_labels[start:end]).cuda()\n",
        "    tr_A_padded, tr_A_mask = get_padded_and_mask(train_offsets_A, start, end)\n",
        "    tr_B_padded, tr_B_mask = get_padded_and_mask(train_offsets_B, start, end)\n",
        "    tr_other_padded, tr_other_mask = get_padded_and_mask([np.array(list(i)+list(j)) for i,j in zip(train_offsets_cls,train_offsets_pron)], start, end)\n",
        "    segments_tensors = torch.zeros(tr_X_padded.size()).cuda().long()\n",
        "    \n",
        "    encoded_bert, _ = bert(tr_X_padded, segments_tensors,attention_mask,output_all_encoded_layers=False)\n",
        "    \n",
        "    pred_ = mlp(encoded_bert)\n",
        "    pred = torch.cat([extract_vectors(pred_, tr_A_padded, tr_A_mask),\\\n",
        "                              extract_vectors(pred_, tr_B_padded, tr_B_mask),extract_vectors(pred_, tr_other_padded, tr_other_mask)],1)\n",
        "\n",
        "    loss = loss_c(pred, tr_Y)\n",
        "\n",
        "    loss.backward()\n",
        "    acc_counter = acc_counter+1\n",
        "    if acc_counter == acc_time:\n",
        "      opt.step()\n",
        "      acc_counter = 0\n",
        "      opt.zero_grad()\n",
        "      torch.cuda.empty_cache()\n",
        "    if b%100 == 0:\n",
        "      print (\"Epoch =\",e,\"loss = \",loss.item())"
      ],
      "execution_count": 16,
      "outputs": [
        {
          "output_type": "stream",
          "text": [
            "Epoch = 1 loss =  1.1234710216522217\n",
            "Epoch = 1 loss =  0.589855968952179\n",
            "Epoch = 1 loss =  0.8457642793655396\n",
            "Epoch = 1 loss =  0.6831784248352051\n",
            "Epoch = 1 loss =  0.29253000020980835\n",
            "Epoch = 1 loss =  0.24752283096313477\n",
            "Epoch = 1 loss =  0.583827793598175\n",
            "Epoch = 1 loss =  0.2646169662475586\n",
            "Epoch = 1 loss =  0.15187382698059082\n",
            "Epoch = 1 loss =  1.9655089378356934\n",
            "Epoch = 1 loss =  0.3362148404121399\n",
            "Epoch = 1 loss =  0.5149853229522705\n",
            "Epoch = 1 loss =  1.91571044921875\n",
            "Epoch = 1 loss =  0.12521660327911377\n",
            "Epoch = 1 loss =  0.26120948791503906\n",
            "Epoch = 1 loss =  0.558201789855957\n",
            "Epoch = 1 loss =  0.7934609055519104\n",
            "Epoch = 1 loss =  0.056888699531555176\n",
            "Epoch = 1 loss =  0.48524463176727295\n",
            "Epoch = 1 loss =  2.0962138175964355\n",
            "Epoch = 1 loss =  0.7157219052314758\n",
            "Epoch = 1 loss =  0.7790604829788208\n",
            "Epoch = 1 loss =  0.9454501271247864\n",
            "Epoch = 1 loss =  0.08101242780685425\n",
            "Epoch = 1 loss =  0.8946458697319031\n",
            "Epoch = 1 loss =  0.70745849609375\n",
            "Epoch = 1 loss =  0.4614053964614868\n",
            "Epoch = 1 loss =  0.31636011600494385\n",
            "Epoch = 1 loss =  0.19201743602752686\n",
            "Epoch = 1 loss =  0.20265185832977295\n",
            "Epoch = 1 loss =  0.16712641716003418\n",
            "Epoch = 1 loss =  0.029595375061035156\n",
            "Epoch = 1 loss =  0.015807390213012695\n",
            "Epoch = 1 loss =  0.47259020805358887\n",
            "Epoch = 1 loss =  0.6912215948104858\n",
            "Epoch = 1 loss =  0.15306022763252258\n",
            "Epoch = 1 loss =  0.5751253962516785\n",
            "Epoch = 1 loss =  0.18931615352630615\n",
            "Epoch = 1 loss =  0.3170750141143799\n",
            "Epoch = 1 loss =  0.06886482238769531\n",
            "Epoch = 1 loss =  0.5284299850463867\n",
            "Epoch = 1 loss =  0.34645700454711914\n",
            "Epoch = 1 loss =  1.4840713739395142\n",
            "Epoch = 1 loss =  0.026256561279296875\n",
            "Epoch = 1 loss =  0.10184621810913086\n"
          ],
          "name": "stdout"
        }
      ]
    },
    {
      "metadata": {
        "colab_type": "code",
        "id": "AcOCZPyEE6Wi",
        "outputId": "007562aa-3935-42dc-f404-8768923f0a45",
        "colab": {
          "base_uri": "https://localhost:8080/",
          "height": 34
        }
      },
      "cell_type": "code",
      "source": [
        "re = []\n",
        "bert.eval()\n",
        "mlp.eval()\n",
        "with torch.no_grad():\n",
        "  for b in range(0,len(test_offsets_cls),1):\n",
        "    start = b\n",
        "    end = min(len(test_offsets_cls),b+1)\n",
        "    tr_X_padded, attention_mask = get_padded_and_mask(test_indexed_tokens, start, end)\n",
        "    tr_Y = torch.tensor(test_labels[start:end]).cuda()\n",
        "    tr_A_padded, tr_A_mask = get_padded_and_mask(test_offsets_A, start, end)\n",
        "    tr_B_padded, tr_B_mask = get_padded_and_mask(test_offsets_B, start, end)\n",
        "    tr_other_padded, tr_other_mask = get_padded_and_mask([np.array(list(i)+list(j)) for i,j in zip(test_offsets_cls,test_offsets_pron)], start, end)\n",
        "    segments_tensors = torch.zeros(tr_X_padded.size()).cuda().long()\n",
        "    \n",
        "    encoded_bert, _ = bert(tr_X_padded, segments_tensors,attention_mask,output_all_encoded_layers=False)\n",
        "    \n",
        "    pred_ = mlp(encoded_bert)\n",
        "    pred = torch.cat([extract_vectors(pred_, tr_A_padded, tr_A_mask),\\\n",
        "                              extract_vectors(pred_, tr_B_padded, tr_B_mask),extract_vectors(pred_, tr_other_padded, tr_other_mask)],1)\n",
        "    pred_data = pred.data.cpu().numpy()\n",
        "    re.append(pred_data)\n",
        "\n",
        "loss_c = nn.CrossEntropyLoss()\n",
        "\n",
        "loss_data = loss_c(torch.Tensor(np.concatenate(re).reshape(-1,3)),torch.Tensor(test_labels).long())\n",
        "print('Loss for test data is:', loss_data)"
      ],
      "execution_count": 17,
      "outputs": [
        {
          "output_type": "stream",
          "text": [
            "Loss for test data is: tensor(0.1678)\n"
          ],
          "name": "stdout"
        }
      ]
    },
    {
      "metadata": {
        "id": "RWGMWUGwR0nO",
        "colab_type": "code",
        "colab": {}
      },
      "cell_type": "code",
      "source": [
        "import os\n",
        "from joblib import dump, load\n",
        "from scipy.special import softmax\n",
        "pred = np.zeros((len(train_all),3))\n",
        "\n",
        "if CV in [0,1,2,3,4]:\n",
        "  if os.path.exists(model_name+'+basic.joblib'):\n",
        "    pred = load(model_name+'+basic.joblib')\n",
        "    os.remove(model_name+'+basic.joblib')\n",
        "  pred[test_index,:] = softmax(np.concatenate(re).reshape(-1,3),axis = 1)\n",
        "  dump(pred,model_name+'+basic.joblib')\n",
        "\n",
        "if CV == 5:\n",
        "  if os.path.exists(model_name+'+basic.joblib'):\n",
        "    pred_tr = load(model_name+'+basic.joblib')\n",
        "    os.remove(model_name+'+basic.joblib')\n",
        "  pred = softmax(np.concatenate(re).reshape(-1,3),axis = 1)\n",
        "  dump((pred_tr,pred),model_name+'+basic.joblib')\n",
        "  \n",
        "if CV == 6:\n",
        "  dump((bert,mlp),model_name +'.joblib')\n",
        "  \n",
        "\n",
        "\n",
        "  \n",
        "  \n",
        "\n",
        "      \n",
        "      "
      ],
      "execution_count": 0,
      "outputs": []
    },
    {
      "metadata": {
        "id": "2rb7eUKLqZGA",
        "colab_type": "code",
        "colab": {}
      },
      "cell_type": "code",
      "source": [
        ""
      ],
      "execution_count": 0,
      "outputs": []
    }
  ]
}