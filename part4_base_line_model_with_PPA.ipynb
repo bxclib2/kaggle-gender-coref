{
 "cells": [
  {
   "cell_type": "code",
   "execution_count": 1,
   "metadata": {},
   "outputs": [],
   "source": [
    "import pandas as pd\n",
    "import numpy as np\n",
    "import datetime"
   ]
  },
  {
   "cell_type": "code",
   "execution_count": 2,
   "metadata": {},
   "outputs": [],
   "source": [
    "gap_train= pd.read_pickle('./temp_result/train_kaggle_processed_PPA')\n",
    "gap_test= pd.read_pickle('./temp_result/test_kaggle_processed_PPA')\n",
    "gap_valid= pd.read_pickle('./temp_result/valid_kaggle_processed_PPA')"
   ]
  },
  {
   "cell_type": "code",
   "execution_count": 3,
   "metadata": {},
   "outputs": [],
   "source": [
    "def label(A,B):\n",
    "    if A is True:\n",
    "        return 0\n",
    "    if B is True:\n",
    "        return 1\n",
    "    return 2"
   ]
  },
  {
   "cell_type": "code",
   "execution_count": 4,
   "metadata": {},
   "outputs": [],
   "source": [
    "import torch\n",
    "def compute_loss(sub_df,test_data):\n",
    "    pred = torch.Tensor(np.log(sub_df.loc[:,['A','B','NEITHER']].values))\n",
    "    label = torch.LongTensor(list(test_data.label))\n",
    "    loss = torch.nn.NLLLoss()\n",
    "    loss_value = loss(pred,label).item()\n",
    "    return loss_value"
   ]
  },
  {
   "cell_type": "code",
   "execution_count": 5,
   "metadata": {},
   "outputs": [],
   "source": [
    "train_data = gap_train.drop(columns = ['ID', 'Text', 'Pronoun', 'vector','Pronoun-offset', 'A', 'A-offset',\n",
    "       'B', 'B-offset', 'URL', 'tokens', 'token_map',\n",
    "       'sentence_map','A_idx', 'B_idx', 'pron_idx'])\n",
    "train_data.A_vector = train_data.A_vector.map(lambda x:np.mean(x,axis = 0))\n",
    "train_data.B_vector = train_data.B_vector.map(lambda x:np.mean(x,axis = 0))\n",
    "train_data.pron_vector = train_data.pron_vector.map(lambda x:np.mean(x,axis = 0))\n",
    "train_data[\"product_vector_A\"] = train_data.A_vector*train_data.pron_vector\n",
    "train_data[\"product_vector_B\"] = train_data.B_vector*train_data.pron_vector\n",
    "train_data[\"label\"] = train_data.apply(lambda x:label(x[\"A-coref\"],x[\"B-coref\"]),axis = 1)\n",
    "train_data = train_data.drop(columns= [\"A-coref\",\"B-coref\"])"
   ]
  },
  {
   "cell_type": "code",
   "execution_count": 6,
   "metadata": {},
   "outputs": [],
   "source": [
    "test_data = gap_test.drop(columns = ['ID', 'Text', 'Pronoun', 'vector','Pronoun-offset', 'A', 'A-offset',\n",
    "       'B', 'B-offset', 'URL', 'tokens', 'token_map',\n",
    "       'sentence_map','A_idx', 'B_idx', 'pron_idx'])\n",
    "test_data.A_vector = test_data.A_vector.map(lambda x:np.mean(x,axis = 0))\n",
    "test_data.B_vector = test_data.B_vector.map(lambda x:np.mean(x,axis = 0))\n",
    "test_data.pron_vector = test_data.pron_vector.map(lambda x:np.mean(x,axis = 0))\n",
    "test_data[\"product_vector_A\"] = test_data.A_vector*test_data.pron_vector\n",
    "test_data[\"product_vector_B\"] = test_data.B_vector*test_data.pron_vector\n",
    "test_data[\"label\"] = test_data.apply(lambda x:label(x[\"A-coref\"],x[\"B-coref\"]),axis = 1)\n",
    "test_data = test_data.drop(columns= [\"A-coref\",\"B-coref\"])"
   ]
  },
  {
   "cell_type": "code",
   "execution_count": 7,
   "metadata": {},
   "outputs": [],
   "source": [
    "valid_data = gap_valid.drop(columns = ['ID', 'Text', 'Pronoun', 'vector','Pronoun-offset', 'A', 'A-offset',\n",
    "       'B', 'B-offset', 'URL', 'tokens', 'token_map',\n",
    "       'sentence_map','A_idx', 'B_idx', 'pron_idx'])\n",
    "valid_data.A_vector = valid_data.A_vector.map(lambda x:np.mean(x,axis = 0))\n",
    "valid_data.B_vector = valid_data.B_vector.map(lambda x:np.mean(x,axis = 0))\n",
    "valid_data.pron_vector = valid_data.pron_vector.map(lambda x:np.mean(x,axis = 0))\n",
    "valid_data[\"product_vector_A\"] = valid_data.A_vector*valid_data.pron_vector\n",
    "valid_data[\"product_vector_B\"] = valid_data.B_vector*valid_data.pron_vector\n",
    "valid_data[\"label\"] = valid_data.apply(lambda x:label(x[\"A-coref\"],x[\"B-coref\"]),axis = 1)\n",
    "valid_data = valid_data.drop(columns= [\"A-coref\",\"B-coref\"])"
   ]
  },
  {
   "cell_type": "code",
   "execution_count": 8,
   "metadata": {},
   "outputs": [],
   "source": [
    "columns = train_data.columns[:-1]\n",
    "X_train = np.concatenate([np.array(list(train_data[col])).reshape(train_data.shape[0],-1) for col in columns],axis = 1)\n",
    "y_train = list(train_data.label)   "
   ]
  },
  {
   "cell_type": "code",
   "execution_count": 9,
   "metadata": {},
   "outputs": [],
   "source": [
    "X_valid = np.concatenate([np.array(list(valid_data[col])).reshape(valid_data.shape[0],-1) for col in columns],axis = 1)\n",
    "y_valid = list(valid_data.label)   "
   ]
  },
  {
   "cell_type": "code",
   "execution_count": 10,
   "metadata": {},
   "outputs": [],
   "source": [
    "X_test = np.concatenate([np.array(list(test_data[col])).reshape(test_data.shape[0],-1) for col in columns],axis = 1)\n",
    "y_test= list(test_data.label)   "
   ]
  },
  {
   "cell_type": "code",
   "execution_count": 11,
   "metadata": {},
   "outputs": [
    {
     "data": {
      "text/html": [
       "<div>\n",
       "<style scoped>\n",
       "    .dataframe tbody tr th:only-of-type {\n",
       "        vertical-align: middle;\n",
       "    }\n",
       "\n",
       "    .dataframe tbody tr th {\n",
       "        vertical-align: top;\n",
       "    }\n",
       "\n",
       "    .dataframe thead th {\n",
       "        text-align: right;\n",
       "    }\n",
       "</style>\n",
       "<table border=\"1\" class=\"dataframe\">\n",
       "  <thead>\n",
       "    <tr style=\"text-align: right;\">\n",
       "      <th></th>\n",
       "      <th>A_dist</th>\n",
       "      <th>B_dist</th>\n",
       "      <th>A_pos</th>\n",
       "      <th>B_pos</th>\n",
       "      <th>pron_pos</th>\n",
       "      <th>A_vector</th>\n",
       "      <th>B_vector</th>\n",
       "      <th>pron_vector</th>\n",
       "      <th>product_vector_A</th>\n",
       "      <th>product_vector_B</th>\n",
       "      <th>label</th>\n",
       "    </tr>\n",
       "  </thead>\n",
       "  <tbody>\n",
       "    <tr>\n",
       "      <th>0</th>\n",
       "      <td>0.014</td>\n",
       "      <td>0.008</td>\n",
       "      <td>0.444444</td>\n",
       "      <td>0.464052</td>\n",
       "      <td>0.490196</td>\n",
       "      <td>[-0.010048583, -0.22500569, -0.18638803, 0.246...</td>\n",
       "      <td>[-0.064268865, -0.14198042, -0.077147625, -0.0...</td>\n",
       "      <td>[-0.35196483, -0.22052056, 0.4001546, -0.44971...</td>\n",
       "      <td>[0.0035367478, 0.04961838, -0.07458403, -0.110...</td>\n",
       "      <td>[0.02262038, 0.0313096, -0.030870976, 0.025482...</td>\n",
       "      <td>1</td>\n",
       "    </tr>\n",
       "    <tr>\n",
       "      <th>1</th>\n",
       "      <td>0.026</td>\n",
       "      <td>0.014</td>\n",
       "      <td>0.253623</td>\n",
       "      <td>0.275362</td>\n",
       "      <td>0.300725</td>\n",
       "      <td>[-0.033601925, -0.428665, 0.29058167, -0.17485...</td>\n",
       "      <td>[0.40463662, 0.12124419, -0.07090483, -0.07563...</td>\n",
       "      <td>[-0.051942207, 0.44361016, 0.1704489, 0.145203...</td>\n",
       "      <td>[0.0017453581, -0.19016016, 0.049529325, -0.02...</td>\n",
       "      <td>[-0.021017719, 0.053785156, -0.01208565, -0.01...</td>\n",
       "      <td>0</td>\n",
       "    </tr>\n",
       "    <tr>\n",
       "      <th>2</th>\n",
       "      <td>0.024</td>\n",
       "      <td>0.008</td>\n",
       "      <td>0.408333</td>\n",
       "      <td>0.475000</td>\n",
       "      <td>0.508333</td>\n",
       "      <td>[0.51285046, -0.3347876, -0.28261185, -0.00890...</td>\n",
       "      <td>[-0.049855076, 0.0751394, 0.29557943, -0.32997...</td>\n",
       "      <td>[0.08574369, 0.23280331, 0.4195495, 0.34910136...</td>\n",
       "      <td>[0.04397369, -0.07793967, -0.11856966, -0.0031...</td>\n",
       "      <td>[-0.004274758, 0.017492702, 0.124010205, -0.11...</td>\n",
       "      <td>0</td>\n",
       "    </tr>\n",
       "    <tr>\n",
       "      <th>3</th>\n",
       "      <td>0.056</td>\n",
       "      <td>-0.004</td>\n",
       "      <td>0.222951</td>\n",
       "      <td>0.321311</td>\n",
       "      <td>0.314754</td>\n",
       "      <td>[0.05159696, -0.16686673, -0.35011744, -0.7497...</td>\n",
       "      <td>[0.18233861, -0.36514157, 0.14521956, -0.57738...</td>\n",
       "      <td>[-0.13253343, -0.44861144, -0.1258747, -0.0025...</td>\n",
       "      <td>[-0.0068383217, 0.07485832, 0.04407093, 0.0019...</td>\n",
       "      <td>[-0.024165962, 0.16380669, -0.018279469, 0.001...</td>\n",
       "      <td>1</td>\n",
       "    </tr>\n",
       "    <tr>\n",
       "      <th>4</th>\n",
       "      <td>-0.006</td>\n",
       "      <td>-0.056</td>\n",
       "      <td>0.473118</td>\n",
       "      <td>0.607527</td>\n",
       "      <td>0.456989</td>\n",
       "      <td>[-0.1981886, 0.28381836, 0.4610955, 0.2881973,...</td>\n",
       "      <td>[0.022472247, -0.05395194, -0.18112913, 0.1082...</td>\n",
       "      <td>[-0.37515718, 0.1776664, -0.034614205, -0.3140...</td>\n",
       "      <td>[0.07435188, 0.050424986, -0.015960455, -0.090...</td>\n",
       "      <td>[-0.008430625, -0.009585447, 0.0062696408, -0....</td>\n",
       "      <td>0</td>\n",
       "    </tr>\n",
       "  </tbody>\n",
       "</table>\n",
       "</div>"
      ],
      "text/plain": [
       "   A_dist  B_dist     A_pos     B_pos  pron_pos  \\\n",
       "0   0.014   0.008  0.444444  0.464052  0.490196   \n",
       "1   0.026   0.014  0.253623  0.275362  0.300725   \n",
       "2   0.024   0.008  0.408333  0.475000  0.508333   \n",
       "3   0.056  -0.004  0.222951  0.321311  0.314754   \n",
       "4  -0.006  -0.056  0.473118  0.607527  0.456989   \n",
       "\n",
       "                                            A_vector  \\\n",
       "0  [-0.010048583, -0.22500569, -0.18638803, 0.246...   \n",
       "1  [-0.033601925, -0.428665, 0.29058167, -0.17485...   \n",
       "2  [0.51285046, -0.3347876, -0.28261185, -0.00890...   \n",
       "3  [0.05159696, -0.16686673, -0.35011744, -0.7497...   \n",
       "4  [-0.1981886, 0.28381836, 0.4610955, 0.2881973,...   \n",
       "\n",
       "                                            B_vector  \\\n",
       "0  [-0.064268865, -0.14198042, -0.077147625, -0.0...   \n",
       "1  [0.40463662, 0.12124419, -0.07090483, -0.07563...   \n",
       "2  [-0.049855076, 0.0751394, 0.29557943, -0.32997...   \n",
       "3  [0.18233861, -0.36514157, 0.14521956, -0.57738...   \n",
       "4  [0.022472247, -0.05395194, -0.18112913, 0.1082...   \n",
       "\n",
       "                                         pron_vector  \\\n",
       "0  [-0.35196483, -0.22052056, 0.4001546, -0.44971...   \n",
       "1  [-0.051942207, 0.44361016, 0.1704489, 0.145203...   \n",
       "2  [0.08574369, 0.23280331, 0.4195495, 0.34910136...   \n",
       "3  [-0.13253343, -0.44861144, -0.1258747, -0.0025...   \n",
       "4  [-0.37515718, 0.1776664, -0.034614205, -0.3140...   \n",
       "\n",
       "                                    product_vector_A  \\\n",
       "0  [0.0035367478, 0.04961838, -0.07458403, -0.110...   \n",
       "1  [0.0017453581, -0.19016016, 0.049529325, -0.02...   \n",
       "2  [0.04397369, -0.07793967, -0.11856966, -0.0031...   \n",
       "3  [-0.0068383217, 0.07485832, 0.04407093, 0.0019...   \n",
       "4  [0.07435188, 0.050424986, -0.015960455, -0.090...   \n",
       "\n",
       "                                    product_vector_B  label  \n",
       "0  [0.02262038, 0.0313096, -0.030870976, 0.025482...      1  \n",
       "1  [-0.021017719, 0.053785156, -0.01208565, -0.01...      0  \n",
       "2  [-0.004274758, 0.017492702, 0.124010205, -0.11...      0  \n",
       "3  [-0.024165962, 0.16380669, -0.018279469, 0.001...      1  \n",
       "4  [-0.008430625, -0.009585447, 0.0062696408, -0....      0  "
      ]
     },
     "execution_count": 11,
     "metadata": {},
     "output_type": "execute_result"
    }
   ],
   "source": [
    "train_data.head()"
   ]
  },
  {
   "cell_type": "code",
   "execution_count": 13,
   "metadata": {},
   "outputs": [],
   "source": [
    "import pickle\n",
    "f = open( \"./temp_result/base_model_data_PPA\", \"wb\" )\n",
    "pickle.dump(X_train,  f)\n",
    "pickle.dump(y_train,  f)\n",
    "pickle.dump(X_valid,  f)\n",
    "pickle.dump(y_valid,  f)\n",
    "pickle.dump(X_test,  f)\n",
    "f.close()"
   ]
  },
  {
   "cell_type": "code",
   "execution_count": 14,
   "metadata": {},
   "outputs": [],
   "source": [
    "from sklearn.linear_model import LogisticRegression\n",
    "\n",
    "lr = LogisticRegression(random_state=0, solver='lbfgs',multi_class='multinomial').fit(X_train, y_train)\n",
    "\n",
    "\n",
    "pred_lr = lr.predict_proba(X_test)\n",
    "\n",
    "sub_df = pd.read_csv(\"./test_and_submit/sample_submission_stage_1.csv\")\n",
    "sub_df.loc[:, ['A','B','NEITHER']] = pred_lr\n",
    "\n",
    "sub_df.head()\n",
    "\n",
    "\n",
    "sub_df.to_csv(\"./test_and_submit/submission+model+lr@\"+str(datetime.datetime.now())+\".csv\", index=False)"
   ]
  },
  {
   "cell_type": "code",
   "execution_count": 15,
   "metadata": {},
   "outputs": [
    {
     "data": {
      "text/plain": [
       "0.8081879019737244"
      ]
     },
     "execution_count": 15,
     "metadata": {},
     "output_type": "execute_result"
    }
   ],
   "source": [
    "compute_loss(sub_df,test_data)"
   ]
  },
  {
   "cell_type": "code",
   "execution_count": 16,
   "metadata": {
    "scrolled": true
   },
   "outputs": [
    {
     "name": "stdout",
     "output_type": "stream",
     "text": [
      "[LibSVM]"
     ]
    }
   ],
   "source": [
    "from sklearn.svm import SVC\n",
    "svm = SVC(C = 7.0,verbose=True,probability = True,gamma = \"auto\").fit(X_train, y_train)\n",
    "\n",
    "\n",
    "pred_svm = svm.predict_proba(X_test)\n",
    "\n",
    "sub_df = pd.read_csv(\"./test_and_submit/sample_submission_stage_1.csv\")\n",
    "sub_df.loc[:, ['A','B','NEITHER']] = pred_svm\n"
   ]
  },
  {
   "cell_type": "code",
   "execution_count": 17,
   "metadata": {},
   "outputs": [
    {
     "data": {
      "text/html": [
       "<div>\n",
       "<style scoped>\n",
       "    .dataframe tbody tr th:only-of-type {\n",
       "        vertical-align: middle;\n",
       "    }\n",
       "\n",
       "    .dataframe tbody tr th {\n",
       "        vertical-align: top;\n",
       "    }\n",
       "\n",
       "    .dataframe thead th {\n",
       "        text-align: right;\n",
       "    }\n",
       "</style>\n",
       "<table border=\"1\" class=\"dataframe\">\n",
       "  <thead>\n",
       "    <tr style=\"text-align: right;\">\n",
       "      <th></th>\n",
       "      <th>ID</th>\n",
       "      <th>A</th>\n",
       "      <th>B</th>\n",
       "      <th>NEITHER</th>\n",
       "    </tr>\n",
       "  </thead>\n",
       "  <tbody>\n",
       "    <tr>\n",
       "      <th>0</th>\n",
       "      <td>development-1</td>\n",
       "      <td>0.689653</td>\n",
       "      <td>0.172671</td>\n",
       "      <td>0.137675</td>\n",
       "    </tr>\n",
       "    <tr>\n",
       "      <th>1</th>\n",
       "      <td>development-2</td>\n",
       "      <td>0.877513</td>\n",
       "      <td>0.027717</td>\n",
       "      <td>0.094770</td>\n",
       "    </tr>\n",
       "    <tr>\n",
       "      <th>2</th>\n",
       "      <td>development-3</td>\n",
       "      <td>0.039383</td>\n",
       "      <td>0.923054</td>\n",
       "      <td>0.037563</td>\n",
       "    </tr>\n",
       "    <tr>\n",
       "      <th>3</th>\n",
       "      <td>development-4</td>\n",
       "      <td>0.328847</td>\n",
       "      <td>0.589709</td>\n",
       "      <td>0.081444</td>\n",
       "    </tr>\n",
       "    <tr>\n",
       "      <th>4</th>\n",
       "      <td>development-5</td>\n",
       "      <td>0.076487</td>\n",
       "      <td>0.852824</td>\n",
       "      <td>0.070689</td>\n",
       "    </tr>\n",
       "  </tbody>\n",
       "</table>\n",
       "</div>"
      ],
      "text/plain": [
       "              ID         A         B   NEITHER\n",
       "0  development-1  0.689653  0.172671  0.137675\n",
       "1  development-2  0.877513  0.027717  0.094770\n",
       "2  development-3  0.039383  0.923054  0.037563\n",
       "3  development-4  0.328847  0.589709  0.081444\n",
       "4  development-5  0.076487  0.852824  0.070689"
      ]
     },
     "execution_count": 17,
     "metadata": {},
     "output_type": "execute_result"
    }
   ],
   "source": [
    "sub_df.to_csv(\"./test_and_submit/submission+model+svm@\"+str(datetime.datetime.now())+\".csv\", index=False)\n",
    "sub_df.head()"
   ]
  },
  {
   "cell_type": "code",
   "execution_count": 18,
   "metadata": {},
   "outputs": [
    {
     "data": {
      "text/plain": [
       "0.5735058188438416"
      ]
     },
     "execution_count": 18,
     "metadata": {},
     "output_type": "execute_result"
    }
   ],
   "source": [
    "compute_loss(sub_df,test_data)"
   ]
  },
  {
   "cell_type": "code",
   "execution_count": null,
   "metadata": {},
   "outputs": [],
   "source": []
  }
 ],
 "metadata": {
  "kernelspec": {
   "display_name": "Python 3",
   "language": "python",
   "name": "python3"
  },
  "language_info": {
   "codemirror_mode": {
    "name": "ipython",
    "version": 3
   },
   "file_extension": ".py",
   "mimetype": "text/x-python",
   "name": "python",
   "nbconvert_exporter": "python",
   "pygments_lexer": "ipython3",
   "version": "3.6.8"
  }
 },
 "nbformat": 4,
 "nbformat_minor": 2
}
