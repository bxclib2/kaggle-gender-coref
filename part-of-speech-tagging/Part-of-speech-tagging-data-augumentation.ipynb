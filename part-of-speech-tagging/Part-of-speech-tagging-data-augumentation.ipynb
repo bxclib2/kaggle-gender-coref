{
 "cells": [
  {
   "cell_type": "code",
   "execution_count": 12,
   "metadata": {},
   "outputs": [
    {
     "name": "stderr",
     "output_type": "stream",
     "text": [
      "[nltk_data] Downloading package punkt to /home/bao/nltk_data...\n",
      "[nltk_data]   Unzipping tokenizers/punkt.zip.\n"
     ]
    },
    {
     "data": {
      "text/plain": [
       "True"
      ]
     },
     "execution_count": 12,
     "metadata": {},
     "output_type": "execute_result"
    }
   ],
   "source": [
    "import nltk\n",
    "nltk.download('punkt')"
   ]
  },
  {
   "cell_type": "code",
   "execution_count": 29,
   "metadata": {},
   "outputs": [],
   "source": [
    "import nltk\n",
    "from nltk.tag import StanfordPOSTagger\n",
    "\n",
    "def check_her(sentence,idx):\n",
    "    \n",
    "    tokens = nltk.word_tokenize(sentence)\n",
    "\n",
    "    model = './english-bidirectional-distsim.tagger'\n",
    "    jar = './stanford-postagger.jar'\n",
    "\n",
    "    st = StanfordPOSTagger(model,path_to_jar=jar)\n",
    "    i = 0\n",
    "    new_tokens = {}\n",
    "    for t in st.tag(tokens):\n",
    "        while sentence[i:i+len(t[0])]!=t[0]:\n",
    "            i = i + 1\n",
    "        new_tokens[i] = t\n",
    "        i = i + len(t[0])\n",
    "    #print (new_tokens)\n",
    "    if idx in new_tokens:\n",
    "        return new_tokens[idx]\n",
    "    else:\n",
    "        print (\"index error!!!!,no word at this index!!!\")\n",
    "        return -1"
   ]
  },
  {
   "cell_type": "code",
   "execution_count": 32,
   "metadata": {},
   "outputs": [],
   "source": [
    "s = '''He grew up in Evanston, Illinois the second oldest of five children including his brothers, Fred and Gordon and sisters, Marge (Peppy) and Marilyn. His high school days were spent at New Trier High School in Winnetka, Illinois. MacKenzie studied with Bernard Leach from 1949 to 1952. His simple, wheel-thrown functional pottery is heavily influenced by the oriental aesthetic of Shoji Hamada and Kanjiro Kawai.\n",
    "'''"
   ]
  },
  {
   "cell_type": "code",
   "execution_count": 33,
   "metadata": {
    "scrolled": true
   },
   "outputs": [
    {
     "data": {
      "text/plain": [
       "('His', 'PRP$')"
      ]
     },
     "execution_count": 33,
     "metadata": {},
     "output_type": "execute_result"
    }
   ],
   "source": [
    "check_her(s,284)"
   ]
  },
  {
   "cell_type": "code",
   "execution_count": null,
   "metadata": {},
   "outputs": [],
   "source": []
  }
 ],
 "metadata": {
  "kernelspec": {
   "display_name": "Python 3",
   "language": "python",
   "name": "python3"
  },
  "language_info": {
   "codemirror_mode": {
    "name": "ipython",
    "version": 3
   },
   "file_extension": ".py",
   "mimetype": "text/x-python",
   "name": "python",
   "nbconvert_exporter": "python",
   "pygments_lexer": "ipython3",
   "version": "3.6.8"
  }
 },
 "nbformat": 4,
 "nbformat_minor": 2
}
