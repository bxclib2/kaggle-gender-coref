{
 "cells": [
  {
   "cell_type": "code",
   "execution_count": 1,
   "metadata": {},
   "outputs": [],
   "source": [
    "import pandas as pd\n",
    "import numpy as np\n",
    "import datetime"
   ]
  },
  {
   "cell_type": "code",
   "execution_count": 2,
   "metadata": {},
   "outputs": [],
   "source": [
    "gap_train= pd.read_pickle('./temp_result/train_kaggle_processed')\n",
    "gap_test= pd.read_pickle('./temp_result/test_kaggle_processed')\n",
    "gap_valid= pd.read_pickle('./temp_result/valid_kaggle_processed')"
   ]
  },
  {
   "cell_type": "code",
   "execution_count": 3,
   "metadata": {},
   "outputs": [],
   "source": [
    "def label(A,B):\n",
    "    if A is True:\n",
    "        return 0\n",
    "    if B is True:\n",
    "        return 1\n",
    "    return 2"
   ]
  },
  {
   "cell_type": "code",
   "execution_count": 4,
   "metadata": {},
   "outputs": [],
   "source": [
    "train_data = gap_train.drop(columns = ['ID', 'Text', 'Pronoun', 'vector','Pronoun-offset', 'A', 'A-offset',\n",
    "       'B', 'B-offset', 'URL', 'tokens', 'token_map',\n",
    "       'sentence_map','A_idx', 'B_idx', 'pron_idx'])\n",
    "train_data.A_vector = train_data.A_vector.map(lambda x:np.mean(x,axis = 0))\n",
    "train_data.B_vector = train_data.B_vector.map(lambda x:np.mean(x,axis = 0))\n",
    "train_data.pron_vector = train_data.pron_vector.map(lambda x:np.mean(x,axis = 0))\n",
    "train_data[\"product_vector\"] = train_data.A_vector*train_data.pron_vector\n",
    "train_data[\"label\"] = train_data.apply(lambda x:label(x[\"A-coref\"],x[\"B-coref\"]),axis = 1)\n",
    "train_data = train_data.drop(columns= [\"A-coref\",\"B-coref\"])"
   ]
  },
  {
   "cell_type": "code",
   "execution_count": 5,
   "metadata": {},
   "outputs": [],
   "source": [
    "test_data = gap_test.drop(columns = ['ID', 'Text', 'Pronoun', 'vector','Pronoun-offset', 'A', 'A-offset',\n",
    "       'B', 'B-offset', 'URL', 'tokens', 'token_map',\n",
    "       'sentence_map','A_idx', 'B_idx', 'pron_idx'])\n",
    "test_data.A_vector = test_data.A_vector.map(lambda x:np.mean(x,axis = 0))\n",
    "test_data.B_vector = test_data.B_vector.map(lambda x:np.mean(x,axis = 0))\n",
    "test_data.pron_vector = test_data.pron_vector.map(lambda x:np.mean(x,axis = 0))\n",
    "test_data[\"product_vector\"] = test_data.A_vector*test_data.pron_vector\n",
    "#test_data[\"label\"] = test_data.apply(lambda x:label(x[\"A-coref\"],x[\"B-coref\"]),axis = 1)\n",
    "#test_data = test_data.drop(columns= [\"A-coref\",\"B-coref\"])"
   ]
  },
  {
   "cell_type": "code",
   "execution_count": 6,
   "metadata": {},
   "outputs": [],
   "source": [
    "valid_data = gap_valid.drop(columns = ['ID', 'Text', 'Pronoun', 'vector','Pronoun-offset', 'A', 'A-offset',\n",
    "       'B', 'B-offset', 'URL', 'tokens', 'token_map',\n",
    "       'sentence_map','A_idx', 'B_idx', 'pron_idx'])\n",
    "valid_data.A_vector = valid_data.A_vector.map(lambda x:np.mean(x,axis = 0))\n",
    "valid_data.B_vector = valid_data.B_vector.map(lambda x:np.mean(x,axis = 0))\n",
    "valid_data.pron_vector = valid_data.pron_vector.map(lambda x:np.mean(x,axis = 0))\n",
    "valid_data[\"product_vector\"] = valid_data.A_vector*valid_data.pron_vector\n",
    "valid_data[\"label\"] = valid_data.apply(lambda x:label(x[\"A-coref\"],x[\"B-coref\"]),axis = 1)\n",
    "valid_data = valid_data.drop(columns= [\"A-coref\",\"B-coref\"])"
   ]
  },
  {
   "cell_type": "code",
   "execution_count": 7,
   "metadata": {},
   "outputs": [],
   "source": [
    "columns = train_data.columns[:-1]\n",
    "X_train = np.concatenate([np.array(list(train_data[col])).reshape(train_data.shape[0],-1) for col in columns],axis = 1)\n",
    "y_train = list(train_data.label)   "
   ]
  },
  {
   "cell_type": "code",
   "execution_count": 8,
   "metadata": {},
   "outputs": [],
   "source": [
    "X_valid = np.concatenate([np.array(list(valid_data[col])).reshape(valid_data.shape[0],-1) for col in columns],axis = 1)\n",
    "y_valid = list(valid_data.label)   "
   ]
  },
  {
   "cell_type": "code",
   "execution_count": 9,
   "metadata": {},
   "outputs": [],
   "source": [
    "X_test = np.concatenate([np.array(list(test_data[col])).reshape(test_data.shape[0],-1) for col in columns],axis = 1)"
   ]
  },
  {
   "cell_type": "code",
   "execution_count": 11,
   "metadata": {},
   "outputs": [],
   "source": [
    "import pickle\n",
    "f = open( \"./temp_result/base_model_data\", \"wb\" )\n",
    "pickle.dump(X_train,  f)\n",
    "pickle.dump(y_train,  f)\n",
    "pickle.dump(X_valid,  f)\n",
    "pickle.dump(y_valid,  f)\n",
    "pickle.dump(X_test,  f)\n",
    "f.close()"
   ]
  },
  {
   "cell_type": "code",
   "execution_count": 11,
   "metadata": {},
   "outputs": [
    {
     "name": "stderr",
     "output_type": "stream",
     "text": [
      "/home/bao/anaconda3/envs/EPFL/lib/python3.6/site-packages/sklearn/linear_model/logistic.py:758: ConvergenceWarning: lbfgs failed to converge. Increase the number of iterations.\n",
      "  \"of iterations.\", ConvergenceWarning)\n"
     ]
    }
   ],
   "source": [
    "from sklearn.linear_model import LogisticRegression\n",
    "\n",
    "lr = LogisticRegression(random_state=0, solver='lbfgs',multi_class='multinomial').fit(X_train, y_train)\n",
    "\n",
    "\n",
    "pred_lr = lr.predict_proba(X_test)\n",
    "\n",
    "sub_df = pd.read_csv(\"./test_and_submit/sample_submission_stage_1.csv\")\n",
    "sub_df.loc[:, ['A','B','NEITHER']] = pred_lr\n",
    "\n",
    "sub_df.head()\n",
    "\n",
    "\n",
    "sub_df.to_csv(\"./test_and_submit/submission+model+lr@\"+str(datetime.datetime.now())+\".csv\", index=False)"
   ]
  },
  {
   "cell_type": "code",
   "execution_count": 21,
   "metadata": {},
   "outputs": [
    {
     "name": "stdout",
     "output_type": "stream",
     "text": [
      "Starting training...\n",
      "[1]\tvalid_0's multi_logloss: 0.988807\n",
      "Training until validation scores don't improve for 5 rounds.\n",
      "[2]\tvalid_0's multi_logloss: 0.97738\n",
      "[3]\tvalid_0's multi_logloss: 0.968462\n",
      "[4]\tvalid_0's multi_logloss: 0.959748\n",
      "[5]\tvalid_0's multi_logloss: 0.950456\n",
      "[6]\tvalid_0's multi_logloss: 0.94255\n",
      "[7]\tvalid_0's multi_logloss: 0.934174\n",
      "[8]\tvalid_0's multi_logloss: 0.925724\n",
      "[9]\tvalid_0's multi_logloss: 0.919009\n",
      "[10]\tvalid_0's multi_logloss: 0.912739\n",
      "[11]\tvalid_0's multi_logloss: 0.90495\n",
      "[12]\tvalid_0's multi_logloss: 0.899645\n",
      "[13]\tvalid_0's multi_logloss: 0.893635\n",
      "[14]\tvalid_0's multi_logloss: 0.887236\n",
      "[15]\tvalid_0's multi_logloss: 0.882852\n",
      "[16]\tvalid_0's multi_logloss: 0.875835\n",
      "[17]\tvalid_0's multi_logloss: 0.870547\n",
      "[18]\tvalid_0's multi_logloss: 0.865097\n",
      "[19]\tvalid_0's multi_logloss: 0.861494\n",
      "[20]\tvalid_0's multi_logloss: 0.85603\n",
      "Did not meet early stopping. Best iteration is:\n",
      "[20]\tvalid_0's multi_logloss: 0.85603\n",
      "Saving model...\n"
     ]
    },
    {
     "data": {
      "text/plain": [
       "<lightgbm.basic.Booster at 0x7f89081a6c88>"
      ]
     },
     "execution_count": 21,
     "metadata": {},
     "output_type": "execute_result"
    }
   ],
   "source": [
    "import lightgbm as lgb\n",
    "# create dataset for lightgbm\n",
    "lgb_train = lgb.Dataset(X_train, y_train)\n",
    "lgb_eval = lgb.Dataset(X_valid, y_valid, reference=lgb_train)\n",
    "\n",
    "# specify your configurations as a dict\n",
    "params = {\n",
    "    'boosting_type': 'gbdt',\n",
    "    'objective': 'multiclass',\n",
    "    'num_class':3,\n",
    "    'metric': 'multi_logloss',\n",
    "    'num_leaves': 31,\n",
    "    'learning_rate': 0.05,\n",
    "    'feature_fraction': 0.9,\n",
    "    'bagging_fraction': 0.8,\n",
    "    'bagging_freq': 5,\n",
    "    'verbose': 0\n",
    "}\n",
    "\n",
    "print('Starting training...')\n",
    "# train\n",
    "gbm = lgb.train(params,\n",
    "                lgb_train,\n",
    "                num_boost_round=20,\n",
    "                valid_sets=lgb_eval,\n",
    "                early_stopping_rounds=5)\n",
    "\n",
    "print('Saving model...')\n",
    "# save model to file\n",
    "gbm.save_model('./temp_result/model_gbdt')"
   ]
  },
  {
   "cell_type": "code",
   "execution_count": 26,
   "metadata": {},
   "outputs": [
    {
     "data": {
      "text/html": [
       "<div>\n",
       "<style scoped>\n",
       "    .dataframe tbody tr th:only-of-type {\n",
       "        vertical-align: middle;\n",
       "    }\n",
       "\n",
       "    .dataframe tbody tr th {\n",
       "        vertical-align: top;\n",
       "    }\n",
       "\n",
       "    .dataframe thead th {\n",
       "        text-align: right;\n",
       "    }\n",
       "</style>\n",
       "<table border=\"1\" class=\"dataframe\">\n",
       "  <thead>\n",
       "    <tr style=\"text-align: right;\">\n",
       "      <th></th>\n",
       "      <th>ID</th>\n",
       "      <th>A</th>\n",
       "      <th>B</th>\n",
       "      <th>NEITHER</th>\n",
       "    </tr>\n",
       "  </thead>\n",
       "  <tbody>\n",
       "    <tr>\n",
       "      <th>0</th>\n",
       "      <td>development-1</td>\n",
       "      <td>0.465689</td>\n",
       "      <td>0.419193</td>\n",
       "      <td>0.115118</td>\n",
       "    </tr>\n",
       "    <tr>\n",
       "      <th>1</th>\n",
       "      <td>development-2</td>\n",
       "      <td>0.642334</td>\n",
       "      <td>0.279925</td>\n",
       "      <td>0.077741</td>\n",
       "    </tr>\n",
       "    <tr>\n",
       "      <th>2</th>\n",
       "      <td>development-3</td>\n",
       "      <td>0.491868</td>\n",
       "      <td>0.395022</td>\n",
       "      <td>0.113110</td>\n",
       "    </tr>\n",
       "    <tr>\n",
       "      <th>3</th>\n",
       "      <td>development-4</td>\n",
       "      <td>0.357984</td>\n",
       "      <td>0.526675</td>\n",
       "      <td>0.115341</td>\n",
       "    </tr>\n",
       "    <tr>\n",
       "      <th>4</th>\n",
       "      <td>development-5</td>\n",
       "      <td>0.465726</td>\n",
       "      <td>0.444996</td>\n",
       "      <td>0.089277</td>\n",
       "    </tr>\n",
       "  </tbody>\n",
       "</table>\n",
       "</div>"
      ],
      "text/plain": [
       "              ID         A         B   NEITHER\n",
       "0  development-1  0.465689  0.419193  0.115118\n",
       "1  development-2  0.642334  0.279925  0.077741\n",
       "2  development-3  0.491868  0.395022  0.113110\n",
       "3  development-4  0.357984  0.526675  0.115341\n",
       "4  development-5  0.465726  0.444996  0.089277"
      ]
     },
     "execution_count": 26,
     "metadata": {},
     "output_type": "execute_result"
    }
   ],
   "source": [
    "pred_gbdt = gbm.predict(X_test)\n",
    "sub_df = pd.read_csv(\"./test_and_submit/sample_submission_stage_1.csv\")\n",
    "sub_df.loc[:, ['A','B','NEITHER']] = pred_gbdt\n",
    "\n",
    "sub_df.head()"
   ]
  },
  {
   "cell_type": "code",
   "execution_count": 27,
   "metadata": {},
   "outputs": [],
   "source": [
    "sub_df.to_csv(\"./test_and_submit/submission+model+gbdt@\"+str(datetime.datetime.now())+\".csv\", index=False)"
   ]
  },
  {
   "cell_type": "code",
   "execution_count": 21,
   "metadata": {},
   "outputs": [
    {
     "name": "stdout",
     "output_type": "stream",
     "text": [
      "[LibSVM]"
     ]
    }
   ],
   "source": [
    "from sklearn.svm import SVC\n",
    "svm = SVC(C = 7.0,verbose=True,probability = True,gamma = \"scale\").fit(X_train, y_train)\n",
    "\n",
    "\n",
    "pred_svm = svm.predict_proba(X_test)\n",
    "\n",
    "sub_df = pd.read_csv(\"./test_and_submit/sample_submission_stage_1.csv\")\n",
    "sub_df.loc[:, ['A','B','NEITHER']] = pred_svm\n"
   ]
  },
  {
   "cell_type": "code",
   "execution_count": 22,
   "metadata": {},
   "outputs": [
    {
     "data": {
      "text/html": [
       "<div>\n",
       "<style scoped>\n",
       "    .dataframe tbody tr th:only-of-type {\n",
       "        vertical-align: middle;\n",
       "    }\n",
       "\n",
       "    .dataframe tbody tr th {\n",
       "        vertical-align: top;\n",
       "    }\n",
       "\n",
       "    .dataframe thead th {\n",
       "        text-align: right;\n",
       "    }\n",
       "</style>\n",
       "<table border=\"1\" class=\"dataframe\">\n",
       "  <thead>\n",
       "    <tr style=\"text-align: right;\">\n",
       "      <th></th>\n",
       "      <th>ID</th>\n",
       "      <th>A</th>\n",
       "      <th>B</th>\n",
       "      <th>NEITHER</th>\n",
       "    </tr>\n",
       "  </thead>\n",
       "  <tbody>\n",
       "    <tr>\n",
       "      <th>0</th>\n",
       "      <td>development-1</td>\n",
       "      <td>0.493630</td>\n",
       "      <td>0.335287</td>\n",
       "      <td>0.171083</td>\n",
       "    </tr>\n",
       "    <tr>\n",
       "      <th>1</th>\n",
       "      <td>development-2</td>\n",
       "      <td>0.862994</td>\n",
       "      <td>0.093274</td>\n",
       "      <td>0.043731</td>\n",
       "    </tr>\n",
       "    <tr>\n",
       "      <th>2</th>\n",
       "      <td>development-3</td>\n",
       "      <td>0.040060</td>\n",
       "      <td>0.936066</td>\n",
       "      <td>0.023874</td>\n",
       "    </tr>\n",
       "    <tr>\n",
       "      <th>3</th>\n",
       "      <td>development-4</td>\n",
       "      <td>0.137078</td>\n",
       "      <td>0.635812</td>\n",
       "      <td>0.227110</td>\n",
       "    </tr>\n",
       "    <tr>\n",
       "      <th>4</th>\n",
       "      <td>development-5</td>\n",
       "      <td>0.036878</td>\n",
       "      <td>0.842283</td>\n",
       "      <td>0.120839</td>\n",
       "    </tr>\n",
       "  </tbody>\n",
       "</table>\n",
       "</div>"
      ],
      "text/plain": [
       "              ID         A         B   NEITHER\n",
       "0  development-1  0.493630  0.335287  0.171083\n",
       "1  development-2  0.862994  0.093274  0.043731\n",
       "2  development-3  0.040060  0.936066  0.023874\n",
       "3  development-4  0.137078  0.635812  0.227110\n",
       "4  development-5  0.036878  0.842283  0.120839"
      ]
     },
     "execution_count": 22,
     "metadata": {},
     "output_type": "execute_result"
    }
   ],
   "source": [
    "sub_df.to_csv(\"./test_and_submit/submission+model+svm@\"+str(datetime.datetime.now())+\".csv\", index=False)\n",
    "sub_df.head()"
   ]
  },
  {
   "cell_type": "code",
   "execution_count": 72,
   "metadata": {
    "scrolled": false
   },
   "outputs": [
    {
     "name": "stdout",
     "output_type": "stream",
     "text": [
      "Train on 2000 samples, validate on 454 samples\n",
      "Epoch 1/40\n",
      "2000/2000 [==============================] - 2s 835us/step - loss: 4.0651 - acc: 0.4145 - val_loss: 2.5317 - val_acc: 0.4758\n",
      "Epoch 2/40\n",
      "2000/2000 [==============================] - 0s 161us/step - loss: 2.2458 - acc: 0.4680 - val_loss: 2.0184 - val_acc: 0.6189\n",
      "Epoch 3/40\n",
      "2000/2000 [==============================] - 0s 156us/step - loss: 1.8567 - acc: 0.4905 - val_loss: 1.7410 - val_acc: 0.6388\n",
      "Epoch 4/40\n",
      "2000/2000 [==============================] - 0s 187us/step - loss: 1.6460 - acc: 0.5000 - val_loss: 1.5386 - val_acc: 0.6872\n",
      "Epoch 5/40\n",
      "2000/2000 [==============================] - 0s 190us/step - loss: 1.4822 - acc: 0.5275 - val_loss: 1.4152 - val_acc: 0.6167\n",
      "Epoch 6/40\n",
      "2000/2000 [==============================] - 0s 182us/step - loss: 1.3731 - acc: 0.4990 - val_loss: 1.3365 - val_acc: 0.5022\n",
      "Epoch 7/40\n",
      "2000/2000 [==============================] - 1s 261us/step - loss: 1.2795 - acc: 0.5205 - val_loss: 1.2519 - val_acc: 0.6366\n",
      "Epoch 8/40\n",
      "2000/2000 [==============================] - 0s 164us/step - loss: 1.2241 - acc: 0.5015 - val_loss: 1.1982 - val_acc: 0.6520\n",
      "Epoch 9/40\n",
      "2000/2000 [==============================] - 0s 174us/step - loss: 1.1660 - acc: 0.5125 - val_loss: 1.1388 - val_acc: 0.6784\n",
      "Epoch 10/40\n",
      "2000/2000 [==============================] - 0s 164us/step - loss: 1.1248 - acc: 0.4950 - val_loss: 1.1049 - val_acc: 0.6784\n",
      "Epoch 11/40\n",
      "2000/2000 [==============================] - 0s 174us/step - loss: 1.0919 - acc: 0.5065 - val_loss: 1.1044 - val_acc: 0.5639\n",
      "Epoch 12/40\n",
      "2000/2000 [==============================] - 0s 160us/step - loss: 1.0696 - acc: 0.5130 - val_loss: 1.0842 - val_acc: 0.5573\n",
      "Epoch 13/40\n",
      "2000/2000 [==============================] - 0s 243us/step - loss: 1.0613 - acc: 0.4985 - val_loss: 1.0584 - val_acc: 0.6718\n",
      "Epoch 14/40\n",
      "2000/2000 [==============================] - 0s 176us/step - loss: 1.0429 - acc: 0.4915 - val_loss: 1.0501 - val_acc: 0.6344\n",
      "Epoch 15/40\n",
      "2000/2000 [==============================] - 0s 174us/step - loss: 1.0297 - acc: 0.5065 - val_loss: 1.0409 - val_acc: 0.6057\n",
      "Epoch 16/40\n",
      "2000/2000 [==============================] - 0s 213us/step - loss: 1.0261 - acc: 0.5065 - val_loss: 1.0435 - val_acc: 0.5044\n",
      "Epoch 17/40\n",
      "2000/2000 [==============================] - 0s 182us/step - loss: 1.0163 - acc: 0.4935 - val_loss: 1.0313 - val_acc: 0.6498\n",
      "Epoch 18/40\n",
      "2000/2000 [==============================] - 0s 182us/step - loss: 1.0094 - acc: 0.5010 - val_loss: 1.0307 - val_acc: 0.6696\n",
      "Epoch 19/40\n",
      "2000/2000 [==============================] - 0s 193us/step - loss: 1.0020 - acc: 0.4940 - val_loss: 1.0171 - val_acc: 0.6079\n",
      "Epoch 20/40\n",
      "2000/2000 [==============================] - 0s 170us/step - loss: 1.0001 - acc: 0.4940 - val_loss: 1.0172 - val_acc: 0.6388\n",
      "Epoch 21/40\n",
      "2000/2000 [==============================] - 0s 161us/step - loss: 0.9980 - acc: 0.4855 - val_loss: 1.0174 - val_acc: 0.6740\n",
      "Epoch 22/40\n",
      "2000/2000 [==============================] - 0s 204us/step - loss: 0.9889 - acc: 0.5060 - val_loss: 1.0114 - val_acc: 0.6586\n",
      "Epoch 23/40\n",
      "2000/2000 [==============================] - 0s 176us/step - loss: 0.9891 - acc: 0.4950 - val_loss: 1.0144 - val_acc: 0.6564\n",
      "Epoch 24/40\n",
      "2000/2000 [==============================] - 0s 188us/step - loss: 0.9928 - acc: 0.4855 - val_loss: 1.0093 - val_acc: 0.6189\n",
      "Epoch 25/40\n",
      "2000/2000 [==============================] - 0s 202us/step - loss: 0.9807 - acc: 0.5155 - val_loss: 1.0166 - val_acc: 0.6498\n",
      "Epoch 26/40\n",
      "2000/2000 [==============================] - 0s 198us/step - loss: 0.9836 - acc: 0.5075 - val_loss: 1.0085 - val_acc: 0.6388\n",
      "Epoch 27/40\n",
      "2000/2000 [==============================] - 0s 185us/step - loss: 0.9863 - acc: 0.5005 - val_loss: 1.0108 - val_acc: 0.6432\n",
      "Epoch 28/40\n",
      "2000/2000 [==============================] - 0s 183us/step - loss: 0.9804 - acc: 0.5030 - val_loss: 1.0098 - val_acc: 0.6476\n",
      "Epoch 29/40\n",
      "2000/2000 [==============================] - 0s 186us/step - loss: 0.9786 - acc: 0.4955 - val_loss: 1.0129 - val_acc: 0.4317\n",
      "Epoch 30/40\n",
      "2000/2000 [==============================] - 0s 210us/step - loss: 0.9829 - acc: 0.5045 - val_loss: 1.0063 - val_acc: 0.6013\n",
      "Epoch 31/40\n",
      "2000/2000 [==============================] - 0s 186us/step - loss: 0.9802 - acc: 0.4920 - val_loss: 1.0054 - val_acc: 0.6630\n",
      "Epoch 32/40\n",
      "2000/2000 [==============================] - 0s 163us/step - loss: 0.9782 - acc: 0.5065 - val_loss: 1.0063 - val_acc: 0.6057\n",
      "Epoch 33/40\n",
      "2000/2000 [==============================] - 0s 182us/step - loss: 0.9814 - acc: 0.4935 - val_loss: 1.0069 - val_acc: 0.6454\n",
      "Epoch 34/40\n",
      "2000/2000 [==============================] - 0s 188us/step - loss: 0.9790 - acc: 0.4875 - val_loss: 1.0095 - val_acc: 0.4229\n",
      "Epoch 35/40\n",
      "2000/2000 [==============================] - 0s 194us/step - loss: 0.9787 - acc: 0.4935 - val_loss: 1.0072 - val_acc: 0.6410\n",
      "Epoch 36/40\n",
      "2000/2000 [==============================] - 0s 222us/step - loss: 0.9785 - acc: 0.4890 - val_loss: 1.0104 - val_acc: 0.5110\n",
      "Epoch 00036: early stopping\n"
     ]
    }
   ],
   "source": [
    "import matplotlib.pyplot as plt\n",
    "\n",
    "from keras.utils import to_categorical\n",
    "\n",
    "import keras\n",
    "from keras.layers import Dense\n",
    "from keras.layers import Dropout\n",
    "from keras.models import Sequential\n",
    "from keras.callbacks import History \n",
    "from keras.utils import plot_model\n",
    "from keras.optimizers import Adam\n",
    "from keras.callbacks import EarlyStopping\n",
    "from keras import regularizers\n",
    "#Build Neural Network \n",
    "\n",
    "l2 = 0.1\n",
    "n_cols = X_train.shape[1]\n",
    "y_train_ = to_categorical(y_train, 3)\n",
    "y_valid_ = to_categorical(y_valid, 3)\n",
    "hist = History()\n",
    "\n",
    "model = Sequential()\n",
    "\n",
    "model.add(Dense(16, activation='relu', input_dim = n_cols,kernel_regularizer=regularizers.l2(l2)))\n",
    "model.add(Dropout(0.5))\n",
    "model.add(Dense(8, activation='relu',kernel_regularizer=regularizers.l2(l2)))\n",
    "model.add(Dropout(0.5))\n",
    "model.add(Dense(3, activation='softmax',kernel_regularizer=regularizers.l2(l2)))\n",
    "\n",
    "sgd = Adam()\n",
    "model.compile(optimizer=sgd, \n",
    "              loss='categorical_crossentropy', \n",
    "              metrics=['accuracy'])\n",
    "\n",
    "es = EarlyStopping(monitor='val_loss', mode='min', verbose=1, patience=5)\n",
    "\n",
    "model.fit(X_train, y_train_, epochs = 40, validation_data=(X_valid, y_valid_),callbacks = [hist,es])\n",
    "\n",
    "y_valid_pred_nn =  model.predict(X_valid)"
   ]
  },
  {
   "cell_type": "code",
   "execution_count": 73,
   "metadata": {},
   "outputs": [
    {
     "data": {
      "image/png": "[encoded data removed]",
      "text/plain": [
       "<Figure size 432x288 with 1 Axes>"
      ]
     },
     "metadata": {
      "needs_background": "light"
     },
     "output_type": "display_data"
    }
   ],
   "source": [
    "plt.plot(hist.history['acc'], color = 'red')\n",
    "plt.plot(hist.history['val_acc'], color = 'blue')\n",
    "plt.xlabel('Epochs')\n",
    "plt.ylabel('Loss')\n",
    "plt.show()"
   ]
  },
  {
   "cell_type": "code",
   "execution_count": null,
   "metadata": {},
   "outputs": [],
   "source": []
  }
 ],
 "metadata": {
  "kernelspec": {
   "display_name": "Python 3",
   "language": "python",
   "name": "python3"
  },
  "language_info": {
   "codemirror_mode": {
    "name": "ipython",
    "version": 3
   },
   "file_extension": ".py",
   "mimetype": "text/x-python",
   "name": "python",
   "nbconvert_exporter": "python",
   "pygments_lexer": "ipython3",
   "version": "3.6.8"
  }
 },
 "nbformat": 4,
 "nbformat_minor": 2
}
