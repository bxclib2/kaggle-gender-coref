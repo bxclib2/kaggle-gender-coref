{
 "cells": [
  {
   "cell_type": "code",
   "execution_count": 1,
   "metadata": {},
   "outputs": [],
   "source": [
    "import os\n",
    "file_list = [f for f in os.listdir() if os.path.splitext(f)[-1] == \".pkl\"]"
   ]
  },
  {
   "cell_type": "code",
   "execution_count": 2,
   "metadata": {},
   "outputs": [],
   "source": [
    "columns = ['ID', 'Text', 'Pronoun', 'Pronoun-offset', 'A', 'A-offset', 'A-coref',\n",
    "       'B', 'B-offset', 'B-coref', 'URL', 'bert_tokens',\n",
    "       'name_list', 'token_map_bert', 'sentence_map_bert', 'A_dist_bert',\n",
    "       'B_dist_bert', 'A_pos_bert', 'B_pos_bert', 'pron_pos_bert',\n",
    "       'A_idx_bert_torch', 'B_idx_bert_torch', 'pron_idx_bert_torch', \n",
    "        'topic', 'topic_A','topic_B','name_idx_bert_torch', 'neither_list',\n",
    "       'neither_idx_bert_torch',  'label']"
   ]
  },
  {
   "cell_type": "code",
   "execution_count": 3,
   "metadata": {},
   "outputs": [],
   "source": [
    "import pandas as pd\n",
    "for f in file_list:\n",
    "    df = pd.read_pickle(f)\n",
    "    df = df[columns]\n",
    "    df.to_pickle(\"no_vector_\"+f)\n",
    "    "
   ]
  }
 ],
 "metadata": {
  "kernelspec": {
   "display_name": "Python 3",
   "language": "python",
   "name": "python3"
  },
  "language_info": {
   "codemirror_mode": {
    "name": "ipython",
    "version": 3
   },
   "file_extension": ".py",
   "mimetype": "text/x-python",
   "name": "python",
   "nbconvert_exporter": "python",
   "pygments_lexer": "ipython3",
   "version": "3.6.8"
  }
 },
 "nbformat": 4,
 "nbformat_minor": 2
}
