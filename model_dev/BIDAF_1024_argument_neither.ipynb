{
 "cells": [
  {
   "cell_type": "code",
   "execution_count": 1,
   "metadata": {},
   "outputs": [
    {
     "data": {
      "text/plain": [
       "{'train': {'file_path': 'https://raw.githubusercontent.com/google-research-datasets/gap-coreference/master/gap-test.tsv',\n",
       "  'pickle_path': '../temp_result/train_data.pkl',\n",
       "  'pickle_path_augument': '../temp_result/train_data_a.pkl'},\n",
       " 'test': {'file_path': 'https://raw.githubusercontent.com/google-research-datasets/gap-coreference/master/gap-development.tsv',\n",
       "  'pickle_path': '../temp_result/test_data.pkl',\n",
       "  'pickle_path_augument': '../temp_result/test_data_a.pkl'},\n",
       " 'valid': {'file_path': 'https://raw.githubusercontent.com/google-research-datasets/gap-coreference/master/gap-validation.tsv',\n",
       "  'pickle_path': '../temp_result/valid_data.pkl',\n",
       "  'pickle_path_augument': '../temp_result/valid_data_a.pkl'},\n",
       " 'stage2': {'file_path': 'https://raw.githubusercontent.com/google-research-datasets/gap-coreference/master/gap-validation.tsv',\n",
       "  'pickle_path': '../temp_result/stage2_data.pkl'}}"
      ]
     },
     "execution_count": 1,
     "metadata": {},
     "output_type": "execute_result"
    }
   ],
   "source": [
    "import sys\n",
    "import datetime\n",
    "\n",
    "sys.path.append(\"..\")\n",
    "\n",
    "from utils.get_settings import parse\n",
    "\n",
    "settings = parse(\"../utils\")\n",
    "\n",
    "settings"
   ]
  },
  {
   "cell_type": "code",
   "execution_count": 2,
   "metadata": {},
   "outputs": [],
   "source": [
    "model_name = \"BIDAF_1024_argument_neither\""
   ]
  },
  {
   "cell_type": "code",
   "execution_count": 3,
   "metadata": {
    "scrolled": true
   },
   "outputs": [
    {
     "data": {
      "text/plain": [
       "<torch._C.Generator at 0x7f8072cd6f10>"
      ]
     },
     "execution_count": 3,
     "metadata": {},
     "output_type": "execute_result"
    }
   ],
   "source": [
    "import pandas as pd\n",
    "import numpy as np\n",
    "from joblib import dump, load\n",
    "\n",
    "np.random.seed(seed=0)\n",
    "\n",
    "import torch\n",
    "torch.manual_seed(0)"
   ]
  },
  {
   "cell_type": "code",
   "execution_count": 4,
   "metadata": {},
   "outputs": [],
   "source": [
    "train_data = pd.read_pickle(settings[\"train\"][\"pickle_path\"])\n",
    "valid_data = pd.read_pickle(settings[\"valid\"][\"pickle_path\"])\n",
    "\n",
    "train_data = pd.concat([train_data,valid_data],axis = 0)\n",
    "\n",
    "test_data = pd.read_pickle(settings[\"test\"][\"pickle_path\"])"
   ]
  },
  {
   "cell_type": "code",
   "execution_count": 5,
   "metadata": {},
   "outputs": [],
   "source": [
    "train_data_a = pd.read_pickle(settings[\"train\"][\"pickle_path_augument\"])\n",
    "valid_data_a = pd.read_pickle(settings[\"valid\"][\"pickle_path_augument\"])\n",
    "\n",
    "train_data_a = pd.concat([train_data_a,valid_data_a],axis = 0)"
   ]
  },
  {
   "cell_type": "code",
   "execution_count": 6,
   "metadata": {},
   "outputs": [],
   "source": [
    "test_data_a = pd.read_pickle(settings[\"test\"][\"pickle_path_augument\"])"
   ]
  },
  {
   "cell_type": "code",
   "execution_count": 7,
   "metadata": {},
   "outputs": [],
   "source": [
    "train_data[\"hash_value\"] = train_data.vector_bert_1024.map(lambda x:x[0,0])\n",
    "test_data[\"hash_value\"] = test_data.vector_bert_1024.map(lambda x:x[0,0])\n",
    "train_data_a[\"hash_value\"] = train_data_a.vector_bert_1024.map(lambda x:x[0,0])\n",
    "test_data_a[\"hash_value\"] = test_data_a.vector_bert_1024.map(lambda x:x[0,0])"
   ]
  },
  {
   "cell_type": "code",
   "execution_count": 8,
   "metadata": {},
   "outputs": [],
   "source": [
    "columns = ['vector_bert_1024', 'pron_vector_bert_1024_mean','A_idx_bert','B_idx_bert','label','pron_idx_bert','neither_idx_bert','name_idx_bert','hash_value']"
   ]
  },
  {
   "cell_type": "code",
   "execution_count": 9,
   "metadata": {},
   "outputs": [],
   "source": [
    "X_train = train_data[columns]\n",
    "y_train = np.array(train_data.label)\n",
    "\n",
    "X_train_a = train_data_a[columns]\n",
    "y_train_a = np.array(train_data_a.label)\n",
    "\n",
    "X_test = test_data[columns]\n",
    "y_test = np.array(test_data.label)\n",
    "\n",
    "X_test_a = test_data_a[columns]\n",
    "y_test_a = np.array(test_data_a.label)"
   ]
  },
  {
   "cell_type": "code",
   "execution_count": 10,
   "metadata": {},
   "outputs": [
    {
     "name": "stdout",
     "output_type": "stream",
     "text": [
      "[BIDAF][BIDAF][BIDAF][BIDAF][BIDAF]"
     ]
    }
   ],
   "source": [
    "from sklearn.model_selection import KFold \n",
    "from bidaf_neither import BIDAF\n",
    "from sklearn.metrics import log_loss\n",
    "\n",
    "score = []\n",
    "pred_bidaf_tr = np.zeros((X_train.shape[0],3))\n",
    "\n",
    "kf = KFold(n_splits=5) \n",
    "for train_index, test_index in kf.split(X_train):\n",
    "    X_tr, X_ts = X_train.iloc[train_index], X_train.iloc[test_index,:]\n",
    "    y_tr, y_ts = y_train[train_index], y_train[test_index]\n",
    "    \n",
    "    X_tr = pd.concat([X_tr,X_train_a],axis = 0)\n",
    "    y_tr = np.concatenate([y_tr,y_train_a], axis = 0)\n",
    "    #print (X_tr.count())\n",
    "    '''\n",
    "    Important step for reduce data leaking\n",
    "    '''\n",
    "    X_tr[\"label\"] = y_tr\n",
    "    X_tr = X_tr[X_tr.duplicated(subset='hash_value', keep=False)]\n",
    "    y_tr = np.array(X_tr.label)\n",
    "    #X_tr = X_tr.drop(columns = [\"label\"])\n",
    "    #print (X_tr.count())\n",
    "    \n",
    "    bidaf = BIDAF().fit(X_tr, y_tr)\n",
    "    pred_ts = bidaf.predict_proba(X_ts)\n",
    "    s = log_loss(y_ts,pred_ts)\n",
    "    score.append(s)\n",
    "    pred_bidaf_tr[test_index] = pred_ts\n",
    "\n",
    "    "
   ]
  },
  {
   "cell_type": "code",
   "execution_count": 11,
   "metadata": {
    "scrolled": true
   },
   "outputs": [
    {
     "data": {
      "text/plain": [
       "[0.55758300975478,\n",
       " 0.619178276282243,\n",
       " 0.6141326487445152,\n",
       " 0.5419913023675746,\n",
       " 0.6409061953073748]"
      ]
     },
     "execution_count": 11,
     "metadata": {},
     "output_type": "execute_result"
    }
   ],
   "source": [
    "score"
   ]
  },
  {
   "cell_type": "code",
   "execution_count": 12,
   "metadata": {},
   "outputs": [
    {
     "data": {
      "text/plain": [
       "0.5947582864912976"
      ]
     },
     "execution_count": 12,
     "metadata": {},
     "output_type": "execute_result"
    }
   ],
   "source": [
    "np.array(score).mean()"
   ]
  },
  {
   "cell_type": "code",
   "execution_count": 13,
   "metadata": {},
   "outputs": [],
   "source": [
    "X_train = pd.concat([X_train,X_train_a],axis = 0)\n",
    "y_train = np.concatenate([y_train,y_train_a])"
   ]
  },
  {
   "cell_type": "code",
   "execution_count": 14,
   "metadata": {},
   "outputs": [
    {
     "name": "stdout",
     "output_type": "stream",
     "text": [
      "[BIDAF]"
     ]
    },
    {
     "data": {
      "text/plain": [
       "['../ensemble/BIDAF_1024_argument_neither+basic.joblib']"
      ]
     },
     "execution_count": 14,
     "metadata": {},
     "output_type": "execute_result"
    }
   ],
   "source": [
    "bidaf = BIDAF().fit(X_train, y_train)\n",
    "\n",
    "pred_bidaf = bidaf.predict_proba(X_test)\n",
    "\n",
    "dump((pred_bidaf_tr,pred_bidaf), \"../ensemble/\"+ model_name +'+basic.joblib') "
   ]
  },
  {
   "cell_type": "code",
   "execution_count": 15,
   "metadata": {},
   "outputs": [
    {
     "data": {
      "text/plain": [
       "0.5645404996477744"
      ]
     },
     "execution_count": 15,
     "metadata": {},
     "output_type": "execute_result"
    }
   ],
   "source": [
    "log_loss(y_test,pred_bidaf)"
   ]
  },
  {
   "cell_type": "code",
   "execution_count": 16,
   "metadata": {
    "scrolled": true
   },
   "outputs": [
    {
     "data": {
      "text/html": [
       "<div>\n",
       "<style scoped>\n",
       "    .dataframe tbody tr th:only-of-type {\n",
       "        vertical-align: middle;\n",
       "    }\n",
       "\n",
       "    .dataframe tbody tr th {\n",
       "        vertical-align: top;\n",
       "    }\n",
       "\n",
       "    .dataframe thead th {\n",
       "        text-align: right;\n",
       "    }\n",
       "</style>\n",
       "<table border=\"1\" class=\"dataframe\">\n",
       "  <thead>\n",
       "    <tr style=\"text-align: right;\">\n",
       "      <th></th>\n",
       "      <th>ID</th>\n",
       "      <th>A</th>\n",
       "      <th>B</th>\n",
       "      <th>NEITHER</th>\n",
       "    </tr>\n",
       "  </thead>\n",
       "  <tbody>\n",
       "    <tr>\n",
       "      <th>0</th>\n",
       "      <td>development-1</td>\n",
       "      <td>0.453089</td>\n",
       "      <td>0.339345</td>\n",
       "      <td>0.207565</td>\n",
       "    </tr>\n",
       "    <tr>\n",
       "      <th>1</th>\n",
       "      <td>development-2</td>\n",
       "      <td>0.996608</td>\n",
       "      <td>0.001061</td>\n",
       "      <td>0.002331</td>\n",
       "    </tr>\n",
       "    <tr>\n",
       "      <th>2</th>\n",
       "      <td>development-3</td>\n",
       "      <td>0.006806</td>\n",
       "      <td>0.985793</td>\n",
       "      <td>0.007401</td>\n",
       "    </tr>\n",
       "    <tr>\n",
       "      <th>3</th>\n",
       "      <td>development-4</td>\n",
       "      <td>0.253139</td>\n",
       "      <td>0.284167</td>\n",
       "      <td>0.462694</td>\n",
       "    </tr>\n",
       "    <tr>\n",
       "      <th>4</th>\n",
       "      <td>development-5</td>\n",
       "      <td>0.011111</td>\n",
       "      <td>0.980966</td>\n",
       "      <td>0.007923</td>\n",
       "    </tr>\n",
       "  </tbody>\n",
       "</table>\n",
       "</div>"
      ],
      "text/plain": [
       "              ID         A         B   NEITHER\n",
       "0  development-1  0.453089  0.339345  0.207565\n",
       "1  development-2  0.996608  0.001061  0.002331\n",
       "2  development-3  0.006806  0.985793  0.007401\n",
       "3  development-4  0.253139  0.284167  0.462694\n",
       "4  development-5  0.011111  0.980966  0.007923"
      ]
     },
     "execution_count": 16,
     "metadata": {},
     "output_type": "execute_result"
    }
   ],
   "source": [
    "sub_df = pd.read_csv(\"../test_and_submit/sample_submission_stage_1.csv\")\n",
    "sub_df.loc[:, ['A','B','NEITHER']] = pred_bidaf\n",
    "sub_df.to_csv(\"../test_and_submit/submission+model+\"+model_name+\"@\"+str(datetime.datetime.now())+\".csv\", index=False)\n",
    "sub_df.head()"
   ]
  },
  {
   "cell_type": "code",
   "execution_count": 17,
   "metadata": {},
   "outputs": [
    {
     "name": "stdout",
     "output_type": "stream",
     "text": [
      "[BIDAF]"
     ]
    }
   ],
   "source": [
    "X_train = pd.concat([X_train,X_test,X_test_a],axis = 0)\n",
    "y_train = np.concatenate([y_train,y_test,y_test_a],axis = 0)\n",
    "\n",
    "bidaf = BIDAF().fit(X_train, y_train)"
   ]
  },
  {
   "cell_type": "code",
   "execution_count": 18,
   "metadata": {},
   "outputs": [
    {
     "data": {
      "text/plain": [
       "['BIDAF_1024_argument_neither.joblib']"
      ]
     },
     "execution_count": 18,
     "metadata": {},
     "output_type": "execute_result"
    }
   ],
   "source": [
    "dump(bidaf, model_name +'.joblib') "
   ]
  },
  {
   "cell_type": "markdown",
   "metadata": {},
   "source": [
    "--------------------------------------------------------------------------------------"
   ]
  },
  {
   "cell_type": "code",
   "execution_count": 1,
   "metadata": {},
   "outputs": [
    {
     "data": {
      "text/plain": [
       "{'train': {'file_path': 'https://raw.githubusercontent.com/google-research-datasets/gap-coreference/master/gap-test.tsv',\n",
       "  'pickle_path': '../temp_result/train_data.pkl',\n",
       "  'pickle_path_augument': '../temp_result/train_data_a.pkl'},\n",
       " 'test': {'file_path': 'https://raw.githubusercontent.com/google-research-datasets/gap-coreference/master/gap-development.tsv',\n",
       "  'pickle_path': '../temp_result/test_data.pkl',\n",
       "  'pickle_path_augument': '../temp_result/test_data_a.pkl'},\n",
       " 'valid': {'file_path': 'https://raw.githubusercontent.com/google-research-datasets/gap-coreference/master/gap-validation.tsv',\n",
       "  'pickle_path': '../temp_result/valid_data.pkl',\n",
       "  'pickle_path_augument': '../temp_result/valid_data_a.pkl'},\n",
       " 'stage2': {'file_path': 'https://raw.githubusercontent.com/google-research-datasets/gap-coreference/master/gap-validation.tsv',\n",
       "  'pickle_path': '../temp_result/stage2_data.pkl'}}"
      ]
     },
     "execution_count": 1,
     "metadata": {},
     "output_type": "execute_result"
    }
   ],
   "source": [
    "import sys\n",
    "import datetime\n",
    "\n",
    "sys.path.append(\"..\")\n",
    "\n",
    "from utils.get_settings import parse\n",
    "\n",
    "settings = parse(\"../utils\")\n",
    "\n",
    "settings"
   ]
  },
  {
   "cell_type": "code",
   "execution_count": 2,
   "metadata": {},
   "outputs": [
    {
     "name": "stderr",
     "output_type": "stream",
     "text": [
      "/home/bao/anaconda3/envs/EPFL/lib/python3.6/site-packages/ipykernel_launcher.py:15: SettingWithCopyWarning: \n",
      "A value is trying to be set on a copy of a slice from a DataFrame.\n",
      "Try using .loc[row_indexer,col_indexer] = value instead\n",
      "\n",
      "See the caveats in the documentation: http://pandas.pydata.org/pandas-docs/stable/indexing.html#indexing-view-versus-copy\n",
      "  from ipykernel import kernelapp as app\n"
     ]
    },
    {
     "data": {
      "text/plain": [
       "['../ensemble/BIDAF_1024_argument_neither+stage2.joblib']"
      ]
     },
     "execution_count": 2,
     "metadata": {},
     "output_type": "execute_result"
    }
   ],
   "source": [
    "model_name = \"BIDAF_1024_argument_neither\"\n",
    "import joblib\n",
    "import pandas as pd\n",
    "import numpy as np\n",
    "\n",
    "bidaf = joblib.load(model_name +'.joblib')\n",
    "\n",
    "stage2_data = pd.read_pickle(settings[\"stage2\"][\"pickle_path\"])\n",
    "\n",
    "columns = ['vector_bert_1024', 'pron_vector_bert_1024_mean','A_idx_bert',\n",
    "           'B_idx_bert','label','pron_idx_bert','neither_idx_bert','name_idx_bert']\n",
    "columns = [col for col in columns if col!='label']\n",
    "\n",
    "X_test = stage2_data[columns]\n",
    "X_test[\"label\"] = 0\n",
    "\n",
    "pred_bidaf= bidaf.predict_proba(X_test)\n",
    "\n",
    "joblib.dump(pred_bidaf, \"../ensemble/\"+ model_name +'+stage2.joblib')"
   ]
  },
  {
   "cell_type": "markdown",
   "metadata": {},
   "source": [
    "## Viewed by Xingce BAO @4.11"
   ]
  },
  {
   "cell_type": "code",
   "execution_count": null,
   "metadata": {},
   "outputs": [],
   "source": []
  }
 ],
 "metadata": {
  "kernelspec": {
   "display_name": "Python 3",
   "language": "python",
   "name": "python3"
  },
  "language_info": {
   "codemirror_mode": {
    "name": "ipython",
    "version": 3
   },
   "file_extension": ".py",
   "mimetype": "text/x-python",
   "name": "python",
   "nbconvert_exporter": "python",
   "pygments_lexer": "ipython3",
   "version": "3.6.8"
  }
 },
 "nbformat": 4,
 "nbformat_minor": 2
}
