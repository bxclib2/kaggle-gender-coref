{
 "cells": [
  {
   "cell_type": "code",
   "execution_count": 1,
   "metadata": {},
   "outputs": [
    {
     "data": {
      "text/plain": [
       "{'train': {'file_path': 'https://raw.githubusercontent.com/google-research-datasets/gap-coreference/master/gap-test.tsv',\n",
       "  'pickle_path': '../temp_result/train_data.pkl',\n",
       "  'pickle_path_augument': '../temp_result/train_data_a.pkl'},\n",
       " 'test': {'file_path': 'https://raw.githubusercontent.com/google-research-datasets/gap-coreference/master/gap-development.tsv',\n",
       "  'pickle_path': '../temp_result/test_data.pkl',\n",
       "  'pickle_path_augument': '../temp_result/test_data_a.pkl'},\n",
       " 'valid': {'file_path': 'https://raw.githubusercontent.com/google-research-datasets/gap-coreference/master/gap-validation.tsv',\n",
       "  'pickle_path': '../temp_result/valid_data.pkl',\n",
       "  'pickle_path_augument': '../temp_result/valid_data_a.pkl'},\n",
       " 'stage2': {'file_path': 'https://raw.githubusercontent.com/google-research-datasets/gap-coreference/master/gap-validation.tsv',\n",
       "  'pickle_path': '../temp_result/stage2_data.pkl'}}"
      ]
     },
     "execution_count": 1,
     "metadata": {},
     "output_type": "execute_result"
    }
   ],
   "source": [
    "import sys\n",
    "import datetime\n",
    "\n",
    "sys.path.append(\"..\")\n",
    "\n",
    "from utils.get_settings import parse\n",
    "\n",
    "settings = parse(\"../utils\")\n",
    "\n",
    "settings"
   ]
  },
  {
   "cell_type": "code",
   "execution_count": 2,
   "metadata": {},
   "outputs": [],
   "source": [
    "model_name = \"BIDAF_1024_baseline_2class\""
   ]
  },
  {
   "cell_type": "code",
   "execution_count": 3,
   "metadata": {
    "scrolled": true
   },
   "outputs": [
    {
     "data": {
      "text/plain": [
       "<torch._C.Generator at 0x7f70b896dcf0>"
      ]
     },
     "execution_count": 3,
     "metadata": {},
     "output_type": "execute_result"
    }
   ],
   "source": [
    "import pandas as pd\n",
    "import numpy as np\n",
    "from joblib import dump, load\n",
    "\n",
    "np.random.seed(seed=0)\n",
    "\n",
    "import torch\n",
    "torch.manual_seed(0)"
   ]
  },
  {
   "cell_type": "code",
   "execution_count": 4,
   "metadata": {},
   "outputs": [],
   "source": [
    "train_data = pd.read_pickle(settings[\"train\"][\"pickle_path\"])\n",
    "valid_data = pd.read_pickle(settings[\"valid\"][\"pickle_path\"])\n",
    "\n",
    "train_data = pd.concat([train_data,valid_data],axis = 0)\n",
    "\n",
    "test_data = pd.read_pickle(settings[\"test\"][\"pickle_path\"])"
   ]
  },
  {
   "cell_type": "code",
   "execution_count": 5,
   "metadata": {},
   "outputs": [],
   "source": [
    "columns = ['vector_bert_1024', 'pron_vector_bert_1024_mean','A_idx_bert','B_idx_bert','label','pron_idx_bert','neither_idx_bert','name_idx_bert']"
   ]
  },
  {
   "cell_type": "code",
   "execution_count": 6,
   "metadata": {},
   "outputs": [],
   "source": [
    "X_train = train_data[columns]\n",
    "y_train = np.array(train_data.label)\n",
    "\n",
    "\n",
    "X_test = test_data[columns]\n",
    "y_test = np.array(test_data.label)"
   ]
  },
  {
   "cell_type": "code",
   "execution_count": 7,
   "metadata": {},
   "outputs": [
    {
     "name": "stdout",
     "output_type": "stream",
     "text": [
      "[BIDAF][BIDAF][BIDAF][BIDAF][BIDAF]"
     ]
    }
   ],
   "source": [
    "from sklearn.model_selection import KFold \n",
    "from bidaf_2class import BIDAF\n",
    "from sklearn.metrics import log_loss\n",
    "\n",
    "score = []\n",
    "pred_bidaf_tr = np.zeros((X_train.shape[0],2))\n",
    "\n",
    "kf = KFold(n_splits=5) \n",
    "for train_index, test_index in kf.split(X_train):\n",
    "    X_tr, X_ts = X_train.iloc[train_index], X_train.iloc[test_index,:]\n",
    "    y_tr, y_ts = y_train[train_index], y_train[test_index]\n",
    "    X_tr = X_tr[y_tr!=2]\n",
    "    y_tr = y_tr[y_tr!=2]\n",
    "    bidaf = BIDAF().fit(X_tr, y_tr)\n",
    "    pred_ts = bidaf.predict_proba(X_ts)\n",
    "    s = log_loss(y_ts[y_ts!=2],pred_ts[y_ts!=2][:,[0,1]])\n",
    "    score.append(s)\n",
    "    pred_bidaf_tr[test_index] = pred_ts\n",
    "\n",
    "    "
   ]
  },
  {
   "cell_type": "code",
   "execution_count": 8,
   "metadata": {
    "scrolled": false
   },
   "outputs": [
    {
     "data": {
      "text/plain": [
       "[0.3299264548903294,\n",
       " 0.30912147116861366,\n",
       " 0.28266037068811,\n",
       " 0.3202737879706349,\n",
       " 0.32148718879191945]"
      ]
     },
     "execution_count": 8,
     "metadata": {},
     "output_type": "execute_result"
    }
   ],
   "source": [
    "score"
   ]
  },
  {
   "cell_type": "code",
   "execution_count": 9,
   "metadata": {},
   "outputs": [
    {
     "data": {
      "text/plain": [
       "0.31269385470192146"
      ]
     },
     "execution_count": 9,
     "metadata": {},
     "output_type": "execute_result"
    }
   ],
   "source": [
    "np.array(score).mean()"
   ]
  },
  {
   "cell_type": "code",
   "execution_count": 10,
   "metadata": {},
   "outputs": [
    {
     "name": "stdout",
     "output_type": "stream",
     "text": [
      "[BIDAF]"
     ]
    },
    {
     "data": {
      "text/plain": [
       "['../ensemble/BIDAF_1024_baseline_2class+basic.joblib']"
      ]
     },
     "execution_count": 10,
     "metadata": {},
     "output_type": "execute_result"
    }
   ],
   "source": [
    "bidaf = BIDAF().fit(X_train[y_train!=2], y_train[y_train!=2])\n",
    "\n",
    "pred_bidaf = bidaf.predict_proba(X_test)\n",
    "\n",
    "dump((pred_bidaf_tr,pred_bidaf), \"../ensemble/\"+ model_name +'+basic.joblib') "
   ]
  },
  {
   "cell_type": "code",
   "execution_count": 11,
   "metadata": {},
   "outputs": [
    {
     "data": {
      "text/plain": [
       "0.29595431471045125"
      ]
     },
     "execution_count": 11,
     "metadata": {},
     "output_type": "execute_result"
    }
   ],
   "source": [
    "log_loss(y_test[y_test!=2],pred_bidaf[y_test!=2][:,[0,1]])"
   ]
  },
  {
   "cell_type": "code",
   "execution_count": 12,
   "metadata": {},
   "outputs": [
    {
     "name": "stdout",
     "output_type": "stream",
     "text": [
      "[BIDAF]"
     ]
    }
   ],
   "source": [
    "X_train = pd.concat([X_train,X_test],axis = 0)\n",
    "y_train = np.concatenate([y_train,y_test],axis = 0)\n",
    "\n",
    "bidaf = BIDAF().fit(X_train[y_train!=2], y_train[y_train!=2])"
   ]
  },
  {
   "cell_type": "code",
   "execution_count": 13,
   "metadata": {},
   "outputs": [
    {
     "data": {
      "text/plain": [
       "['BIDAF_1024_baseline_2class.joblib']"
      ]
     },
     "execution_count": 13,
     "metadata": {},
     "output_type": "execute_result"
    }
   ],
   "source": [
    "dump(bidaf, model_name +'.joblib') "
   ]
  },
  {
   "cell_type": "markdown",
   "metadata": {},
   "source": [
    "-------------------------------------------------------------------------------------------"
   ]
  },
  {
   "cell_type": "code",
   "execution_count": 1,
   "metadata": {},
   "outputs": [
    {
     "data": {
      "text/plain": [
       "{'train': {'file_path': 'https://raw.githubusercontent.com/google-research-datasets/gap-coreference/master/gap-test.tsv',\n",
       "  'pickle_path': '../temp_result/train_data.pkl',\n",
       "  'pickle_path_augument': '../temp_result/train_data_a.pkl'},\n",
       " 'test': {'file_path': 'https://raw.githubusercontent.com/google-research-datasets/gap-coreference/master/gap-development.tsv',\n",
       "  'pickle_path': '../temp_result/test_data.pkl',\n",
       "  'pickle_path_augument': '../temp_result/test_data_a.pkl'},\n",
       " 'valid': {'file_path': 'https://raw.githubusercontent.com/google-research-datasets/gap-coreference/master/gap-validation.tsv',\n",
       "  'pickle_path': '../temp_result/valid_data.pkl',\n",
       "  'pickle_path_augument': '../temp_result/valid_data_a.pkl'},\n",
       " 'stage2': {'file_path': 'https://raw.githubusercontent.com/google-research-datasets/gap-coreference/master/gap-validation.tsv',\n",
       "  'pickle_path': '../temp_result/stage2_data.pkl'}}"
      ]
     },
     "execution_count": 1,
     "metadata": {},
     "output_type": "execute_result"
    }
   ],
   "source": [
    "import sys\n",
    "import datetime\n",
    "\n",
    "sys.path.append(\"..\")\n",
    "\n",
    "from utils.get_settings import parse\n",
    "\n",
    "settings = parse(\"../utils\")\n",
    "\n",
    "settings"
   ]
  },
  {
   "cell_type": "code",
   "execution_count": 2,
   "metadata": {},
   "outputs": [
    {
     "name": "stderr",
     "output_type": "stream",
     "text": [
      "/home/bao/anaconda3/envs/EPFL/lib/python3.6/site-packages/ipykernel_launcher.py:15: SettingWithCopyWarning: \n",
      "A value is trying to be set on a copy of a slice from a DataFrame.\n",
      "Try using .loc[row_indexer,col_indexer] = value instead\n",
      "\n",
      "See the caveats in the documentation: http://pandas.pydata.org/pandas-docs/stable/indexing.html#indexing-view-versus-copy\n",
      "  from ipykernel import kernelapp as app\n"
     ]
    },
    {
     "data": {
      "text/plain": [
       "['../ensemble/BIDAF_1024_baseline_2class+stage2.joblib']"
      ]
     },
     "execution_count": 2,
     "metadata": {},
     "output_type": "execute_result"
    }
   ],
   "source": [
    "model_name = \"BIDAF_1024_baseline_2class\"\n",
    "import joblib\n",
    "import pandas as pd\n",
    "import numpy as np\n",
    "\n",
    "bidaf = joblib.load(model_name +'.joblib')\n",
    "\n",
    "stage2_data = pd.read_pickle(settings[\"stage2\"][\"pickle_path\"])\n",
    "\n",
    "columns = ['vector_bert_1024', 'pron_vector_bert_1024_mean','A_idx_bert',\n",
    "           'B_idx_bert','label','pron_idx_bert','neither_idx_bert','name_idx_bert']\n",
    "columns = [col for col in columns if col!='label']\n",
    "\n",
    "X_test = stage2_data[columns]\n",
    "X_test[\"label\"] = 0\n",
    "\n",
    "pred_bidaf= bidaf.predict_proba(X_test)\n",
    "\n",
    "joblib.dump(pred_bidaf, \"../ensemble/\"+ model_name +'+stage2.joblib')"
   ]
  },
  {
   "cell_type": "markdown",
   "metadata": {},
   "source": [
    "## Viewed by Xingce BAO @4.10"
   ]
  },
  {
   "cell_type": "code",
   "execution_count": null,
   "metadata": {},
   "outputs": [],
   "source": []
  }
 ],
 "metadata": {
  "kernelspec": {
   "display_name": "Python 3",
   "language": "python",
   "name": "python3"
  },
  "language_info": {
   "codemirror_mode": {
    "name": "ipython",
    "version": 3
   },
   "file_extension": ".py",
   "mimetype": "text/x-python",
   "name": "python",
   "nbconvert_exporter": "python",
   "pygments_lexer": "ipython3",
   "version": "3.6.8"
  }
 },
 "nbformat": 4,
 "nbformat_minor": 2
}
