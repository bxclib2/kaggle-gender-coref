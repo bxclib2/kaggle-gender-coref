{
  "nbformat": 4,
  "nbformat_minor": 0,
  "metadata": {
    "colab": {
      "name": "bert_mlp_2.ipynb",
      "version": "0.3.2",
      "provenance": [],
      "collapsed_sections": [],
      "toc_visible": true
    },
    "language_info": {
      "codemirror_mode": {
        "name": "ipython",
        "version": 3
      },
      "file_extension": ".py",
      "mimetype": "text/x-python",
      "name": "python",
      "nbconvert_exporter": "python",
      "pygments_lexer": "ipython3",
      "version": "3.6.5"
    },
    "kernelspec": {
      "display_name": "Python 3",
      "language": "python",
      "name": "python3"
    },
    "accelerator": "GPU"
  },
  "cells": [
    {
      "metadata": {
        "colab_type": "text",
        "id": "MQx8Dyyo72Yz"
      },
      "cell_type": "markdown",
      "source": [
        "# Load data in pandas"
      ]
    },
    {
      "metadata": {
        "colab_type": "code",
        "id": "upPOhN4A2Bp_",
        "colab": {}
      },
      "cell_type": "code",
      "source": [
        "test_data_a = \"https://drive.google.com/uc?id=1rbhlUfffty5pHWPMPKBhR76dz4jp7ZFb&export=download\"\n",
        "\n",
        "train_data_a = \"https://drive.google.com/uc?id=1UU5wVku8v79aEKknkOBMrKNDZrTxUpJZ&export=download\"\n",
        "\n",
        "test_data = \"https://drive.google.com/uc?id=1Yabjq972kr7pA-HST7MP-9gR0xTSOjs_&export=download\"\n",
        "\n",
        "train_data = \"https://drive.google.com/uc?id=1SButl51QPhJ0WbFniXFLFO-YoxzJ0V3p&export=download\"\n",
        "\n",
        "valid_data = \"https://drive.google.com/uc?id=17EONLP166qnOeedOZrIl5xu5zznRH9b3&export=download\"\n",
        "\n",
        "valid_data_a = \"https://drive.google.com/uc?id=11Txw4zCcyYCJ6TCsr90F-LF2_b63HiZ2&export=download\""
      ],
      "execution_count": 0,
      "outputs": []
    },
    {
      "metadata": {
        "colab_type": "code",
        "id": "3CWoV5IINN-T",
        "outputId": "be490b27-19f0-425a-f05f-b07946814459",
        "colab": {
          "base_uri": "https://localhost:8080/",
          "height": 143
        }
      },
      "cell_type": "code",
      "source": [
        "!pip install pandas==0.24.1 # Google colab pandas is too old to read these pickle\n",
        "!pip install scipy==1.2.1 # Scipy is too low to have the function"
      ],
      "execution_count": 2,
      "outputs": [
        {
          "output_type": "stream",
          "text": [
            "Requirement already satisfied: pandas==0.24.1 in /usr/local/lib/python3.6/dist-packages (0.24.1)\n",
            "Requirement already satisfied: pytz>=2011k in /usr/local/lib/python3.6/dist-packages (from pandas==0.24.1) (2018.9)\n",
            "Requirement already satisfied: numpy>=1.12.0 in /usr/local/lib/python3.6/dist-packages (from pandas==0.24.1) (1.16.2)\n",
            "Requirement already satisfied: python-dateutil>=2.5.0 in /usr/local/lib/python3.6/dist-packages (from pandas==0.24.1) (2.5.3)\n",
            "Requirement already satisfied: six>=1.5 in /usr/local/lib/python3.6/dist-packages (from python-dateutil>=2.5.0->pandas==0.24.1) (1.11.0)\n",
            "Requirement already satisfied: scipy==1.2.1 in /usr/local/lib/python3.6/dist-packages (1.2.1)\n",
            "Requirement already satisfied: numpy>=1.8.2 in /usr/local/lib/python3.6/dist-packages (from scipy==1.2.1) (1.16.2)\n"
          ],
          "name": "stdout"
        }
      ]
    },
    {
      "metadata": {
        "colab_type": "code",
        "id": "EB3jRtj62_7z",
        "colab": {}
      },
      "cell_type": "code",
      "source": [
        "def download(url):\n",
        "  import requests\n",
        "  from io import BytesIO\n",
        "  r = requests.get(url)\n",
        "  data = r.content\n",
        "  df = pd.read_pickle(BytesIO(data),compression = None)\n",
        "  return df"
      ],
      "execution_count": 0,
      "outputs": []
    },
    {
      "metadata": {
        "colab_type": "code",
        "id": "vc5CHFi_3BaI",
        "colab": {}
      },
      "cell_type": "code",
      "source": [
        "import pandas as pd\n",
        "\n",
        "\n",
        "test_data = download(test_data)\n",
        "test_data_a = download(test_data_a)\n",
        "train_data = download(train_data)\n",
        "train_data_a = download(train_data_a)\n",
        "valid_data = download(valid_data)\n",
        "valid_data_a = download(valid_data_a)"
      ],
      "execution_count": 0,
      "outputs": []
    },
    {
      "metadata": {
        "colab_type": "code",
        "id": "trQCDQpV3ETm",
        "outputId": "fad1b71c-f553-473a-ce8c-4cd645e55755",
        "colab": {
          "base_uri": "https://localhost:8080/",
          "height": 161
        }
      },
      "cell_type": "code",
      "source": [
        "train_data.columns"
      ],
      "execution_count": 5,
      "outputs": [
        {
          "output_type": "execute_result",
          "data": {
            "text/plain": [
              "Index(['ID', 'Text', 'Pronoun', 'Pronoun-offset', 'A', 'A-offset', 'A-coref',\n",
              "       'B', 'B-offset', 'B-coref', 'URL', 'bert_tokens_torch', 'name_list',\n",
              "       'token_map_bert', 'sentence_map_bert', 'A_dist_bert', 'B_dist_bert',\n",
              "       'A_pos_bert', 'B_pos_bert', 'pron_pos_bert', 'A_idx_bert_torch',\n",
              "       'B_idx_bert_torch', 'pron_idx_bert_torch', 'topic', 'topic_A',\n",
              "       'topic_B', 'name_idx_bert_torch', 'neither_list',\n",
              "       'neither_idx_bert_torch', 'label'],\n",
              "      dtype='object')"
            ]
          },
          "metadata": {
            "tags": []
          },
          "execution_count": 5
        }
      ]
    },
    {
      "metadata": {
        "colab_type": "text",
        "id": "08LumTML9ReZ"
      },
      "cell_type": "markdown",
      "source": [
        "# Fine-tune BERT-large and mlp model"
      ]
    },
    {
      "metadata": {
        "colab_type": "code",
        "id": "tJAoTvWk6ONn",
        "outputId": "934cf6b8-cd6c-4841-8a58-31e8a5508d8d",
        "colab": {
          "base_uri": "https://localhost:8080/",
          "height": 361
        }
      },
      "cell_type": "code",
      "source": [
        "!pip install pytorch-pretrained-bert\n",
        "import numpy as np\n",
        "import torch\n",
        "from pytorch_pretrained_bert import BertTokenizer, BertModel\n",
        "import torch.nn as nn"
      ],
      "execution_count": 6,
      "outputs": [
        {
          "output_type": "stream",
          "text": [
            "Requirement already satisfied: pytorch-pretrained-bert in /usr/local/lib/python3.6/dist-packages (0.6.1)\n",
            "Requirement already satisfied: regex in /usr/local/lib/python3.6/dist-packages (from pytorch-pretrained-bert) (2018.1.10)\n",
            "Requirement already satisfied: boto3 in /usr/local/lib/python3.6/dist-packages (from pytorch-pretrained-bert) (1.9.130)\n",
            "Requirement already satisfied: tqdm in /usr/local/lib/python3.6/dist-packages (from pytorch-pretrained-bert) (4.28.1)\n",
            "Requirement already satisfied: numpy in /usr/local/lib/python3.6/dist-packages (from pytorch-pretrained-bert) (1.16.2)\n",
            "Requirement already satisfied: requests in /usr/local/lib/python3.6/dist-packages (from pytorch-pretrained-bert) (2.18.4)\n",
            "Requirement already satisfied: torch>=0.4.1 in /usr/local/lib/python3.6/dist-packages (from pytorch-pretrained-bert) (1.0.1.post2)\n",
            "Requirement already satisfied: jmespath<1.0.0,>=0.7.1 in /usr/local/lib/python3.6/dist-packages (from boto3->pytorch-pretrained-bert) (0.9.4)\n",
            "Requirement already satisfied: botocore<1.13.0,>=1.12.130 in /usr/local/lib/python3.6/dist-packages (from boto3->pytorch-pretrained-bert) (1.12.130)\n",
            "Requirement already satisfied: s3transfer<0.3.0,>=0.2.0 in /usr/local/lib/python3.6/dist-packages (from boto3->pytorch-pretrained-bert) (0.2.0)\n",
            "Requirement already satisfied: certifi>=2017.4.17 in /usr/local/lib/python3.6/dist-packages (from requests->pytorch-pretrained-bert) (2019.3.9)\n",
            "Requirement already satisfied: idna<2.7,>=2.5 in /usr/local/lib/python3.6/dist-packages (from requests->pytorch-pretrained-bert) (2.6)\n",
            "Requirement already satisfied: urllib3<1.23,>=1.21.1 in /usr/local/lib/python3.6/dist-packages (from requests->pytorch-pretrained-bert) (1.22)\n",
            "Requirement already satisfied: chardet<3.1.0,>=3.0.2 in /usr/local/lib/python3.6/dist-packages (from requests->pytorch-pretrained-bert) (3.0.4)\n",
            "Requirement already satisfied: docutils>=0.10 in /usr/local/lib/python3.6/dist-packages (from botocore<1.13.0,>=1.12.130->boto3->pytorch-pretrained-bert) (0.14)\n",
            "Requirement already satisfied: python-dateutil<3.0.0,>=2.1; python_version >= \"2.7\" in /usr/local/lib/python3.6/dist-packages (from botocore<1.13.0,>=1.12.130->boto3->pytorch-pretrained-bert) (2.5.3)\n",
            "Requirement already satisfied: six>=1.5 in /usr/local/lib/python3.6/dist-packages (from python-dateutil<3.0.0,>=2.1; python_version >= \"2.7\"->botocore<1.13.0,>=1.12.130->boto3->pytorch-pretrained-bert) (1.11.0)\n",
            "Better speed can be achieved with apex installed from https://www.github.com/nvidia/apex.\n"
          ],
          "name": "stdout"
        }
      ]
    },
    {
      "metadata": {
        "colab_type": "code",
        "id": "VAdhbGXPQ0E3",
        "outputId": "c1928124-1f85-442d-abbf-a56648bf5cfc",
        "colab": {
          "base_uri": "https://localhost:8080/",
          "height": 53
        }
      },
      "cell_type": "code",
      "source": [
        "tokenizer = BertTokenizer.from_pretrained('bert-large-uncased')\n",
        "# form train_data\n",
        "train_all = pd.concat([train_data, valid_data], ignore_index=True, sort=False)\n",
        "# train_all = train_data\n",
        "train_all['indexed_tokens'] = train_all['bert_tokens_torch'].apply(lambda x: tokenizer.convert_tokens_to_ids(x))\n",
        "train_indexed_tokens = list(train_all['indexed_tokens'])\n",
        "train_offsets_A = list(train_all['A_idx_bert_torch'])\n",
        "train_offsets_B = list(train_all['B_idx_bert_torch'])\n",
        "train_offsets_pron = list(train_all['pron_idx_bert_torch'])\n",
        "train_offsets_other = list(train_all['neither_idx_bert_torch'])\n",
        "train_offsets_cls = [np.array([0])]*len(train_offsets_other)\n",
        "train_labels = list(train_all['label'])\n",
        "print('Number of training data is:',len(train_all))\n",
        "\n",
        "\n",
        "# form test_data\n",
        "test_data['indexed_tokens'] = test_data['bert_tokens_torch'].apply(lambda x: tokenizer.convert_tokens_to_ids(x))\n",
        "test_indexed_tokens = list(test_data['indexed_tokens'])\n",
        "test_offsets_A = list(test_data['A_idx_bert_torch'])\n",
        "test_offsets_B = list(test_data['B_idx_bert_torch'])\n",
        "test_offsets_pron = list(test_data['pron_idx_bert_torch'])\n",
        "test_offsets_other = list(test_data['neither_idx_bert_torch'])\n",
        "test_offsets_cls = [np.array([0])]*len(test_offsets_other)\n",
        "test_labels = list(test_data['label'])\n",
        "print('Number of testing data is:',len(test_data))"
      ],
      "execution_count": 7,
      "outputs": [
        {
          "output_type": "stream",
          "text": [
            "Number of training data is: 2454\n",
            "Number of testing data is: 2000\n"
          ],
          "name": "stdout"
        }
      ]
    },
    {
      "metadata": {
        "id": "5_SioIlk2yWc",
        "colab_type": "code",
        "colab": {}
      },
      "cell_type": "code",
      "source": [
        "import numpy as np\n",
        "\n",
        "torch_rd = 19415\n",
        "np.random.seed(seed=0)\n",
        "\n",
        "import torch\n",
        "torch.manual_seed(torch_rd)\n",
        "\n",
        "model_name = \"bert_large_rd\"+str(torch_rd)\n",
        "\n",
        "CV = 0"
      ],
      "execution_count": 0,
      "outputs": []
    },
    {
      "metadata": {
        "colab_type": "code",
        "id": "_k2_wWCC88TK",
        "outputId": "2b632634-5e59-4586-ce30-54148c981574",
        "colab": {
          "base_uri": "https://localhost:8080/",
          "height": 35
        }
      },
      "cell_type": "code",
      "source": [
        "max([len(i) for i in test_indexed_tokens])"
      ],
      "execution_count": 9,
      "outputs": [
        {
          "output_type": "execute_result",
          "data": {
            "text/plain": [
              "348"
            ]
          },
          "metadata": {
            "tags": []
          },
          "execution_count": 9
        }
      ]
    },
    {
      "metadata": {
        "id": "gA2T58t54rG0",
        "colab_type": "code",
        "colab": {}
      },
      "cell_type": "code",
      "source": [
        "from sklearn.model_selection import KFold \n",
        "kf = KFold(n_splits=5) \n",
        "k = 0\n",
        "for train_index, test_index in kf.split(train_labels):\n",
        "  if k == CV:\n",
        "    break\n",
        "  k = k + 1"
      ],
      "execution_count": 0,
      "outputs": []
    },
    {
      "metadata": {
        "id": "HxPTk4ZV7k_B",
        "colab_type": "code",
        "outputId": "a2508ce4-7dd2-43a5-d37c-44471e399778",
        "colab": {
          "base_uri": "https://localhost:8080/",
          "height": 701
        }
      },
      "cell_type": "code",
      "source": [
        "test_index"
      ],
      "execution_count": 11,
      "outputs": [
        {
          "output_type": "execute_result",
          "data": {
            "text/plain": [
              "array([  0,   1,   2,   3,   4,   5,   6,   7,   8,   9,  10,  11,  12,\n",
              "        13,  14,  15,  16,  17,  18,  19,  20,  21,  22,  23,  24,  25,\n",
              "        26,  27,  28,  29,  30,  31,  32,  33,  34,  35,  36,  37,  38,\n",
              "        39,  40,  41,  42,  43,  44,  45,  46,  47,  48,  49,  50,  51,\n",
              "        52,  53,  54,  55,  56,  57,  58,  59,  60,  61,  62,  63,  64,\n",
              "        65,  66,  67,  68,  69,  70,  71,  72,  73,  74,  75,  76,  77,\n",
              "        78,  79,  80,  81,  82,  83,  84,  85,  86,  87,  88,  89,  90,\n",
              "        91,  92,  93,  94,  95,  96,  97,  98,  99, 100, 101, 102, 103,\n",
              "       104, 105, 106, 107, 108, 109, 110, 111, 112, 113, 114, 115, 116,\n",
              "       117, 118, 119, 120, 121, 122, 123, 124, 125, 126, 127, 128, 129,\n",
              "       130, 131, 132, 133, 134, 135, 136, 137, 138, 139, 140, 141, 142,\n",
              "       143, 144, 145, 146, 147, 148, 149, 150, 151, 152, 153, 154, 155,\n",
              "       156, 157, 158, 159, 160, 161, 162, 163, 164, 165, 166, 167, 168,\n",
              "       169, 170, 171, 172, 173, 174, 175, 176, 177, 178, 179, 180, 181,\n",
              "       182, 183, 184, 185, 186, 187, 188, 189, 190, 191, 192, 193, 194,\n",
              "       195, 196, 197, 198, 199, 200, 201, 202, 203, 204, 205, 206, 207,\n",
              "       208, 209, 210, 211, 212, 213, 214, 215, 216, 217, 218, 219, 220,\n",
              "       221, 222, 223, 224, 225, 226, 227, 228, 229, 230, 231, 232, 233,\n",
              "       234, 235, 236, 237, 238, 239, 240, 241, 242, 243, 244, 245, 246,\n",
              "       247, 248, 249, 250, 251, 252, 253, 254, 255, 256, 257, 258, 259,\n",
              "       260, 261, 262, 263, 264, 265, 266, 267, 268, 269, 270, 271, 272,\n",
              "       273, 274, 275, 276, 277, 278, 279, 280, 281, 282, 283, 284, 285,\n",
              "       286, 287, 288, 289, 290, 291, 292, 293, 294, 295, 296, 297, 298,\n",
              "       299, 300, 301, 302, 303, 304, 305, 306, 307, 308, 309, 310, 311,\n",
              "       312, 313, 314, 315, 316, 317, 318, 319, 320, 321, 322, 323, 324,\n",
              "       325, 326, 327, 328, 329, 330, 331, 332, 333, 334, 335, 336, 337,\n",
              "       338, 339, 340, 341, 342, 343, 344, 345, 346, 347, 348, 349, 350,\n",
              "       351, 352, 353, 354, 355, 356, 357, 358, 359, 360, 361, 362, 363,\n",
              "       364, 365, 366, 367, 368, 369, 370, 371, 372, 373, 374, 375, 376,\n",
              "       377, 378, 379, 380, 381, 382, 383, 384, 385, 386, 387, 388, 389,\n",
              "       390, 391, 392, 393, 394, 395, 396, 397, 398, 399, 400, 401, 402,\n",
              "       403, 404, 405, 406, 407, 408, 409, 410, 411, 412, 413, 414, 415,\n",
              "       416, 417, 418, 419, 420, 421, 422, 423, 424, 425, 426, 427, 428,\n",
              "       429, 430, 431, 432, 433, 434, 435, 436, 437, 438, 439, 440, 441,\n",
              "       442, 443, 444, 445, 446, 447, 448, 449, 450, 451, 452, 453, 454,\n",
              "       455, 456, 457, 458, 459, 460, 461, 462, 463, 464, 465, 466, 467,\n",
              "       468, 469, 470, 471, 472, 473, 474, 475, 476, 477, 478, 479, 480,\n",
              "       481, 482, 483, 484, 485, 486, 487, 488, 489, 490])"
            ]
          },
          "metadata": {
            "tags": []
          },
          "execution_count": 11
        }
      ]
    },
    {
      "metadata": {
        "id": "oiWZQFW-8Zt3",
        "colab_type": "code",
        "colab": {}
      },
      "cell_type": "code",
      "source": [
        "if CV in [0,1,2,3,4]:\n",
        "  train_indexed_tokens,test_indexed_tokens = [train_indexed_tokens[i] for i in list(train_index)],[train_indexed_tokens[i] for i in list(test_index)]\n",
        "  train_offsets_A,test_offsets_A = [train_offsets_A[i] for i in list(train_index)],[train_offsets_A[i] for i in list(test_index)]\n",
        "  train_offsets_B,test_offsets_B = [train_offsets_B[i] for i in list(train_index)],[train_offsets_B[i] for i in list(test_index)]\n",
        "  train_offsets_pron,test_offsets_pron = [train_offsets_pron[i] for i in list(train_index)],[train_offsets_pron[i] for i in list(test_index)]\n",
        "  train_offsets_other,test_offsets_other = [train_offsets_other[i] for i in list(train_index)],[train_offsets_other[i] for i in list(test_index)]\n",
        "  train_offsets_cls,test_offsets_cls = [train_offsets_cls[i] for i in list(train_index)],[train_offsets_cls[i] for i in list(test_index)]\n",
        "  train_labels,test_labels = [train_labels[i] for i in list(train_index)],[train_labels[i] for i in list(test_index)]\n",
        "  \n",
        "if CV == 6:\n",
        "  train_indexed_tokens = train_indexed_tokens + test_indexed_tokens\n",
        "  train_offsets_A = train_offsets_A + test_offsets_A\n",
        "  train_offsets_B = train_offsets_B + test_offsets_B\n",
        "  train_offsets_pron = train_offsets_pron + test_offsets_pron\n",
        "  train_offsets_other = train_offsets_other + test_offsets_other\n",
        "  train_offsets_cls = train_offsets_cls + test_offsets_cls\n",
        "  train_labels = train_labels + test_labels\n",
        "  "
      ],
      "execution_count": 0,
      "outputs": []
    },
    {
      "metadata": {
        "colab_type": "code",
        "id": "3Jp1gKOLQ2w4",
        "colab": {}
      },
      "cell_type": "code",
      "source": [
        "class MLP(nn.Module):\n",
        "    def __init__(self, bert_hidden_size):\n",
        "        super().__init__()\n",
        "        self.bert_hidden_size = bert_hidden_size\n",
        "        self.fc = nn.Sequential(\n",
        "            nn.Dropout(0.3),\n",
        "            nn.Linear(bert_hidden_size, 1),\n",
        "\n",
        "        )\n",
        "        \n",
        "    def forward(self, vector):\n",
        "        return self.fc(vector)"
      ],
      "execution_count": 0,
      "outputs": []
    },
    {
      "metadata": {
        "id": "7GLQjwsumNx4",
        "colab_type": "code",
        "colab": {}
      },
      "cell_type": "code",
      "source": [
        "def change_dropout(module,p):\n",
        "    for name in module.__dict__['_modules']:\n",
        "        if name == \"dropout\":\n",
        "            module.__dict__['_modules'][name].p = p\n",
        "        else:\n",
        "            change_dropout(module.__dict__['_modules'][name],p)"
      ],
      "execution_count": 0,
      "outputs": []
    },
    {
      "metadata": {
        "colab_type": "code",
        "id": "Uf9xXkkoiwvy",
        "colab": {}
      },
      "cell_type": "code",
      "source": [
        "def extract_vectors(bert_last_layer, offsets, offsets_mask):\n",
        "    extracted_vectors = bert_last_layer.gather(\n",
        "        1, offsets.unsqueeze(2).expand(-1, -1, 1))\n",
        "    vector_masked = extracted_vectors.mul(offsets_mask.unsqueeze(2).float()).sum(1)/(offsets_mask.sum(1).unsqueeze(1).float())\n",
        "    return vector_masked\n",
        "  \n",
        "def get_padded_and_mask(sequence, left, right):\n",
        "    seq_ori = sequence[left:right]\n",
        "    seq_padded = pad_sequence([torch.Tensor(v) for v in seq_ori],batch_first = True).cuda().long()\n",
        "    mask = (seq_padded != 0).cuda().long()\n",
        "    return seq_padded, mask"
      ],
      "execution_count": 0,
      "outputs": []
    },
    {
      "metadata": {
        "colab_type": "code",
        "id": "mE3Yc5Np_0rD",
        "outputId": "dddbafd1-27c1-433d-f62f-e23d2b36e378",
        "colab": {
          "base_uri": "https://localhost:8080/",
          "height": 377
        }
      },
      "cell_type": "code",
      "source": [
        "from torch.nn.utils.rnn import pad_sequence\n",
        "sub_batch = 2 # batch size越大越差？不知道什么操作\n",
        "acc_time = 8\n",
        "acc_counter = 0\n",
        "EPOCHS = 1\n",
        "  \n",
        "\n",
        "loss_c = nn.CrossEntropyLoss()\n",
        "loss_c.cuda()\n",
        "bert = BertModel.from_pretrained('bert-large-uncased')\n",
        "bert =  bert.cuda()\n",
        "change_dropout(bert,0.15) # 上面28的情况下改成dropout 0.1会爆内存\n",
        "\n",
        "mlp = MLP(1024).cuda()\n",
        "change_dropout(mlp,0)\n",
        "\n",
        "#opt = torch.optim.Adam([\n",
        "#     {'params': bert.parameters(), 'lr': 2e-5},{'params': mlp.parameters()}\n",
        "# ], lr=1e-3)\n",
        "# opt = torch.optim.SGD(list(bert.parameters()) + list(mlp.parameters()), lr = 2e-5, momentum = 2e-4)\n",
        "opt = torch.optim.Adam(list(bert.parameters()) + list(mlp.parameters()), lr=2e-5)\n",
        "\n",
        "for e in range(1, EPOCHS+1):\n",
        "  for b in range(0,len(train_offsets_cls),sub_batch):\n",
        "    start = b\n",
        "    end = min(len(train_offsets_cls),b+sub_batch)\n",
        "  \n",
        "    tr_X_padded, attention_mask = get_padded_and_mask(train_indexed_tokens, start, end)\n",
        "    tr_Y = torch.tensor(train_labels[start:end]).cuda()\n",
        "    tr_A_padded, tr_A_mask = get_padded_and_mask(train_offsets_A, start, end)\n",
        "    tr_B_padded, tr_B_mask = get_padded_and_mask(train_offsets_B, start, end)\n",
        "    tr_other_padded, tr_other_mask = get_padded_and_mask([np.array(list(i)+list(j)) for i,j in zip(train_offsets_cls,train_offsets_pron)], start, end)\n",
        "    segments_tensors = torch.zeros(tr_X_padded.size()).cuda().long()\n",
        "    \n",
        "    encoded_bert, _ = bert(tr_X_padded, segments_tensors,attention_mask,output_all_encoded_layers=False)\n",
        "    \n",
        "    pred_ = mlp(encoded_bert)\n",
        "    pred = torch.cat([extract_vectors(pred_, tr_A_padded, tr_A_mask),\\\n",
        "                              extract_vectors(pred_, tr_B_padded, tr_B_mask),extract_vectors(pred_, tr_other_padded, tr_other_mask)],1)\n",
        "\n",
        "    loss = loss_c(pred, tr_Y)\n",
        "\n",
        "    loss.backward()\n",
        "    acc_counter = acc_counter+1\n",
        "    if acc_counter == acc_time:\n",
        "      opt.step()\n",
        "      acc_counter = 0\n",
        "      opt.zero_grad()\n",
        "      torch.cuda.empty_cache()\n",
        "    if b%100 == 0:\n",
        "      print (\"Epoch =\",e,\"loss = \",loss.item())"
      ],
      "execution_count": 16,
      "outputs": [
        {
          "output_type": "stream",
          "text": [
            "Epoch = 1 loss =  1.1574223041534424\n",
            "Epoch = 1 loss =  1.0246069431304932\n",
            "Epoch = 1 loss =  0.8755170106887817\n",
            "Epoch = 1 loss =  0.6332923173904419\n",
            "Epoch = 1 loss =  1.5022794008255005\n",
            "Epoch = 1 loss =  0.22496867179870605\n",
            "Epoch = 1 loss =  0.06795275211334229\n",
            "Epoch = 1 loss =  0.7569471597671509\n",
            "Epoch = 1 loss =  1.3980152606964111\n",
            "Epoch = 1 loss =  0.5227921605110168\n",
            "Epoch = 1 loss =  0.20769333839416504\n",
            "Epoch = 1 loss =  0.17039060592651367\n",
            "Epoch = 1 loss =  0.23409408330917358\n",
            "Epoch = 1 loss =  0.5435210466384888\n",
            "Epoch = 1 loss =  0.14981615543365479\n",
            "Epoch = 1 loss =  0.04577898979187012\n",
            "Epoch = 1 loss =  0.4594902992248535\n",
            "Epoch = 1 loss =  0.014090299606323242\n",
            "Epoch = 1 loss =  0.44399213790893555\n",
            "Epoch = 1 loss =  0.0655813217163086\n"
          ],
          "name": "stdout"
        }
      ]
    },
    {
      "metadata": {
        "colab_type": "code",
        "id": "AcOCZPyEE6Wi",
        "outputId": "8cdd8019-7d1b-4929-ebc9-476857fb674d",
        "colab": {
          "base_uri": "https://localhost:8080/",
          "height": 35
        }
      },
      "cell_type": "code",
      "source": [
        "re = []\n",
        "bert.eval()\n",
        "mlp.eval()\n",
        "with torch.no_grad():\n",
        "  for b in range(0,len(test_offsets_cls),1):\n",
        "    start = b\n",
        "    end = min(len(test_offsets_cls),b+1)\n",
        "    tr_X_padded, attention_mask = get_padded_and_mask(test_indexed_tokens, start, end)\n",
        "    tr_Y = torch.tensor(test_labels[start:end]).cuda()\n",
        "    tr_A_padded, tr_A_mask = get_padded_and_mask(test_offsets_A, start, end)\n",
        "    tr_B_padded, tr_B_mask = get_padded_and_mask(test_offsets_B, start, end)\n",
        "    tr_other_padded, tr_other_mask = get_padded_and_mask([np.array(list(i)+list(j)) for i,j in zip(test_offsets_cls,test_offsets_pron)], start, end)\n",
        "    segments_tensors = torch.zeros(tr_X_padded.size()).cuda().long()\n",
        "    \n",
        "    encoded_bert, _ = bert(tr_X_padded, segments_tensors,attention_mask,output_all_encoded_layers=False)\n",
        "    \n",
        "    pred_ = mlp(encoded_bert)\n",
        "    pred = torch.cat([extract_vectors(pred_, tr_A_padded, tr_A_mask),\\\n",
        "                              extract_vectors(pred_, tr_B_padded, tr_B_mask),extract_vectors(pred_, tr_other_padded, tr_other_mask)],1)\n",
        "    pred_data = pred.data.cpu().numpy()\n",
        "    re.append(pred_data)\n",
        "\n",
        "loss_c = nn.CrossEntropyLoss()\n",
        "\n",
        "loss_data = loss_c(torch.Tensor(np.concatenate(re).reshape(-1,3)),torch.Tensor(test_labels).long())\n",
        "print('Loss for test data is:', loss_data)"
      ],
      "execution_count": 17,
      "outputs": [
        {
          "output_type": "stream",
          "text": [
            "Loss for test data is: tensor(0.4078)\n"
          ],
          "name": "stdout"
        }
      ]
    },
    {
      "metadata": {
        "id": "RWGMWUGwR0nO",
        "colab_type": "code",
        "colab": {}
      },
      "cell_type": "code",
      "source": [
        "import os\n",
        "from joblib import dump, load\n",
        "from scipy.special import softmax\n",
        "pred = np.zeros((len(train_all),3))\n",
        "\n",
        "if CV in [0,1,2,3,4]:\n",
        "  if os.path.exists(model_name+'+basic.joblib'):\n",
        "    pred = load(model_name+'+basic.joblib')\n",
        "    os.remove(model_name+'+basic.joblib')\n",
        "  pred[test_index,:] = softmax(np.concatenate(re).reshape(-1,3),axis = 1)\n",
        "  dump(pred,model_name+'+basic.joblib')\n",
        "\n",
        "if CV == 5:\n",
        "  if os.path.exists(model_name+'+basic.joblib'):\n",
        "    pred_tr = load(model_name+'+basic.joblib')\n",
        "    os.remove(model_name+'+basic.joblib')\n",
        "  pred = softmax(np.concatenate(re).reshape(-1,3),axis = 1)\n",
        "  dump((pred_tr,pred),model_name+'+basic.joblib')\n",
        "  \n",
        "if CV == 6:\n",
        "  dump((bert,mlp),model_name +'.joblib')\n",
        "  \n",
        "\n",
        "\n",
        "  \n",
        "  \n",
        "\n",
        "      \n",
        "      "
      ],
      "execution_count": 0,
      "outputs": []
    },
    {
      "metadata": {
        "id": "G62mRA6WCT3_",
        "colab_type": "code",
        "colab": {}
      },
      "cell_type": "code",
      "source": [
        ""
      ],
      "execution_count": 0,
      "outputs": []
    }
  ]
}